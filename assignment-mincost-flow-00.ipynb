{
 "cells": [
  {
   "cell_type": "markdown",
   "metadata": {},
   "source": [
    "# Assignment as a min cost flow 00\n",
    "\n",
    "This example uses the more general _minimum cost flow_ solve.\n",
    "\n",
    "This requires different node numbering than the original assignment example, because the minimum cost solver requires all nodes to have distinct numbering."
   ]
  },
  {
   "cell_type": "code",
   "execution_count": 2,
   "metadata": {},
   "outputs": [],
   "source": [
    "from ortools.graph import pywrapgraph\n",
    "import time"
   ]
  },
  {
   "cell_type": "markdown",
   "metadata": {},
   "source": [
    "## Define the directed graph for the flow. These are divided into three sub-arrays:\n",
    "\n",
    "1. Arcs leading out of the source\n",
    "2. Flows between workers and tasks, for which there are non-zero costs\n",
    "3. Arce leading into the sink.\n",
    "\n",
    "The data also includes the vector `supplies`: the supply at each node $0-9$.\n",
    "\n",
    "The condition of _flow in equals flow out_ forces the flow out of each worker to be $1$. This also forces each task to be be assigned to a worker for this configuration.\n"
   ]
  },
  {
   "cell_type": "code",
   "execution_count": 11,
   "metadata": {},
   "outputs": [],
   "source": [
    "def main():\n",
    "    \"\"\"\n",
    "    Solve an assignment problem with MinCostFlow\n",
    "    \"\"\"\n",
    "    \n",
    "    # instantiate a simple SimpleMinCostFlow solver\n",
    "    min_cost_flow = pywrapgraph.SimpleMinCostFlow()\n",
    "    \n",
    "    # define the directed graph for the flow\n",
    "    start_nodes =  [0, 0, 0, 0] + [ 1,  1,  1,  1,  2,  2,  2,  2,   3,  3,  3,   3,  4,   4,  4,   4] + [5, 6, 7, 8]\n",
    "    end_nodes   =  [1, 2, 3, 4] + [ 5,  6,  7,  8,  5,  6,  7,  8,   5,  6,  7,   8,  5,   6,  7,   8] + [9, 9, 9, 9]\n",
    "    capacities  =  [1, 1, 1, 1] + [ 1,  1,  1,  1,  1,  1,  1,  1,   1,  1,  1,   1,  1,   1,  1,   1] + [1, 1, 1, 1]\n",
    "    costs       = ([0, 0, 0, 0] + [90, 76, 75, 70, 35, 85, 55, 65, 125, 95, 90, 105, 45, 110, 95, 115] + [0, 0, 0, 0])\n",
    "\n",
    "    supplies = [4, 0, 0, 0, 0, 0, 0, 0, 0, -4]\n",
    "    source = 0\n",
    "    sink = 9\n",
    "    tasks = 4\n",
    "    \n",
    "    # add each arc\n",
    "    for i in range(len(start_nodes)):\n",
    "        min_cost_flow.AddArcWithCapacityAndUnitCost(start_nodes[i], end_nodes[i], capacities[i], costs[i])\n",
    "    \n",
    "    # add node supplies\n",
    "    for i in range(len(supplies)):\n",
    "        min_cost_flow.SetNodeSupply(i, supplies[i])\n",
    "    \n",
    "    # invoke the solver and display the solution\n",
    "    if min_cost_flow.Solve() == min_cost_flow.OPTIMAL:\n",
    "        print('Total cost = %d.' % (min_cost_flow.OptimalCost()))\n",
    "        print()\n",
    "        for arc in range(min_cost_flow.NumArcs()):\n",
    "            \n",
    "            # can ignore the nodes from source and to sink\n",
    "            if min_cost_flow.Tail(arc) != source and min_cost_flow.Head(arc) != sink:\n",
    "                \n",
    "                # arcs in the solution have a flow value of 1. Their start and\n",
    "                # end nodes give an assignment of worker to task.\n",
    "                if min_cost_flow.Flow(arc) > 0:\n",
    "                    print('Worker %d assigned to task %d; cost = %d.' % (\n",
    "                    min_cost_flow.Tail(arc),\n",
    "                    min_cost_flow.Head(arc),\n",
    "                    min_cost_flow.UnitCost(arc)))\n",
    "                    \n",
    "    else:\n",
    "        print('There was an issue; no optimal solution found.')   "
   ]
  },
  {
   "cell_type": "code",
   "execution_count": 12,
   "metadata": {},
   "outputs": [
    {
     "name": "stdout",
     "output_type": "stream",
     "text": [
      "Total cost = 265.\n",
      "\n",
      "Worker 1 assigned to task 8; cost = 70.\n",
      "Worker 2 assigned to task 7; cost = 55.\n",
      "Worker 3 assigned to task 6; cost = 95.\n",
      "Worker 4 assigned to task 5; cost = 45.\n",
      "\n",
      "Time =  0.0005429999999995161\n"
     ]
    }
   ],
   "source": [
    "if __name__ == \"__main__\":\n",
    "    start_time = time.clock()\n",
    "    main()\n",
    "    print()\n",
    "    print(\"Time = \", time.clock() - start_time)"
   ]
  },
  {
   "cell_type": "code",
   "execution_count": null,
   "metadata": {},
   "outputs": [],
   "source": []
  }
 ],
 "metadata": {
  "kernelspec": {
   "display_name": "Python 3",
   "language": "python",
   "name": "python3"
  },
  "language_info": {
   "codemirror_mode": {
    "name": "ipython",
    "version": 3
   },
   "file_extension": ".py",
   "mimetype": "text/x-python",
   "name": "python",
   "nbconvert_exporter": "python",
   "pygments_lexer": "ipython3",
   "version": "3.6.4"
  }
 },
 "nbformat": 4,
 "nbformat_minor": 2
}
