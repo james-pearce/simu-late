{
 "cells": [
  {
   "cell_type": "markdown",
   "metadata": {},
   "source": [
    "# Initial broad optimization for number of offers\n",
    "\n",
    "Because we couldn't use the OR tools to calculate the full picture for multiple customers above around 80, investigate a two-stage process:\n",
    "\n",
    "  1. Determine the number of offers to make using mean probabilities over the customer space.\n",
    "  2. Use Bob Agnew's dual optimization to calculate the final allocations\n",
    "\n",
    "| Run | Size | Time (s)  | Value  |\n",
    "|-----|------|-----------|--------|\n",
    "|   1 |  27  |  0.9      |    603 |\n",
    "|   2 |  50  |  1.8      |  1 283 |\n",
    "|   3 |  75  |  0.25     |  1 975 | \n",
    "|   4 |  85  |  0.55     |  2 227 |\n",
    "|   5 |  90  |   --      |  --    |\n",
    "\n"
   ]
  },
  {
   "cell_type": "code",
   "execution_count": 1,
   "metadata": {},
   "outputs": [],
   "source": [
    "from ortools.linear_solver import pywraplp\n",
    "import time\n",
    "import numpy as np\n",
    "from __future__ import print_function\n",
    "\n",
    "n_obs_new = 27"
   ]
  },
  {
   "cell_type": "markdown",
   "metadata": {},
   "source": [
    "We have four product types:\n",
    "\n",
    "  * car loan\n",
    "  * savings\n",
    "  * mortgage\n",
    "  * pension\n",
    "  \n",
    "Each product has a different `productValue`: the revenue that can be obtained for the product on average. To get a fair representation of marketing across the various offers, each is allocated a `budgetShare`. "
   ]
  },
  {
   "cell_type": "code",
   "execution_count": 2,
   "metadata": {},
   "outputs": [],
   "source": [
    "products = ['Car loan', 'Savings', 'Mortgage', 'Pension']\n",
    "productValue = [100, 200, 300, 400]\n",
    "budgetShare = [0.6, 0.1, 0.2, 0.1]"
   ]
  },
  {
   "cell_type": "markdown",
   "metadata": {},
   "source": [
    "  \n",
    "Each product these can be offered over one of the following channels:\n",
    "\n",
    "  * gift\n",
    "  * newsletter\n",
    "  * seminar\n",
    "  \n",
    "Each of these channels has different costs, and each has a different _influence factor_. We use the influence to weight the estimated value of the response accordingly."
   ]
  },
  {
   "cell_type": "code",
   "execution_count": 3,
   "metadata": {},
   "outputs": [],
   "source": [
    "channels = ['gift', 'newsletter', 'seminar']\n",
    "cost = [20, 15, 23]\n",
    "factor = [0.2, 0.05, 0.3]"
   ]
  },
  {
   "cell_type": "markdown",
   "metadata": {},
   "source": [
    "Budget needs to be less than the available marketing budget of $ \\$500$."
   ]
  },
  {
   "cell_type": "code",
   "execution_count": 4,
   "metadata": {},
   "outputs": [],
   "source": [
    "availableBudget = 500"
   ]
  },
  {
   "cell_type": "markdown",
   "metadata": {},
   "source": [
    "Read in the offers data, originally from IBM and massaged. It gives the probability of taking an offer by each customer.\n",
    "\n",
    "Rather than using the full 10,000, test that it works on a smaller size."
   ]
  },
  {
   "cell_type": "code",
   "execution_count": 5,
   "metadata": {},
   "outputs": [
    {
     "data": {
      "text/html": [
       "<div>\n",
       "<style scoped>\n",
       "    .dataframe tbody tr th:only-of-type {\n",
       "        vertical-align: middle;\n",
       "    }\n",
       "\n",
       "    .dataframe tbody tr th {\n",
       "        vertical-align: top;\n",
       "    }\n",
       "\n",
       "    .dataframe thead th {\n",
       "        text-align: right;\n",
       "    }\n",
       "</style>\n",
       "<table border=\"1\" class=\"dataframe\">\n",
       "  <thead>\n",
       "    <tr style=\"text-align: right;\">\n",
       "      <th></th>\n",
       "      <th>customerid</th>\n",
       "      <th>name</th>\n",
       "      <th>Car loan</th>\n",
       "      <th>Savings</th>\n",
       "      <th>Mortgage</th>\n",
       "      <th>Pension</th>\n",
       "    </tr>\n",
       "  </thead>\n",
       "  <tbody>\n",
       "    <tr>\n",
       "      <th>0</th>\n",
       "      <td>0</td>\n",
       "      <td>Matthew Harvey</td>\n",
       "      <td>0.000000</td>\n",
       "      <td>0.000000</td>\n",
       "      <td>0.000000</td>\n",
       "      <td>0.000000</td>\n",
       "    </tr>\n",
       "    <tr>\n",
       "      <th>1</th>\n",
       "      <td>1</td>\n",
       "      <td>Joshua Wilcox</td>\n",
       "      <td>0.000000</td>\n",
       "      <td>0.000000</td>\n",
       "      <td>0.179932</td>\n",
       "      <td>0.000000</td>\n",
       "    </tr>\n",
       "    <tr>\n",
       "      <th>2</th>\n",
       "      <td>2</td>\n",
       "      <td>Yolanda Vasquez</td>\n",
       "      <td>0.330731</td>\n",
       "      <td>0.580556</td>\n",
       "      <td>0.000000</td>\n",
       "      <td>0.000000</td>\n",
       "    </tr>\n",
       "    <tr>\n",
       "      <th>3</th>\n",
       "      <td>3</td>\n",
       "      <td>Jessica Alvarado</td>\n",
       "      <td>0.000000</td>\n",
       "      <td>0.630242</td>\n",
       "      <td>0.509746</td>\n",
       "      <td>0.000000</td>\n",
       "    </tr>\n",
       "    <tr>\n",
       "      <th>4</th>\n",
       "      <td>4</td>\n",
       "      <td>Gregory Martinez</td>\n",
       "      <td>0.000000</td>\n",
       "      <td>0.320511</td>\n",
       "      <td>0.000000</td>\n",
       "      <td>0.288832</td>\n",
       "    </tr>\n",
       "  </tbody>\n",
       "</table>\n",
       "</div>"
      ],
      "text/plain": [
       "   customerid              name  Car loan   Savings  Mortgage   Pension\n",
       "0           0    Matthew Harvey  0.000000  0.000000  0.000000  0.000000\n",
       "1           1     Joshua Wilcox  0.000000  0.000000  0.179932  0.000000\n",
       "2           2   Yolanda Vasquez  0.330731  0.580556  0.000000  0.000000\n",
       "3           3  Jessica Alvarado  0.000000  0.630242  0.509746  0.000000\n",
       "4           4  Gregory Martinez  0.000000  0.320511  0.000000  0.288832"
      ]
     },
     "execution_count": 5,
     "metadata": {},
     "output_type": "execute_result"
    }
   ],
   "source": [
    "import pandas\n",
    "\n",
    "product_probs_orig = pandas.read_csv('offers_ibm_pivot.csv')\n",
    "n_obs_original = product_probs_orig.shape[0]\n",
    "\n",
    "product_probs = pandas.read_csv('sample_data_10000.csv')\n",
    "# product_probs = product_probs[product_probs.index > product_probs.shape[0] - n_obs_new]\n",
    "product_probs = product_probs[product_probs.index < n_obs_new]\n",
    "n_obs = product_probs.shape[0]\n",
    "\n",
    "adjustment_factor = n_obs/n_obs_original\n",
    "availableBudget = availableBudget*adjustment_factor\n",
    "\n",
    "product_probs.rename(columns={'Unnamed: 0': 'customerid'}, inplace=True)\n",
    "product_probs.head()"
   ]
  },
  {
   "cell_type": "markdown",
   "metadata": {},
   "source": [
    "Calculate the average probabilities by customer. In the first instance, include zeroes as a valid probability. Also calculate the numbers we could reasonably offer to."
   ]
  },
  {
   "cell_type": "code",
   "execution_count": 6,
   "metadata": {},
   "outputs": [],
   "source": [
    "product_probs = product_probs.replace(0, np.NaN)\n",
    "product_probs_mean = product_probs[['Car loan', 'Savings', 'Mortgage', 'Pension']].mean()\n",
    "product_probs_count = product_probs[['Car loan', 'Savings', 'Mortgage', 'Pension']].count()"
   ]
  },
  {
   "cell_type": "markdown",
   "metadata": {},
   "source": [
    "> **Note:** I will need to add the counts as constraints on the products."
   ]
  },
  {
   "cell_type": "markdown",
   "metadata": {},
   "source": [
    "Instantiate the solver as an MIP problem."
   ]
  },
  {
   "cell_type": "code",
   "execution_count": 7,
   "metadata": {},
   "outputs": [],
   "source": [
    "solver = pywraplp.Solver('SolveCampaignProblem', pywraplp.Solver.CBC_MIXED_INTEGER_PROGRAMMING)"
   ]
  },
  {
   "cell_type": "markdown",
   "metadata": {},
   "source": [
    "Define the number of customers, the number of offers and the number of channel as $x_{ijk}$."
   ]
  },
  {
   "cell_type": "code",
   "execution_count": 8,
   "metadata": {},
   "outputs": [],
   "source": [
    "num_customers = product_probs.shape[0]\n",
    "num_products = len(products)\n",
    "num_channels = len(channels)\n",
    "\n",
    "x = {}\n",
    "\n",
    "for j in range(num_products):\n",
    "    for k in range(num_channels):\n",
    "        x[j, k] = solver.IntVar(0, num_customers, 'x[%i,%i]' % (j, k))"
   ]
  },
  {
   "cell_type": "markdown",
   "metadata": {},
   "source": [
    "### Set up the constraints\n",
    "\n",
    "  1. Offer only at most one product per customer.\n",
    "  2. Do not exceed the budget.\n",
    "  3. Balance the offers/customers among products.\n",
    "  "
   ]
  },
  {
   "cell_type": "code",
   "execution_count": 9,
   "metadata": {},
   "outputs": [],
   "source": [
    "    ## offer only one product per customer\n",
    "    solver.Add(solver.Sum([x[j, k] \n",
    "                               for j in range(num_products)\n",
    "                               for k in range(num_channels)\n",
    "                              ]) <= num_customers) \n",
    "\n",
    "    ## Do not exceed the budget\n",
    "    solver.Add(solver.Sum([x[j, k]*cost[k]\n",
    "                           for j in range(num_products)\n",
    "                           for k in range(num_channels)\n",
    "                          ]) <= availableBudget)\n",
    "    \n",
    "    ## Balance the offers/customers among products\n",
    "    for j in range(num_products):\n",
    "        solver.Add(solver.Sum([x[j, k]\n",
    "                               for k in range(num_channels)\n",
    "            ]) <= budgetShare[j]*solver.Sum([x[j, k]\n",
    "                                            for j in range(num_products)\n",
    "                                            for k in range(num_channels)\n",
    "                                            ]) )\n",
    "\n",
    "#    for j in range(num_products):\n",
    "#        solver.Add(solver.Sum([x[j, k]\n",
    "#                             for k in range(num_channels)])\n",
    "#                  <= product_probs_count[j])"
   ]
  },
  {
   "cell_type": "markdown",
   "metadata": {},
   "source": [
    "### Maximize revenue\n",
    "\n",
    "We want to maximize revenue $R$. Here $x_{ijk}$ denotes whether customer $i$ receives an offer for product $j$ over channel $k$, $f_k$ denotes the channel adjustment factor, $v_j$ the product value and $p_{ij}$ the probability that customer $i$ takes up product $j$.\n",
    "\n",
    "$ \\max R = \\sum_{ijk} x_{ijk} \\times f_k \\times v_j \\times p_{ij}$"
   ]
  },
  {
   "cell_type": "code",
   "execution_count": 10,
   "metadata": {},
   "outputs": [],
   "source": [
    "solver.Maximize(solver.Sum([x[j, k]*factor[k]*productValue[j]*product_probs_mean[j]\n",
    "                           for j in range(num_products)\n",
    "                           for k in range(num_channels)]))"
   ]
  },
  {
   "cell_type": "markdown",
   "metadata": {},
   "source": [
    "### Invoke the solver"
   ]
  },
  {
   "cell_type": "code",
   "execution_count": 11,
   "metadata": {},
   "outputs": [],
   "source": [
    "# Invoke the solver\n",
    "t = time.process_time()\n",
    "sol = solver.Solve()\n",
    "elapsed_time = time.process_time() - t"
   ]
  },
  {
   "cell_type": "markdown",
   "metadata": {},
   "source": [
    "Print out the solution. We can print out more information about the constraints."
   ]
  },
  {
   "cell_type": "code",
   "execution_count": 12,
   "metadata": {},
   "outputs": [
    {
     "name": "stdout",
     "output_type": "stream",
     "text": [
      "Total revenue = 445\n",
      "Total budget  = 460\n",
      "Time =  0.011603999999999948  seconds.\n"
     ]
    },
    {
     "data": {
      "text/html": [
       "<div>\n",
       "<style scoped>\n",
       "    .dataframe tbody tr th:only-of-type {\n",
       "        vertical-align: middle;\n",
       "    }\n",
       "\n",
       "    .dataframe tbody tr th {\n",
       "        vertical-align: top;\n",
       "    }\n",
       "\n",
       "    .dataframe thead th {\n",
       "        text-align: right;\n",
       "    }\n",
       "</style>\n",
       "<table border=\"1\" class=\"dataframe\">\n",
       "  <thead>\n",
       "    <tr style=\"text-align: right;\">\n",
       "      <th></th>\n",
       "      <th>channel</th>\n",
       "      <th>product</th>\n",
       "      <th>number</th>\n",
       "      <th>cost</th>\n",
       "      <th>revenue</th>\n",
       "    </tr>\n",
       "  </thead>\n",
       "  <tbody>\n",
       "    <tr>\n",
       "      <th>0</th>\n",
       "      <td>seminar</td>\n",
       "      <td>Car loan</td>\n",
       "      <td>12.0</td>\n",
       "      <td>276.0</td>\n",
       "      <td>162.525834</td>\n",
       "    </tr>\n",
       "    <tr>\n",
       "      <th>1</th>\n",
       "      <td>seminar</td>\n",
       "      <td>Savings</td>\n",
       "      <td>2.0</td>\n",
       "      <td>46.0</td>\n",
       "      <td>73.769771</td>\n",
       "    </tr>\n",
       "    <tr>\n",
       "      <th>2</th>\n",
       "      <td>seminar</td>\n",
       "      <td>Mortgage</td>\n",
       "      <td>4.0</td>\n",
       "      <td>92.0</td>\n",
       "      <td>128.514192</td>\n",
       "    </tr>\n",
       "    <tr>\n",
       "      <th>3</th>\n",
       "      <td>seminar</td>\n",
       "      <td>Pension</td>\n",
       "      <td>2.0</td>\n",
       "      <td>46.0</td>\n",
       "      <td>80.202494</td>\n",
       "    </tr>\n",
       "  </tbody>\n",
       "</table>\n",
       "</div>"
      ],
      "text/plain": [
       "   channel   product  number   cost     revenue\n",
       "0  seminar  Car loan    12.0  276.0  162.525834\n",
       "1  seminar   Savings     2.0   46.0   73.769771\n",
       "2  seminar  Mortgage     4.0   92.0  128.514192\n",
       "3  seminar   Pension     2.0   46.0   80.202494"
      ]
     },
     "metadata": {},
     "output_type": "display_data"
    }
   ],
   "source": [
    "report = [(channels[k], products[j], x[j, k].solution_value(), x[j, k].solution_value()*cost[k],\n",
    "          x[j, k].solution_value()*factor[k]*productValue[j]*product_probs_mean[j]) \n",
    "          for j in range(num_products) \n",
    "          for k in range(num_channels)  if x[j, k].solution_value() > 0]\n",
    "\n",
    "report_bd = pandas.DataFrame(report, columns=['channel', 'product', 'number', 'cost', 'revenue'])\n",
    "\n",
    "print('Total revenue = %d' % (solver.Objective().Value()))\n",
    "print('Total budget  = %d' % (report_bd['cost'].sum()) )\n",
    "print('Time = ', elapsed_time, \" seconds.\")\n",
    "display(report_bd)"
   ]
  },
  {
   "cell_type": "code",
   "execution_count": 13,
   "metadata": {},
   "outputs": [
    {
     "data": {
      "text/plain": [
       "Car loan     45.146065\n",
       "Savings     122.949619\n",
       "Mortgage    107.095160\n",
       "Pension     133.670824\n",
       "dtype: float64"
      ]
     },
     "execution_count": 13,
     "metadata": {},
     "output_type": "execute_result"
    }
   ],
   "source": [
    "product_probs_mean*productValue"
   ]
  },
  {
   "cell_type": "code",
   "execution_count": 14,
   "metadata": {},
   "outputs": [
    {
     "data": {
      "text/plain": [
       "[100, 200, 300, 400]"
      ]
     },
     "execution_count": 14,
     "metadata": {},
     "output_type": "execute_result"
    }
   ],
   "source": [
    "productValue"
   ]
  },
  {
   "cell_type": "code",
   "execution_count": 15,
   "metadata": {},
   "outputs": [
    {
     "data": {
      "text/plain": [
       "Car loan    0.451461\n",
       "Savings     0.614748\n",
       "Mortgage    0.356984\n",
       "Pension     0.334177\n",
       "dtype: float64"
      ]
     },
     "execution_count": 15,
     "metadata": {},
     "output_type": "execute_result"
    }
   ],
   "source": [
    "product_probs_mean"
   ]
  },
  {
   "cell_type": "code",
   "execution_count": 16,
   "metadata": {},
   "outputs": [
    {
     "data": {
      "text/plain": [
       "[20, 15, 23]"
      ]
     },
     "execution_count": 16,
     "metadata": {},
     "output_type": "execute_result"
    }
   ],
   "source": [
    "cost"
   ]
  },
  {
   "cell_type": "code",
   "execution_count": null,
   "metadata": {},
   "outputs": [],
   "source": []
  }
 ],
 "metadata": {
  "kernelspec": {
   "display_name": "Python 3",
   "language": "python",
   "name": "python3"
  },
  "language_info": {
   "codemirror_mode": {
    "name": "ipython",
    "version": 3
   },
   "file_extension": ".py",
   "mimetype": "text/x-python",
   "name": "python",
   "nbconvert_exporter": "python",
   "pygments_lexer": "ipython3",
   "version": "3.6.4"
  }
 },
 "nbformat": 4,
 "nbformat_minor": 2
}
