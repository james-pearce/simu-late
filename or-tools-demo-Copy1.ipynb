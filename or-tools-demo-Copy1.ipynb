{
 "cells": [
  {
   "cell_type": "markdown",
   "metadata": {},
   "source": [
    "# OR-tools\n",
    "\n",
    "This is for me to find out how to use the OR-tools from Google in Python."
   ]
  },
  {
   "cell_type": "code",
   "execution_count": 1,
   "metadata": {},
   "outputs": [],
   "source": [
    "from ortools.constraint_solver import pywrapcp"
   ]
  },
  {
   "cell_type": "code",
   "execution_count": 2,
   "metadata": {},
   "outputs": [],
   "source": [
    "solver = pywrapcp.Solver(\"cp-example\")"
   ]
  },
  {
   "cell_type": "markdown",
   "metadata": {},
   "source": [
    "Create the variables:"
   ]
  },
  {
   "cell_type": "code",
   "execution_count": 4,
   "metadata": {},
   "outputs": [],
   "source": [
    "num_vals = 3\n",
    "x = solver.IntVar(0, num_vals - 1, \"x\")\n",
    "y = solver.IntVar(0, num_vals - 1, \"y\")\n",
    "z = solver.IntVar(0, num_vals - 1, \"z\")"
   ]
  },
  {
   "cell_type": "markdown",
   "metadata": {},
   "source": [
    "Constraint: $x \\ne y; x \\ne z$"
   ]
  },
  {
   "cell_type": "code",
   "execution_count": 8,
   "metadata": {},
   "outputs": [],
   "source": [
    "solver.Add(x != y)\n",
    "solver.Add(x != z)"
   ]
  },
  {
   "cell_type": "markdown",
   "metadata": {},
   "source": [
    "## Decision builder"
   ]
  },
  {
   "cell_type": "code",
   "execution_count": 9,
   "metadata": {},
   "outputs": [],
   "source": [
    "db = solver.Phase([x, y, z], solver.CHOOSE_FIRST_UNBOUND, solver.ASSIGN_MIN_VALUE)"
   ]
  },
  {
   "cell_type": "markdown",
   "metadata": {},
   "source": [
    "## Solve\n",
    "Call the solver with `db` as an input and display the results."
   ]
  },
  {
   "cell_type": "code",
   "execution_count": 10,
   "metadata": {},
   "outputs": [
    {
     "name": "stdout",
     "output_type": "stream",
     "text": [
      "Solution 1 \n",
      "\n",
      "x =  0\n",
      "y =  1\n",
      "z =  1\n",
      "\n",
      "Solution 2 \n",
      "\n",
      "x =  0\n",
      "y =  1\n",
      "z =  2\n",
      "\n",
      "Solution 3 \n",
      "\n",
      "x =  0\n",
      "y =  2\n",
      "z =  1\n",
      "\n",
      "Solution 4 \n",
      "\n",
      "x =  0\n",
      "y =  2\n",
      "z =  2\n",
      "\n",
      "Solution 5 \n",
      "\n",
      "x =  1\n",
      "y =  0\n",
      "z =  0\n",
      "\n",
      "Solution 6 \n",
      "\n",
      "x =  1\n",
      "y =  0\n",
      "z =  2\n",
      "\n",
      "Solution 7 \n",
      "\n",
      "x =  1\n",
      "y =  2\n",
      "z =  0\n",
      "\n",
      "Solution 8 \n",
      "\n",
      "x =  1\n",
      "y =  2\n",
      "z =  2\n",
      "\n",
      "Solution 9 \n",
      "\n",
      "x =  2\n",
      "y =  0\n",
      "z =  0\n",
      "\n",
      "Solution 10 \n",
      "\n",
      "x =  2\n",
      "y =  0\n",
      "z =  1\n",
      "\n",
      "Solution 11 \n",
      "\n",
      "x =  2\n",
      "y =  1\n",
      "z =  0\n",
      "\n",
      "Solution 12 \n",
      "\n",
      "x =  2\n",
      "y =  1\n",
      "z =  1\n",
      "\n",
      "Number of solutions: 12\n"
     ]
    }
   ],
   "source": [
    "solver.Solve(db)\n",
    "count = 0\n",
    "\n",
    "while solver.NextSolution():\n",
    "    count += 1\n",
    "    print(\"Solution\", count, '\\n')\n",
    "    print(\"x = \", x.Value())\n",
    "    print(\"y = \", y.Value())\n",
    "    print(\"z = \", z.Value())\n",
    "    print()\n",
    "print(\"Number of solutions:\", count)"
   ]
  },
  {
   "cell_type": "markdown",
   "metadata": {},
   "source": [
    "Objective function: $\\max f(x, y) = 3x + 4y$"
   ]
  },
  {
   "cell_type": "code",
   "execution_count": null,
   "metadata": {},
   "outputs": [],
   "source": [
    "objective = solver.Objective()\n",
    "objective.SetCoefficient(x, 3)\n",
    "objective.SetCoefficient(y, 4)\n",
    "objective.SetMaximization()\n"
   ]
  },
  {
   "cell_type": "markdown",
   "metadata": {},
   "source": [
    "Solve the system."
   ]
  },
  {
   "cell_type": "code",
   "execution_count": null,
   "metadata": {},
   "outputs": [],
   "source": [
    "solver.Solve()\n",
    "opt_solution = 3*x.solution_value() + 4*y.solution_value()\n",
    "print('Number of variables = ', solver.NumVariables())\n",
    "print('Number of constraints = ', solver.NumConstraints())"
   ]
  },
  {
   "cell_type": "markdown",
   "metadata": {},
   "source": [
    "The value of each variable in the equation."
   ]
  },
  {
   "cell_type": "code",
   "execution_count": null,
   "metadata": {},
   "outputs": [],
   "source": [
    "print('Solution:')\n",
    "print('x = ', x.solution_value())\n",
    "print('y = ', y.solution_value())"
   ]
  },
  {
   "cell_type": "markdown",
   "metadata": {},
   "source": [
    "The objective value of the solution."
   ]
  },
  {
   "cell_type": "code",
   "execution_count": null,
   "metadata": {},
   "outputs": [],
   "source": [
    "print('Objective function:')\n",
    "print('Value = ', opt_solution)"
   ]
  },
  {
   "cell_type": "code",
   "execution_count": null,
   "metadata": {},
   "outputs": [],
   "source": [
    "print('Constraint 1: ', x.solution_value() - 2*y.solution_value())\n",
    "print('Constraint 2: ', 3*x.solution_value() - y.solution_value())\n",
    "print('Constraint 3: ', x.solution_value() - y.solution_value())"
   ]
  },
  {
   "cell_type": "code",
   "execution_count": null,
   "metadata": {},
   "outputs": [],
   "source": []
  }
 ],
 "metadata": {
  "kernelspec": {
   "display_name": "Python 3",
   "language": "python",
   "name": "python3"
  },
  "language_info": {
   "codemirror_mode": {
    "name": "ipython",
    "version": 3
   },
   "file_extension": ".py",
   "mimetype": "text/x-python",
   "name": "python",
   "nbconvert_exporter": "python",
   "pygments_lexer": "ipython3",
   "version": "3.6.4"
  }
 },
 "nbformat": 4,
 "nbformat_minor": 2
}
