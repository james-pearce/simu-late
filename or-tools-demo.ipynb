{
 "cells": [
  {
   "cell_type": "markdown",
   "metadata": {},
   "source": [
    "# OR-tools\n",
    "\n",
    "This is for me to find out how to use the OR-tools from Google in Python."
   ]
  },
  {
   "cell_type": "code",
   "execution_count": 4,
   "metadata": {},
   "outputs": [],
   "source": [
    "from ortools.linear_solver import pywraplp"
   ]
  },
  {
   "cell_type": "code",
   "execution_count": 5,
   "metadata": {},
   "outputs": [],
   "source": [
    "solver = pywraplp.Solver(\"linear-example\", pywraplp.Solver.GLOP_LINEAR_PROGRAMMING)"
   ]
  },
  {
   "cell_type": "markdown",
   "metadata": {},
   "source": [
    "Create the variables:"
   ]
  },
  {
   "cell_type": "code",
   "execution_count": 6,
   "metadata": {},
   "outputs": [],
   "source": [
    "x = solver.NumVar(-solver.infinity(), solver.infinity(), 'x')\n",
    "y = solver.NumVar(-solver.infinity(), solver.infinity(), 'y')"
   ]
  },
  {
   "cell_type": "markdown",
   "metadata": {},
   "source": [
    "Constraint 1: $x + 2y \\le 14$"
   ]
  },
  {
   "cell_type": "code",
   "execution_count": 7,
   "metadata": {},
   "outputs": [],
   "source": [
    "constraint1 = solver.Constraint(-solver.infinity(), 14)\n",
    "constraint1.SetCoefficient(x, 1)\n",
    "constraint1.SetCoefficient(y, 2)"
   ]
  },
  {
   "cell_type": "markdown",
   "metadata": {},
   "source": [
    "Constraint 2: $3x - y \\ge 0$"
   ]
  },
  {
   "cell_type": "code",
   "execution_count": 8,
   "metadata": {},
   "outputs": [],
   "source": [
    "constraint2 = solver.Constraint(0, solver.infinity())\n",
    "constraint2.SetCoefficient(x, 3)\n",
    "constraint2.SetCoefficient(y, -1)"
   ]
  },
  {
   "cell_type": "markdown",
   "metadata": {},
   "source": [
    "Constraint 3: $x - y \\le 2$"
   ]
  },
  {
   "cell_type": "code",
   "execution_count": 10,
   "metadata": {},
   "outputs": [],
   "source": [
    "constraint3 = solver.Constraint(-solver.infinity(), 2)\n",
    "constraint3.SetCoefficient(x, 1)\n",
    "constraint3.SetCoefficient(y, -1)"
   ]
  },
  {
   "cell_type": "markdown",
   "metadata": {},
   "source": [
    "Objective function: $\\max f(x, y) = 3x + 4y$"
   ]
  },
  {
   "cell_type": "code",
   "execution_count": 11,
   "metadata": {},
   "outputs": [],
   "source": [
    "objective = solver.Objective()\n",
    "objective.SetCoefficient(x, 3)\n",
    "objective.SetCoefficient(y, 4)\n",
    "objective.SetMaximization()\n"
   ]
  },
  {
   "cell_type": "markdown",
   "metadata": {},
   "source": [
    "Solve the system."
   ]
  },
  {
   "cell_type": "code",
   "execution_count": 13,
   "metadata": {},
   "outputs": [
    {
     "name": "stdout",
     "output_type": "stream",
     "text": [
      "Number of variables =  2\n",
      "Number of constraints =  3\n"
     ]
    }
   ],
   "source": [
    "solver.Solve()\n",
    "opt_solution = 3*x.solution_value() + 4*y.solution_value()\n",
    "print('Number of variables = ', solver.NumVariables())\n",
    "print('Number of constraints = ', solver.NumConstraints())"
   ]
  },
  {
   "cell_type": "markdown",
   "metadata": {},
   "source": [
    "The value of each variable in the equation."
   ]
  },
  {
   "cell_type": "code",
   "execution_count": 14,
   "metadata": {},
   "outputs": [
    {
     "name": "stdout",
     "output_type": "stream",
     "text": [
      "Solution:\n",
      "x =  5.999999999999998\n",
      "y =  3.9999999999999996\n"
     ]
    }
   ],
   "source": [
    "print('Solution:')\n",
    "print('x = ', x.solution_value())\n",
    "print('y = ', y.solution_value())"
   ]
  },
  {
   "cell_type": "markdown",
   "metadata": {},
   "source": [
    "The objective value of the solution."
   ]
  },
  {
   "cell_type": "code",
   "execution_count": 15,
   "metadata": {},
   "outputs": [
    {
     "name": "stdout",
     "output_type": "stream",
     "text": [
      "Objective function:\n",
      "Value =  33.99999999999999\n"
     ]
    }
   ],
   "source": [
    "print('Objective function:')\n",
    "print('Value = ', opt_solution)"
   ]
  },
  {
   "cell_type": "code",
   "execution_count": 16,
   "metadata": {},
   "outputs": [
    {
     "name": "stdout",
     "output_type": "stream",
     "text": [
      "Constraint 1:  -2.000000000000001\n",
      "Constraint 2:  13.999999999999993\n",
      "Constraint 3:  1.9999999999999987\n"
     ]
    }
   ],
   "source": [
    "print('Constraint 1: ', x.solution_value() - 2*y.solution_value())\n",
    "print('Constraint 2: ', 3*x.solution_value() - y.solution_value())\n",
    "print('Constraint 3: ', x.solution_value() - y.solution_value())"
   ]
  },
  {
   "cell_type": "code",
   "execution_count": null,
   "metadata": {},
   "outputs": [],
   "source": []
  }
 ],
 "metadata": {
  "kernelspec": {
   "display_name": "Python 3",
   "language": "python",
   "name": "python3"
  },
  "language_info": {
   "codemirror_mode": {
    "name": "ipython",
    "version": 3
   },
   "file_extension": ".py",
   "mimetype": "text/x-python",
   "name": "python",
   "nbconvert_exporter": "python",
   "pygments_lexer": "ipython3",
   "version": "3.6.4"
  }
 },
 "nbformat": 4,
 "nbformat_minor": 2
}
