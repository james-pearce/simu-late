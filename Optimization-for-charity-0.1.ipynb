{
 "cells": [
  {
   "cell_type": "markdown",
   "metadata": {},
   "source": [
    "# Optimization\n",
    "\n",
    "Using real data from a fundraising organisation, this workbook shows a prototype of marketing optimization. It works in conjunction with an Excel spreadsheet used as the presentation layer and the user interface – `01-optimize-nswcc.xlsm`.\n",
    "\n",
    "## To do\n",
    "\n",
    "  * Move the configuration settings to a file (YAML) or Excel.\n",
    "  * Configure mapping for the customer file to the standard fields:\n",
    "    - `customerid`\n",
    "    - `value`\n",
    "    - `response` (optional)\n",
    "  * Define a threshold at where a file needs to be read externally rather than in the Excel tab, say 20,000.\n",
    "  \n",
    "## Interface\n",
    "\n",
    "Talking with Nadav, want to make the interface simple, even wizard-driven.\n",
    "\n",
    "  1. Set budget min/max (all optional)\n",
    "  \n",
    "      1. overall\n",
    "      2. by channel\n",
    "      3. by product\n",
    "      \n",
    "  2. Select offers\n",
    "     \n",
    "     1. Pull in associated probabilities or values for the offers. Offers are linked to products.\n",
    "  \n",
    "  3. Select channels\n",
    "  \n",
    "    1. costs\n",
    "    2. adjustment factors for the probabilities or values above\n",
    "    \n",
    "  4. Set exclusions\n",
    "  \n",
    "  \n",
    "## Data requirements\n",
    "\n",
    "  * Product information\n",
    "  * Channel information\n",
    "  * Customer expected value for a product–channel offer\n",
    "  \n",
    "## Set up the project"
   ]
  },
  {
   "cell_type": "code",
   "execution_count": 1,
   "metadata": {},
   "outputs": [],
   "source": [
    "import xlwings as xw\n",
    "import pandas as pd\n",
    "from ortools.linear_solver import pywraplp\n",
    "import numpy as np\n",
    "import os\n",
    "\n",
    "sample_size = 70 # initial sample to optimize on\n",
    "number_of_samples = 10 # not used yet\n",
    "\n",
    "wb = xw.Book(r'myproject/01-optimize-nswcc.xlsm')  # connect to an existing file \n",
    "\n",
    "trace = False # if true, print out diagnostic information"
   ]
  },
  {
   "cell_type": "markdown",
   "metadata": {},
   "source": [
    "## Read in product and channel information\n",
    "\n",
    "Read in customer, product and channel information from Excel.\n",
    "\n",
    "As the customer data is comparatively large, we will read it from a `.csv` then load it into the Excel spreadsheet.\n",
    "\n",
    "> **To do** Need to map the input files with the key types of field:\n",
    "\n",
    "  * Customer key\n",
    "  * Product/offer name (in the product tab)\n",
    "  * Response or actual (for testing and validation)\n"
   ]
  },
  {
   "cell_type": "code",
   "execution_count": 2,
   "metadata": {},
   "outputs": [],
   "source": [
    "customer_data_filename = \"constituent_value.csv\"\n",
    "customer_data_directory = \"/Users/jamespearce/repos/simu-late\"\n",
    "customer_df = pd.read_csv(customer_data_filename)\n",
    "customer_df.columns = [\"customerid\", \"response\", \"product\", \"value\"]"
   ]
  },
  {
   "cell_type": "markdown",
   "metadata": {},
   "source": [
    "Write to the customer tab."
   ]
  },
  {
   "cell_type": "code",
   "execution_count": 3,
   "metadata": {},
   "outputs": [],
   "source": [
    "customer_sheet = wb.sheets['customer_data']\n",
    "customer_records_threshold = 20000\n",
    "\n",
    "if customer_df.shape[0] <= customer_records_threshold:\n",
    "    customer_sheet.range('A1').value = customer_df\n",
    "    customer_in_tab = True\n",
    "else:\n",
    "    customer_sheet.range('A1').value = os.path.join(customer_data_directory, customer_data_filename)\n",
    "    customer_in_tab = False"
   ]
  },
  {
   "cell_type": "markdown",
   "metadata": {},
   "source": [
    "Read in the data from the Excel tabs."
   ]
  },
  {
   "cell_type": "code",
   "execution_count": 4,
   "metadata": {},
   "outputs": [],
   "source": [
    "product_sheet = wb.sheets['products']\n",
    "channel_sheet = wb.sheets['channels']\n",
    "scenario_sheet = wb.sheets['Scenario A']"
   ]
  },
  {
   "cell_type": "code",
   "execution_count": 5,
   "metadata": {},
   "outputs": [],
   "source": [
    "product_probs_all = customer_sheet.range('A1').options(pd.DataFrame, expand='table').value if customer_in_tab else customer_df.copy()\n",
    "products_df = product_sheet.range('A1').options(pd.DataFrame, expand='table').value\n",
    "\n",
    "# is the value of products in the table or in customer\n",
    "product_in_customer = True\n",
    "\n",
    "products = products_df.index\n",
    "if not(product_in_customer):\n",
    "    productValue = products_df.loc[:, 'value'] \n",
    "\n",
    "channels_df = channel_sheet.range('A1').options(pd.DataFrame, expand='table').value\n",
    "channels = channels_df.index\n",
    "cost = channels_df['cost']\n",
    "factor = channels_df['factor']\n",
    "\n",
    "sample_scaling = sample_size/product_probs_all.shape[0]"
   ]
  },
  {
   "cell_type": "code",
   "execution_count": 6,
   "metadata": {},
   "outputs": [],
   "source": [
    "product_value_list = [product_probs_all.copy() for j in channels]"
   ]
  },
  {
   "cell_type": "code",
   "execution_count": 7,
   "metadata": {},
   "outputs": [],
   "source": [
    "for j, channel in enumerate(channels):\n",
    "#     print(j, channel)\n",
    "    product_value_list[j]['channel'] = channel\n",
    "# product_value_list\n",
    "product_value = pd.concat(product_value_list)\n",
    "# product_value.set_index(['customerid', 'product', 'channel'], inplace=True)\n"
   ]
  },
  {
   "cell_type": "markdown",
   "metadata": {},
   "source": [
    "Update `product_probs` so that all revenue calculations exist at the customer level. This means add in the factor to the `value` column."
   ]
  },
  {
   "cell_type": "code",
   "execution_count": 8,
   "metadata": {},
   "outputs": [],
   "source": [
    "product_value = product_value.merge(channels_df[['cost', 'factor']], left_on='channel', right_index=True, copy=True)\n",
    "product_value.set_index(['customerid', 'product', 'channel'], inplace=True)"
   ]
  },
  {
   "cell_type": "code",
   "execution_count": 9,
   "metadata": {},
   "outputs": [],
   "source": [
    "# product_value.head()"
   ]
  },
  {
   "cell_type": "code",
   "execution_count": 10,
   "metadata": {},
   "outputs": [],
   "source": [
    "## Multi-index slicing\n",
    "idx = pd.IndexSlice\n",
    "# product_value.loc[idx[1,:,:], idx[:]].head()"
   ]
  },
  {
   "cell_type": "markdown",
   "metadata": {},
   "source": [
    "> **Note**: because of the sparse notation, deal with missing instead of zero value in the constraints and objective value calculation."
   ]
  },
  {
   "cell_type": "code",
   "execution_count": 11,
   "metadata": {},
   "outputs": [],
   "source": [
    "# put some checks/tests in place\n",
    "if any(products.isnull()):\n",
    "    print(\"Null values exist in products\")\n",
    "    \n",
    "if any(channels.isnull()):\n",
    "    print(\"Null values exist in channels\")\n",
    "    \n",
    "if any(cost.isnull()):\n",
    "    print(\"Null values exist in channel cost\")\n",
    "    \n",
    "if any(factor.isnull()):\n",
    "    print(\"Null values exist is channel response multiplier (factor)\")"
   ]
  },
  {
   "cell_type": "markdown",
   "metadata": {},
   "source": [
    "Get the available marketing budget from the `Scenario` sheet."
   ]
  },
  {
   "cell_type": "code",
   "execution_count": 12,
   "metadata": {},
   "outputs": [
    {
     "name": "stdout",
     "output_type": "stream",
     "text": [
      "Sampled available budget: 32\n"
     ]
    }
   ],
   "source": [
    "budget_range = scenario_sheet.range('budgetConstraints').value\n",
    "availableBudget_total = budget_range[1]\n",
    "if availableBudget_total == None:\n",
    "    availableBudget = None\n",
    "    print(\"No budget constraints.\")\n",
    "else:\n",
    "    availableBudget = availableBudget_total*sample_scaling # scale to sample_size for initial optimization\n",
    "    print(\"Sampled available budget: %d\" % availableBudget)\n"
   ]
  },
  {
   "cell_type": "markdown",
   "metadata": {},
   "source": [
    "Create a sample of size `sample_size` for the initial optimization.\n"
   ]
  },
  {
   "cell_type": "code",
   "execution_count": 13,
   "metadata": {},
   "outputs": [],
   "source": [
    "num_products = len(products)\n",
    "random_seed = 2058\n",
    "np.random.seed(random_seed)\n",
    "customerid_sample = np.random.choice(product_probs_all['customerid'].unique(), sample_size)\n",
    "product_probs = product_probs_all[product_probs_all['customerid'].isin(customerid_sample)]"
   ]
  },
  {
   "cell_type": "markdown",
   "metadata": {},
   "source": [
    "Instantiate the solver as an MIP problem."
   ]
  },
  {
   "cell_type": "code",
   "execution_count": 14,
   "metadata": {},
   "outputs": [],
   "source": [
    "solver = pywraplp.Solver('SolveCampaignProblem', pywraplp.Solver.CBC_MIXED_INTEGER_PROGRAMMING)\n",
    "solver.Clear()"
   ]
  },
  {
   "cell_type": "markdown",
   "metadata": {},
   "source": [
    "Define the number of customers, the number of offers and the number of channels as $x_{ijk}$."
   ]
  },
  {
   "cell_type": "code",
   "execution_count": 15,
   "metadata": {},
   "outputs": [
    {
     "name": "stdout",
     "output_type": "stream",
     "text": [
      "Number of customers: 70\n",
      "Number of products: 4\n",
      "Number of channels: 4\n"
     ]
    }
   ],
   "source": [
    "num_customers = len(product_probs['customerid'].unique())\n",
    "num_channels = len(channels)\n",
    "\n",
    "x = {}\n",
    "\n",
    "for i in range(num_customers):\n",
    "    for j in range(num_products):\n",
    "        for k in range(num_channels):\n",
    "            x[i, j, k] = solver.IntVar(0, 1, 'x[%i,%i,%i]' % (i, j, k))\n",
    "\n",
    "print('Number of customers: %d' % num_customers)\n",
    "print('Number of products: %d' % num_products)\n",
    "print('Number of channels: %d' % num_channels)"
   ]
  },
  {
   "cell_type": "markdown",
   "metadata": {},
   "source": [
    "## Set up the constraints\n",
    "\n",
    "  1. Offer only one product per customer. \n",
    "  \n",
    "      _(**TO DO:** update this.)_  Can be done trivially by expanding out the \n",
    "     different combinations of products and restricting _those_ to one per \n",
    "     customer.\n",
    "     \n",
    "  2. Adhere to budget, channel and product constraints from the Excel spreadsheet.\n",
    "  \n",
    "  3. Adhere to number of offer constraints.\n",
    "  \n"
   ]
  },
  {
   "cell_type": "code",
   "execution_count": 16,
   "metadata": {},
   "outputs": [],
   "source": [
    "    ## offer only one product per customer\n",
    "    max_offers_per_customer = 1\n",
    "    for i in range(num_customers):\n",
    "        solver.Add(solver.Sum([x[i, j, k] \n",
    "                               for j in range(num_products)\n",
    "                               for k in range(num_channels)\n",
    "                              ]) <= max_offers_per_customer) \n",
    "\n",
    "    ## Do not exceed the budget\n",
    "    ### channel-specific costs; later -- include in customer-level calculations\n",
    "    if availableBudget != None:\n",
    "        solver.Add(solver.Sum([x[i, j, k]*cost[k]\n",
    "                               for i in range(num_customers)\n",
    "                               for j in range(num_products)\n",
    "                               for k in range(num_channels)\n",
    "                              ]) <= availableBudget)"
   ]
  },
  {
   "cell_type": "markdown",
   "metadata": {},
   "source": [
    "### Get the channel constraints"
   ]
  },
  {
   "cell_type": "markdown",
   "metadata": {},
   "source": [
    "Adjust the constraints for the sample size."
   ]
  },
  {
   "cell_type": "code",
   "execution_count": 17,
   "metadata": {},
   "outputs": [],
   "source": [
    "channels_df['minimum offers adjusted'] = channels_df['minimum offers']*sample_scaling\n",
    "channels_df['maximum offers adjusted'] = channels_df['maximum offers']*sample_scaling\n",
    "channels_df['minimum expenditure adjusted'] = channels_df['minimum expenditure']*sample_scaling\n",
    "channels_df['maximum expenditure adjusted'] = channels_df['maximum expenditure']*sample_scaling\n",
    "channels_df['minimum revenue adjusted'] = channels_df['minimum revenue']*sample_scaling\n",
    "channels_df['maximum revenue adjusted'] = channels_df['maximum revenue']*sample_scaling"
   ]
  },
  {
   "cell_type": "markdown",
   "metadata": {},
   "source": [
    "### Set the channel constraints"
   ]
  },
  {
   "cell_type": "code",
   "execution_count": 18,
   "metadata": {},
   "outputs": [],
   "source": [
    "# minimums for channel\n",
    "if channels_df['minimum offers adjusted'].notnull().any():\n",
    "    for k in range(num_channels):\n",
    "        if pd.notnull(channels_df.loc[channels[k], 'minimum offers adjusted']):\n",
    "            solver.Add(solver.Sum([x[i, j, k]\n",
    "                for i in range(num_customers)\n",
    "                for j in range(num_products)\n",
    "                ]) >= channels_df.loc[channels[k], 'minimum offers adjusted'])\n",
    "\n",
    "# maxima for channel\n",
    "if channels_df['maximum offers adjusted'].notnull().any():\n",
    "    for k in range(num_channels):\n",
    "        if pd.notnull(channels_df.loc[channels[k], 'maximum offers adjusted']):\n",
    "            solver.Add(solver.Sum([x[i, j, k]\n",
    "                for i in range(num_customers)\n",
    "                for j in range(num_products)\n",
    "                ]) <= channels_df.loc[channels[k], 'maximum offers adjusted'])\n",
    "\n",
    "# minimums for channel\n",
    "if channels_df['minimum expenditure adjusted'].notnull().any():\n",
    "    for k in range(num_channels):\n",
    "        if pd.notnull(channels_df.loc[channels[k], 'minimum expenditure adjusted']):\n",
    "            solver.Add(solver.Sum([x[i, j, k]*cost[k]\n",
    "                for i in range(num_customers)\n",
    "                for j in range(num_products)\n",
    "                ]) >= channels_df.loc[channels[k], 'minimum expenditure adjusted'])\n",
    "\n",
    "# maximums for channel\n",
    "if channels_df['maximum expenditure adjusted'].notnull().any():\n",
    "    for k in range(num_channels):\n",
    "        if pd.notnull(channels_df.loc[channels[k], 'maximum expenditure adjusted']):\n",
    "            solver.Add(solver.Sum([x[i, j, k]*cost[k]\n",
    "                for i in range(num_customers)\n",
    "                for j in range(num_products)\n",
    "                ]) <= channels_df.loc[channels[k], 'maximum expenditure adjusted'])\n",
    "\n",
    "# minimums for channel\n",
    "if channels_df['minimum revenue adjusted'].notnull().any():\n",
    "    for k in range(num_channels):\n",
    "        if pd.notnull(channels_df.loc[channels[k], 'minimum revenue adjusted']):\n",
    "            print('Minimum revenue %d for %s' % (channels_df.loc[channels[k], 'minimum revenue adjusted'], \n",
    "                                                channels[k]))\n",
    "            solver.Add(solver.Sum([x[i, j, k]*product_value.loc[idx[customerid_sample[i], products[j], channels[k]], 'value']\n",
    "                for i in range(num_customers)\n",
    "                for j in range(num_products)\n",
    "                ]) >= channels_df.loc[channels[k], 'minimum revenue adjusted'])\n",
    "\n",
    "# maximums for channel\n",
    "if channels_df['maximum revenue adjusted'].notnull().any():\n",
    "    for k in range(num_channels):\n",
    "        if pd.notnull(channels_df.loc[channels[k], 'maximum revenue adjusted']):\n",
    "            print('Maximum revenue %d (%d) for %s' % (channels_df.loc[channels[k], 'maximum revenue adjusted'], \n",
    "                                                      channels_df.loc[channels[k], 'maximum revenue'],\n",
    "                                                channels[k]))\n",
    "            solver.Add(solver.Sum([x[i, j, k]*product_value.loc[idx[customerid_sample[i], products[j], channels[k]], 'value']\n",
    "                for i in range(num_customers)\n",
    "                for j in range(num_products)\n",
    "                ]) <= channels_df.loc[channels[k], 'maximum revenue adjusted'])"
   ]
  },
  {
   "cell_type": "markdown",
   "metadata": {},
   "source": [
    "### Get the product constraints"
   ]
  },
  {
   "cell_type": "markdown",
   "metadata": {},
   "source": [
    "Adjust the constraints for the sample size."
   ]
  },
  {
   "cell_type": "code",
   "execution_count": 19,
   "metadata": {},
   "outputs": [],
   "source": [
    "products_df['minimum offers adjusted'] = products_df['minimum offers']*sample_scaling\n",
    "products_df['maximum offers adjusted'] = products_df['maximum offers']*sample_scaling\n",
    "products_df['minimum expenditure adjusted'] = products_df['minimum expenditure']*sample_scaling\n",
    "products_df['maximum expenditure adjusted'] = products_df['maximum expenditure']*sample_scaling\n",
    "products_df['minimum revenue adjusted'] = products_df['minimum revenue']*sample_scaling\n",
    "products_df['maximum revenue adjusted'] = products_df['maximum revenue']*sample_scaling\n"
   ]
  },
  {
   "cell_type": "markdown",
   "metadata": {},
   "source": [
    "### Set the product constraints"
   ]
  },
  {
   "cell_type": "code",
   "execution_count": 20,
   "metadata": {},
   "outputs": [],
   "source": [
    "# minima for product\n",
    "if products_df['minimum offers adjusted'].notnull().any():\n",
    "    for j in range(num_products):\n",
    "        if pd.notnull(products_df.loc[products[j], 'minimum offers adjusted']):\n",
    "            solver.Add(solver.Sum([x[i, j, k]\n",
    "                for i in range(num_customers)\n",
    "                for k in range(num_channels)\n",
    "                ]) >= products_df.loc[products[j], 'minimum offers adjusted'])\n",
    "\n",
    "# maxima for product\n",
    "if products_df['maximum offers adjusted'].notnull().any():\n",
    "    for j in range(num_products):\n",
    "        if pd.notnull(products_df.loc[products[j], 'maximum offers adjusted']):\n",
    "            solver.Add(solver.Sum([x[i, j, k]\n",
    "                for i in range(num_customers)\n",
    "                for k in range(num_channels)\n",
    "                ]) <= products_df.loc[products[j], 'maximum offers adjusted'])\n",
    "\n",
    "# minima for product\n",
    "if products_df['minimum expenditure adjusted'].notnull().any():\n",
    "    for j in range(num_products):\n",
    "        if pd.notnull(products_df.loc[products[j], 'minimum expenditure adjusted']):\n",
    "            solver.Add(solver.Sum([x[i, j, k]*cost[k]\n",
    "                for i in range(num_customers)\n",
    "                for k in range(num_channels)\n",
    "                ]) >= products_df.loc[products[j], 'minimum expenditure adjusted'])\n",
    "\n",
    "# maxima for product\n",
    "if products_df['maximum expenditure adjusted'].notnull().any():\n",
    "    for j in range(num_products):\n",
    "        if pd.notnull(products_df.loc[products[j], 'maximum expenditure adjusted']):\n",
    "            solver.Add(solver.Sum([x[i, j, k]*cost[k]\n",
    "                for i in range(num_customers)\n",
    "                for k in range(num_channels)\n",
    "                ]) <= products_df.loc[products[j], 'maximum expenditure adjusted'])\n",
    "\n",
    "# Is this causing the infeasible solution?\n",
    "\n",
    "# minima for product\n",
    "if products_df['minimum revenue adjusted'].notnull().any():\n",
    "    for j in range(num_products):\n",
    "        if pd.notnull(products_df.loc[products[j], 'minimum revenue adjusted']):\n",
    "            print('Minimum revenue %d (%d) for %s' % (products_df.loc[products[j], 'minimum revenue adjusted'], \n",
    "                                                      products_df.loc[products[j], 'minimum revenue'],\n",
    "                                                products[j]))\n",
    "\n",
    "            solver.Add(solver.Sum([x[i, j, k]*product_value.loc[idx[customerid_sample[i], products[j], channels[k]], 'value']\n",
    "                                  for i in range(num_customers)\n",
    "                                  for k in range(num_channels)\n",
    "                                  ]) >= products_df.loc[products[j], 'minimum revenue adjusted'])\n",
    "            \n",
    "# maxima for product\n",
    "if products_df['maximum revenue adjusted'].notnull().any():\n",
    "    for j in range(num_products):\n",
    "        if pd.notnull(products_df.loc[products[j], 'maximum revenue adjusted']):\n",
    "            print('Maximum revenue %d (%d) for %s.' % (products_df.loc[products[j], 'maximum revenue adjusted'], \n",
    "                                                      products_df.loc[products[j], 'maximum revenue'],\n",
    "                                                products[j]))\n",
    "            solver.Add(solver.Sum([x[i, j, k]*product_value.loc[idx[customerid_sample[i], products[j], channels[k]], 'value']\n",
    "                for i in range(num_customers)\n",
    "                for k in range(num_channels)\n",
    "                ]) <= products_df.loc[products[j], 'maximum revenue adjusted'])"
   ]
  },
  {
   "cell_type": "markdown",
   "metadata": {},
   "source": [
    "## Set the _objective function_\n",
    "\n",
    "Set to maximise the revenue $R$. Here $x_{ijk}$ denotes whether customer $i$ receives an offer for product $j$ over channel $k$, $f_k$ denotes the channel adjustment factor, $v_j$ the product value and $p_{ij}$ the probability that customer $i$ takes up product $j$.\n",
    "\n",
    "$ \\max R = \\sum_{ijk} x_{ijk} \\times f_k \\times v_j \\times p_{ij}$\n",
    "\n",
    "\n",
    "> At some point, need to be able to specify \n",
    "  1. What to optimize, and \n",
    "  2. Whether to maximise or minimise.  \n",
    "\n",
    "> At the moment we maximise revenue, this could be profit, we could minimise budget, maximise profit or ~~maximise ROI.~~"
   ]
  },
  {
   "cell_type": "code",
   "execution_count": 21,
   "metadata": {},
   "outputs": [],
   "source": [
    "#    solver.Minimize(solver.Sum([cost[i][j] * x[i, j] for i in range(num_workers)\n",
    "#                                                     for j in range(num_tasks)]))\n",
    "# optimize = 'Profit' # to do: get this from the interface\n",
    "optimize = 'Revenue'\n",
    "# optimize = 'Expenditure'\n",
    "# require that the product_probs contain the value _already multiplied out_\n",
    "\n",
    "if optimize == 'Revenue':\n",
    "#     solver.Maximize(solver.Sum([x[i, j, k]*product_value.loc[idx[customerid_sample[i], products[j], channels[k]], 'value'].values[0]\n",
    "    solver.Maximize(solver.Sum([x[i, j, k]*product_value.loc[idx[customerid_sample[i], products[j], channels[k]], 'value']\n",
    "\n",
    "                               for i in range(num_customers)\n",
    "                               for j in range(num_products)\n",
    "                               for k in range(num_channels)]))\n",
    "elif optimize == 'Profit':\n",
    "#     solver.Maximize(solver.Sum([x[i, j, k]*(product_value.loc[idx[customerid_sample[i], products[j], channels[k]], 'value'].values[0]) - cost[k]\n",
    "    solver.Maximize(solver.Sum([x[i, j, k]*(product_value.loc[idx[customerid_sample[i], products[j], channels[k]], 'value']) - cost[k]\n",
    "\n",
    "                               for i in range(num_customers)\n",
    "                               for j in range(num_products)\n",
    "                               for k in range(num_channels)]))\n",
    "elif optimize == 'Expenditure':\n",
    "        solver.Minimize(solver.Sum([x[i, j, k]*cost[k]\n",
    "                               for i in range(num_customers)\n",
    "                               for j in range(num_products)\n",
    "                               for k in range(num_channels)]))\n"
   ]
  },
  {
   "cell_type": "markdown",
   "metadata": {},
   "source": [
    "### Invoke the solver\n",
    "\n",
    "> Need a routine here to evaluate whether the solver is solving. That is, set the most iterations and a time limit."
   ]
  },
  {
   "cell_type": "code",
   "execution_count": 22,
   "metadata": {},
   "outputs": [
    {
     "name": "stdout",
     "output_type": "stream",
     "text": [
      "Solver completed with return value 0.\n"
     ]
    }
   ],
   "source": [
    "# Invoke the solver\n",
    "# t = time.process_time()\n",
    "sol = solver.Solve()\n",
    "# elapsed_time = time.process_time() - t\n",
    "print('Solver completed with return value %d.' % sol)"
   ]
  },
  {
   "cell_type": "markdown",
   "metadata": {},
   "source": [
    "> **To do:** If not returned 0, throw an error.\n",
    "\n",
    "I guess `sol == 0` means that the solver correctly solved. Values of $1$ or $2$ mean something else."
   ]
  },
  {
   "cell_type": "markdown",
   "metadata": {},
   "source": [
    "Print out the solution. We can print out more information about the constraints. What happens in `xlwings` when the python routine prints – does it go to the logs?"
   ]
  },
  {
   "cell_type": "code",
   "execution_count": 23,
   "metadata": {},
   "outputs": [
    {
     "name": "stdout",
     "output_type": "stream",
     "text": [
      "Total revenue = 1213\n",
      "Total budget  = 32\n"
     ]
    }
   ],
   "source": [
    "report = [(channels[k], products[j], customerid_sample[i], x[i, j, k].solution_value()*cost[k],\n",
    "          x[i, j, k].solution_value()*product_value.loc[idx[customerid_sample[i], products[j], channels[k]], 'value']) \n",
    "          for i in range(num_customers) \n",
    "          for j in range(num_products) \n",
    "          for k in range(num_channels)  \n",
    "           if x[i, j, k].solution_value() > 0 # else 0\n",
    "         ]\n",
    "\n",
    "report_bd = pd.DataFrame(report, columns=['channel', 'product', 'customer', 'cost', 'revenue'])\n",
    "\n",
    "print('Total revenue = %d' % (solver.Objective().Value()))\n",
    "print('Total budget  = %d' % (report_bd['cost'].sum()) )\n",
    "\n",
    "\n",
    "if trace:\n",
    "    display(report_bd)"
   ]
  },
  {
   "cell_type": "markdown",
   "metadata": {},
   "source": [
    "Channel counts."
   ]
  },
  {
   "cell_type": "code",
   "execution_count": 24,
   "metadata": {},
   "outputs": [],
   "source": [
    "report_count = report_bd.groupby(['channel', 'product']).count()\n",
    "report_count['channel'] = report_count.index.get_level_values('channel')\n",
    "report_count['product'] = report_count.index.get_level_values('product')"
   ]
  },
  {
   "cell_type": "markdown",
   "metadata": {},
   "source": [
    "The sample has given us the rough outline of the optimization. Using these figures, replicate using non-linear minimization."
   ]
  },
  {
   "cell_type": "code",
   "execution_count": 25,
   "metadata": {},
   "outputs": [
    {
     "name": "stdout",
     "output_type": "stream",
     "text": [
      "70 401347\n"
     ]
    }
   ],
   "source": [
    "n_obs_orig = num_customers\n",
    "# n_obs_new = product_probs_all.shape[0]\n",
    "n_obs_new = len(product_value.index.get_level_values('customerid').unique())\n",
    "\n",
    "print(n_obs_orig, n_obs_new)\n",
    "\n"
   ]
  },
  {
   "cell_type": "code",
   "execution_count": 26,
   "metadata": {},
   "outputs": [],
   "source": [
    "# product_probs = product_probs_all\n",
    "\n",
    "# n_obs = product_probs.shape[0]\n",
    "\n",
    "adjustment_factor = n_obs_new/n_obs_orig\n",
    "availableBudget = availableBudget_total\n",
    "\n",
    "# product_probs.head()"
   ]
  },
  {
   "cell_type": "code",
   "execution_count": 27,
   "metadata": {},
   "outputs": [],
   "source": [
    "# num_customers = n_obs_new\n",
    "\n",
    "offer_scale = int(n_obs_new/n_obs_orig)\n",
    "\n",
    "# get the offers from the original optimization by product and channel\n",
    "sample_counts = pd.pivot_table(report_bd, index='channel', columns='product', values='customer', \n",
    "                                   aggfunc=len, fill_value=0)\n",
    "\n",
    "offers = report_count\n",
    "offers['n_offers'] = offers['customer']*offer_scale"
   ]
  },
  {
   "cell_type": "code",
   "execution_count": 28,
   "metadata": {},
   "outputs": [
    {
     "data": {
      "text/html": [
       "<div>\n",
       "<style scoped>\n",
       "    .dataframe tbody tr th:only-of-type {\n",
       "        vertical-align: middle;\n",
       "    }\n",
       "\n",
       "    .dataframe tbody tr th {\n",
       "        vertical-align: top;\n",
       "    }\n",
       "\n",
       "    .dataframe thead th {\n",
       "        text-align: right;\n",
       "    }\n",
       "</style>\n",
       "<table border=\"1\" class=\"dataframe\">\n",
       "  <thead>\n",
       "    <tr style=\"text-align: right;\">\n",
       "      <th></th>\n",
       "      <th></th>\n",
       "      <th>customer</th>\n",
       "      <th>cost</th>\n",
       "      <th>revenue</th>\n",
       "      <th>channel</th>\n",
       "      <th>product</th>\n",
       "      <th>n_offers</th>\n",
       "    </tr>\n",
       "    <tr>\n",
       "      <th>channel</th>\n",
       "      <th>product</th>\n",
       "      <th></th>\n",
       "      <th></th>\n",
       "      <th></th>\n",
       "      <th></th>\n",
       "      <th></th>\n",
       "      <th></th>\n",
       "    </tr>\n",
       "  </thead>\n",
       "  <tbody>\n",
       "    <tr>\n",
       "      <th rowspan=\"2\" valign=\"top\">DM</th>\n",
       "      <th>Daffodil Day Appeal</th>\n",
       "      <td>2</td>\n",
       "      <td>2</td>\n",
       "      <td>2</td>\n",
       "      <td>DM</td>\n",
       "      <td>Daffodil Day Appeal</td>\n",
       "      <td>11466</td>\n",
       "    </tr>\n",
       "    <tr>\n",
       "      <th>September Appeal RG</th>\n",
       "      <td>3</td>\n",
       "      <td>3</td>\n",
       "      <td>3</td>\n",
       "      <td>DM</td>\n",
       "      <td>September Appeal RG</td>\n",
       "      <td>17199</td>\n",
       "    </tr>\n",
       "    <tr>\n",
       "      <th>EDM</th>\n",
       "      <th>September Appeal RG</th>\n",
       "      <td>3</td>\n",
       "      <td>3</td>\n",
       "      <td>3</td>\n",
       "      <td>EDM</td>\n",
       "      <td>September Appeal RG</td>\n",
       "      <td>17199</td>\n",
       "    </tr>\n",
       "    <tr>\n",
       "      <th rowspan=\"3\" valign=\"top\">SMS</th>\n",
       "      <th>Daffodil Day Appeal</th>\n",
       "      <td>4</td>\n",
       "      <td>4</td>\n",
       "      <td>4</td>\n",
       "      <td>SMS</td>\n",
       "      <td>Daffodil Day Appeal</td>\n",
       "      <td>22932</td>\n",
       "    </tr>\n",
       "    <tr>\n",
       "      <th>September Appeal RG</th>\n",
       "      <td>56</td>\n",
       "      <td>56</td>\n",
       "      <td>56</td>\n",
       "      <td>SMS</td>\n",
       "      <td>September Appeal RG</td>\n",
       "      <td>321048</td>\n",
       "    </tr>\n",
       "    <tr>\n",
       "      <th>Tax Appeal</th>\n",
       "      <td>1</td>\n",
       "      <td>1</td>\n",
       "      <td>1</td>\n",
       "      <td>SMS</td>\n",
       "      <td>Tax Appeal</td>\n",
       "      <td>5733</td>\n",
       "    </tr>\n",
       "    <tr>\n",
       "      <th>TM</th>\n",
       "      <th>September Appeal RG</th>\n",
       "      <td>1</td>\n",
       "      <td>1</td>\n",
       "      <td>1</td>\n",
       "      <td>TM</td>\n",
       "      <td>September Appeal RG</td>\n",
       "      <td>5733</td>\n",
       "    </tr>\n",
       "  </tbody>\n",
       "</table>\n",
       "</div>"
      ],
      "text/plain": [
       "                             customer  cost  revenue channel  \\\n",
       "channel product                                                \n",
       "DM      Daffodil Day Appeal         2     2        2      DM   \n",
       "        September Appeal RG         3     3        3      DM   \n",
       "EDM     September Appeal RG         3     3        3     EDM   \n",
       "SMS     Daffodil Day Appeal         4     4        4     SMS   \n",
       "        September Appeal RG        56    56       56     SMS   \n",
       "        Tax Appeal                  1     1        1     SMS   \n",
       "TM      September Appeal RG         1     1        1      TM   \n",
       "\n",
       "                                         product  n_offers  \n",
       "channel product                                             \n",
       "DM      Daffodil Day Appeal  Daffodil Day Appeal     11466  \n",
       "        September Appeal RG  September Appeal RG     17199  \n",
       "EDM     September Appeal RG  September Appeal RG     17199  \n",
       "SMS     Daffodil Day Appeal  Daffodil Day Appeal     22932  \n",
       "        September Appeal RG  September Appeal RG    321048  \n",
       "        Tax Appeal                    Tax Appeal      5733  \n",
       "TM      September Appeal RG  September Appeal RG      5733  "
      ]
     },
     "execution_count": 28,
     "metadata": {},
     "output_type": "execute_result"
    }
   ],
   "source": [
    "offers"
   ]
  },
  {
   "cell_type": "code",
   "execution_count": 29,
   "metadata": {},
   "outputs": [],
   "source": [
    "\n",
    "# product_offer = product_value.reset_index()\n",
    "\n",
    "product_offer = product_value.reset_index().merge(offers[['channel', 'product', 'n_offers']], how='left', on=['channel', 'product']).dropna().pivot_table(values='value', columns=['product', 'channel'], index=['customerid'])"
   ]
  },
  {
   "cell_type": "markdown",
   "metadata": {},
   "source": [
    "The variable `offers` has a MultiIndex. We want this for the `product_profit` data frame. We can construct it from `channels` and `products`."
   ]
  },
  {
   "cell_type": "code",
   "execution_count": 30,
   "metadata": {},
   "outputs": [],
   "source": [
    "# offers_ndx = pd.MultiIndex.from_product([channels, products], names=['channel', 'product'])\n",
    "# product_profit = pd.DataFrame(index=product_value.index.get_level_values('customerid').unique(), columns=offers.index)"
   ]
  },
  {
   "cell_type": "code",
   "execution_count": 31,
   "metadata": {},
   "outputs": [],
   "source": [
    "# product_offer.pivot_table(values='value', index='customerid', columns=['channel', 'product']).head()"
   ]
  },
  {
   "cell_type": "code",
   "execution_count": 32,
   "metadata": {},
   "outputs": [],
   "source": [
    "\n",
    "# for cust in product_value.index.get_level_values('customerid').unique():\n",
    "#     for ch in offers.index.get_level_values('channel').unique():\n",
    "#         for pr in offers.index.get_level_values('product').unique():\n",
    "#             product_profit.loc[cust, (ch, pr)] = product_value.loc[idx[cust, pr, ch], 'value']\n",
    "        "
   ]
  },
  {
   "cell_type": "markdown",
   "metadata": {},
   "source": [
    "# The world of R\n",
    "\n",
    "As of yet, the non-linear minimization in Python has not worked properly, but it _has_ with R and `nlm()`. Until I can get it to work, the workaround is to use `rpy2` to run R from Python.\n",
    "\n",
    "> **To do:** Get the non-linear minimization right in Python.\n",
    "\n",
    "Import the requisite libraries."
   ]
  },
  {
   "cell_type": "code",
   "execution_count": 33,
   "metadata": {},
   "outputs": [],
   "source": [
    "import rpy2.robjects as robjects\n",
    "\n",
    "from rpy2.robjects.packages import importr\n",
    "# import R's \"base\" package\n",
    "base = importr('base')\n",
    "\n",
    "# import R's \"utils\" package\n",
    "utils = importr('utils')\n",
    "stats = importr('stats')\n",
    "data_table = importr('data.table')"
   ]
  },
  {
   "cell_type": "markdown",
   "metadata": {},
   "source": [
    "Select a mirror for R packages."
   ]
  },
  {
   "cell_type": "code",
   "execution_count": 34,
   "metadata": {},
   "outputs": [],
   "source": [
    "# utils.chooseCRANmirror(ind=1) # select the first mirror in the list"
   ]
  },
  {
   "cell_type": "markdown",
   "metadata": {},
   "source": [
    "Install packages using R's `install.package`. (This needs to be done once.)\n",
    "\n",
    "> **To do:** rewrite the routine to check if installed."
   ]
  },
  {
   "cell_type": "code",
   "execution_count": 35,
   "metadata": {},
   "outputs": [],
   "source": [
    "# R package names\n",
    "# packnames = ('magrittr', 'dplyr', 'data.table', 'dtplyr', 'stringr')\n",
    "\n",
    "# R vector of strings\n",
    "# from rpy2.robjects.vectors import StrVector\n",
    "\n",
    "# Selectively install what needs to be install.\n",
    "# We are fancy, just because we can.\n",
    "# for x in packnames:\n",
    "#    if not(rpackages.isinstalled(x)):\n",
    "#        utils.install_packages(StrVector(names_to_install))"
   ]
  },
  {
   "cell_type": "markdown",
   "metadata": {},
   "source": [
    "All I need to run in R is the non-linear minimization, and whatever is needed to supply the appropiate data. Here is the original R code.\n",
    "\n",
    "### The dual function (R)\n",
    "\n",
    "```\n",
    "            dual <- function(u, pp, offers) {\n",
    "              if (dim(pp)[2] != length(u)) {\n",
    "                print(c(dim(pp)[2], length(u)))\n",
    "                stop(\"Mismatched dimensions\")\n",
    "                }\n",
    "              d <- sweep(pp, 2, u)\n",
    "              v <- apply(d, 1, max) \n",
    "              v[v < 0] <- 0\n",
    "              y <- offers%*%u + sum(v)\n",
    "              y\n",
    "            }\n",
    "```\n",
    "\n",
    "### The optimisation (R)\n",
    "\n",
    "```{r}\n",
    "u_init <- offers*0\n",
    "out <- nlm(dual, p=u_init, pp=product_profit, offers=offers, print.level = 1)\n",
    "```\n",
    "\n",
    "### Getting the solution (R)\n",
    "\n",
    "```{r}\n",
    "mindual <- out$minimum\n",
    "u <- out$estimate\n",
    "mindual\n",
    "u\n",
    "```"
   ]
  },
  {
   "cell_type": "code",
   "execution_count": 36,
   "metadata": {},
   "outputs": [
    {
     "data": {
      "text/plain": [
       "R object with classes: ('function',) mapped to:\n",
       "<SignatureTranslatedFunction - Python:0x11e0a53c8 / R:0x7fc7271e8008>"
      ]
     },
     "execution_count": 36,
     "metadata": {},
     "output_type": "execute_result"
    }
   ],
   "source": [
    "robjects.r('''\n",
    "        # create a function `dual`\n",
    "            dual <- function(u, pp, offers) {\n",
    "              if (dim(pp)[2] != length(u)) {\n",
    "                print(c(dim(pp)[2], length(u)))\n",
    "                stop(\"Mismatched dimensions\")\n",
    "                }\n",
    "              d <- sweep(pp, 2, u)\n",
    "              v <- apply(d, 1, max) \n",
    "              v[v < 0] <- 0\n",
    "              y <- offers%*%u + sum(v)\n",
    "              y\n",
    "            }\n",
    "        ''')"
   ]
  },
  {
   "cell_type": "markdown",
   "metadata": {},
   "source": [
    "### Test the new function\n",
    "\n",
    "To do this, need to create the `product_profit` array in R.\n",
    "\n",
    "Import the required libraries and activate the interface between R and `pandas`."
   ]
  },
  {
   "cell_type": "code",
   "execution_count": 37,
   "metadata": {},
   "outputs": [],
   "source": [
    "from rpy2.robjects import r, pandas2ri\n",
    "pandas2ri.activate()\n",
    "\n",
    "# pp_columns = product_profit.columns # if I need them\n",
    "# pp_columns = product_offer.columns # if I need them\n",
    "\n",
    "# product_offer.to_csv('temp_product_offer.csv', index=False, header=False)"
   ]
  },
  {
   "cell_type": "markdown",
   "metadata": {},
   "source": [
    "~~> **NB:** _This appears to kill the kernel._~~"
   ]
  },
  {
   "cell_type": "code",
   "execution_count": 38,
   "metadata": {},
   "outputs": [],
   "source": [
    "# r_product_offer = data_table.fread('temp_product_offer.csv')\n",
    "r_product_offer = data_table.as_data_table(product_offer)"
   ]
  },
  {
   "cell_type": "code",
   "execution_count": 39,
   "metadata": {},
   "outputs": [
    {
     "data": {
      "text/html": [
       "\n",
       "    <span>R/rpy2 DataFrame (401347 x 7)</span>\n",
       "    <table>\n",
       "      <thead>\n",
       "        <tr>\n",
       "        \n",
       "          <th>X..Daffodil.Day.Appeal....DM..</th>\n",
       "        \n",
       "          <th>X..Daffodil.Day.Appeal....SMS..</th>\n",
       "        \n",
       "          <th>X..September.Appeal.RG....DM..</th>\n",
       "        \n",
       "          <th>X..September.Appeal.RG....EDM..</th>\n",
       "        \n",
       "          <th>X..September.Appeal.RG....SMS..</th>\n",
       "        \n",
       "          <th>X..September.Appeal.RG....TM..</th>\n",
       "        \n",
       "          <th>X..Tax.Appeal....SMS..</th>\n",
       "        \n",
       "        </tr>\n",
       "      </thead>\n",
       "      <tbody>\n",
       "      \n",
       "      <tr>\n",
       "      \n",
       "      <td>\n",
       "        2.847796\n",
       "      </td>\n",
       "      \n",
       "      <td>\n",
       "        2.847796\n",
       "      </td>\n",
       "      \n",
       "      <td>\n",
       "        3.992865\n",
       "      </td>\n",
       "      \n",
       "      <td>\n",
       "        3.992865\n",
       "      </td>\n",
       "      \n",
       "      <td>\n",
       "        3.992865\n",
       "      </td>\n",
       "      \n",
       "      <td>\n",
       "        3.992865\n",
       "      </td>\n",
       "      \n",
       "      <td>\n",
       "        2.847796\n",
       "      </td>\n",
       "      \n",
       "      </tr>\n",
       "      \n",
       "      <tr>\n",
       "      \n",
       "      <td>\n",
       "        0.915791\n",
       "      </td>\n",
       "      \n",
       "      <td>\n",
       "        0.915791\n",
       "      </td>\n",
       "      \n",
       "      <td>\n",
       "        2.060860\n",
       "      </td>\n",
       "      \n",
       "      <td>\n",
       "        2.060860\n",
       "      </td>\n",
       "      \n",
       "      <td>\n",
       "        2.060860\n",
       "      </td>\n",
       "      \n",
       "      <td>\n",
       "        2.060860\n",
       "      </td>\n",
       "      \n",
       "      <td>\n",
       "        0.915791\n",
       "      </td>\n",
       "      \n",
       "      </tr>\n",
       "      \n",
       "      <tr>\n",
       "      \n",
       "      <td>\n",
       "        2.788690\n",
       "      </td>\n",
       "      \n",
       "      <td>\n",
       "        2.788690\n",
       "      </td>\n",
       "      \n",
       "      <td>\n",
       "        3.933759\n",
       "      </td>\n",
       "      \n",
       "      <td>\n",
       "        3.933759\n",
       "      </td>\n",
       "      \n",
       "      <td>\n",
       "        3.933759\n",
       "      </td>\n",
       "      \n",
       "      <td>\n",
       "        3.933759\n",
       "      </td>\n",
       "      \n",
       "      <td>\n",
       "        2.788690\n",
       "      </td>\n",
       "      \n",
       "      </tr>\n",
       "      \n",
       "      <tr>\n",
       "      \n",
       "      <td>\n",
       "        0.915791\n",
       "      </td>\n",
       "      \n",
       "      <td>\n",
       "        0.915791\n",
       "      </td>\n",
       "      \n",
       "      <td>\n",
       "        2.060860\n",
       "      </td>\n",
       "      \n",
       "      <td>\n",
       "        2.060860\n",
       "      </td>\n",
       "      \n",
       "      <td>\n",
       "        2.060860\n",
       "      </td>\n",
       "      \n",
       "      <td>\n",
       "        2.060860\n",
       "      </td>\n",
       "      \n",
       "      <td>\n",
       "        0.915791\n",
       "      </td>\n",
       "      \n",
       "      </tr>\n",
       "      \n",
       "      <tr>\n",
       "      \n",
       "      <td>\n",
       "        ...\n",
       "      </td>\n",
       "      \n",
       "      <td>\n",
       "        ...\n",
       "      </td>\n",
       "      \n",
       "      <td>\n",
       "        ...\n",
       "      </td>\n",
       "      \n",
       "      <td>\n",
       "        ...\n",
       "      </td>\n",
       "      \n",
       "      <td>\n",
       "        ...\n",
       "      </td>\n",
       "      \n",
       "      <td>\n",
       "        ...\n",
       "      </td>\n",
       "      \n",
       "      <td>\n",
       "        ...\n",
       "      </td>\n",
       "      \n",
       "      </tr>\n",
       "      \n",
       "      <tr>\n",
       "      \n",
       "      <td>\n",
       "        0.915791\n",
       "      </td>\n",
       "      \n",
       "      <td>\n",
       "        0.915791\n",
       "      </td>\n",
       "      \n",
       "      <td>\n",
       "        2.060860\n",
       "      </td>\n",
       "      \n",
       "      <td>\n",
       "        2.060860\n",
       "      </td>\n",
       "      \n",
       "      <td>\n",
       "        2.060860\n",
       "      </td>\n",
       "      \n",
       "      <td>\n",
       "        2.060860\n",
       "      </td>\n",
       "      \n",
       "      <td>\n",
       "        0.915791\n",
       "      </td>\n",
       "      \n",
       "      </tr>\n",
       "      \n",
       "      <tr>\n",
       "      \n",
       "      <td>\n",
       "        0.915791\n",
       "      </td>\n",
       "      \n",
       "      <td>\n",
       "        0.915791\n",
       "      </td>\n",
       "      \n",
       "      <td>\n",
       "        2.060860\n",
       "      </td>\n",
       "      \n",
       "      <td>\n",
       "        2.060860\n",
       "      </td>\n",
       "      \n",
       "      <td>\n",
       "        2.060860\n",
       "      </td>\n",
       "      \n",
       "      <td>\n",
       "        2.060860\n",
       "      </td>\n",
       "      \n",
       "      <td>\n",
       "        0.915791\n",
       "      </td>\n",
       "      \n",
       "      </tr>\n",
       "      \n",
       "      </tbody>\n",
       "    </table>\n",
       "    "
      ],
      "text/plain": [
       "R object with classes: ('data.table', 'data.frame') mapped to:\n",
       "<DataFrame - Python:0x11cf39b08 / R:0x7fc727d05600>\n",
       "[Floa..., Floa..., Floa..., Floa..., Floa..., Floa..., Floa...]\n",
       "  X..Daffodil.Day.Appeal....DM..: <class 'rpy2.robjects.vectors.FloatVector'>\n",
       "  R object with classes: ('numeric',) mapped to:\n",
       "<FloatVector - Python:0x11cf51bc8 / R:0x13416c000>\n",
       "[2.847796, 0.915791, 2.788690, 0.915791, ..., 0.915791, 0.915791, 5.262429, 0.915791]\n",
       "  X..Daffodil.Day.Appeal....SMS..: <class 'rpy2.robjects.vectors.FloatVector'>\n",
       "  R object with classes: ('numeric',) mapped to:\n",
       "<FloatVector - Python:0x12282b288 / R:0x133aea000>\n",
       "[2.847796, 0.915791, 2.788690, 0.915791, ..., 0.915791, 0.915791, 5.262429, 0.915791]\n",
       "  X..September.Appeal.RG....DM..: <class 'rpy2.robjects.vectors.FloatVector'>\n",
       "  R object with classes: ('numeric',) mapped to:\n",
       "<FloatVector - Python:0x12282bc48 / R:0x1373ef000>\n",
       "[3.992865, 2.060860, 3.933759, 2.060860, ..., 2.060860, 2.060860, 6.407498, 2.060860]\n",
       "  X..September.Appeal.RG....EDM..: <class 'rpy2.robjects.vectors.FloatVector'>\n",
       "  R object with classes: ('numeric',) mapped to:\n",
       "<FloatVector - Python:0x12282bf48 / R:0x145398000>\n",
       "[3.992865, 2.060860, 3.933759, 2.060860, ..., 2.060860, 2.060860, 6.407498, 2.060860]\n",
       "  X..September.Appeal.RG....SMS..: <class 'rpy2.robjects.vectors.FloatVector'>\n",
       "  R object with classes: ('numeric',) mapped to:\n",
       "<FloatVector - Python:0x12282c348 / R:0x146062000>\n",
       "[3.992865, 2.060860, 3.933759, 2.060860, ..., 2.060860, 2.060860, 6.407498, 2.060860]\n",
       "  X..September.Appeal.RG....TM..: <class 'rpy2.robjects.vectors.FloatVector'>\n",
       "  R object with classes: ('numeric',) mapped to:\n",
       "<FloatVector - Python:0x12282c8c8 / R:0x1336bf000>\n",
       "[3.992865, 2.060860, 3.933759, 2.060860, ..., 2.060860, 2.060860, 6.407498, 2.060860]\n",
       "  X..Tax.Appeal....SMS..: <class 'rpy2.robjects.vectors.FloatVector'>\n",
       "  R object with classes: ('numeric',) mapped to:\n",
       "<FloatVector - Python:0x12282cc08 / R:0x14b243000>\n",
       "[2.847796, 0.915791, 2.788690, 0.915791, ..., 0.915791, 0.915791, 5.262429, 0.915791]"
      ]
     },
     "execution_count": 39,
     "metadata": {},
     "output_type": "execute_result"
    }
   ],
   "source": [
    "r_product_offer"
   ]
  },
  {
   "cell_type": "markdown",
   "metadata": {},
   "source": [
    "This has decidedly unfriendly column names."
   ]
  },
  {
   "cell_type": "code",
   "execution_count": 40,
   "metadata": {},
   "outputs": [],
   "source": [
    "# u_test = robjects.FloatVector([11.2, 15, 6.02, 19.5])\n",
    "r_offers = robjects.IntVector(offers['n_offers'])"
   ]
  },
  {
   "cell_type": "markdown",
   "metadata": {},
   "source": [
    "~~Test the dual function.~~"
   ]
  },
  {
   "cell_type": "code",
   "execution_count": 41,
   "metadata": {},
   "outputs": [],
   "source": [
    "dual = robjects.r['dual']\n",
    "# dual(u_test, pp=r_product_offer, offers=r_offers)"
   ]
  },
  {
   "cell_type": "markdown",
   "metadata": {},
   "source": [
    "Perform the non-linear minimisation."
   ]
  },
  {
   "cell_type": "code",
   "execution_count": 42,
   "metadata": {},
   "outputs": [
    {
     "name": "stdout",
     "output_type": "stream",
     "text": [
      "iteration = 0\n",
      "\n",
      "Step:\n",
      "\n",
      "[1]\n",
      " 0\n",
      " 0\n",
      " 0\n",
      " 0\n",
      " 0\n",
      " 0\n",
      " 0\n",
      "\n",
      "\n",
      "Parameter:\n",
      "\n",
      "[1]\n",
      " 0\n",
      " 0\n",
      " 0\n",
      " 0\n",
      " 0\n",
      " 0\n",
      " 0\n",
      "\n",
      "\n",
      "Function Value\n",
      "\n",
      "[1]\n",
      " 6900948\n",
      "\n",
      "\n",
      "Gradient:\n",
      "\n",
      "[1]\n",
      "  11466\n",
      "  17199\n",
      "  17199\n",
      "  22932\n",
      " 321048\n",
      "   5733\n",
      "   5733\n",
      "\n",
      "\n",
      "\n",
      "\n",
      "iteration = 1\n",
      "\n",
      "Parameter:\n",
      "\n",
      "[1]\n",
      " 0\n",
      " 0\n",
      " 0\n",
      " 0\n",
      " 0\n",
      " 0\n",
      " 0\n",
      "\n",
      "\n",
      "Function Value\n",
      "\n",
      "[1]\n",
      " 6900948\n",
      "\n",
      "\n",
      "Gradient:\n",
      "\n",
      "[1]\n",
      "    -694.5\n",
      "    5038.5\n",
      " -171191.0\n",
      " -165458.0\n",
      "  132658.0\n",
      " -182657.0\n",
      "    3847.0\n",
      "\n",
      "\n",
      "\n",
      "\n",
      "Last global step failed to locate a point lower than x.\n",
      "\n",
      "Either x is an approximate local minimum of the function,\n",
      "the function is too non-linear for this algorithm,\n",
      "or steptol is too large.\n",
      "\n",
      "\n",
      "\n"
     ]
    }
   ],
   "source": [
    "u_init = robjects.FloatVector(0.0*offers['n_offers'])\n",
    "# r_out = stats.nlm(dual, p=u_init, pp=r_product_profit, offers=r_offers, print_level=1)\n",
    "r_out = stats.nlm(dual, p=u_init, pp=r_product_offer, offers=r_offers, print_level=1)"
   ]
  },
  {
   "cell_type": "markdown",
   "metadata": {},
   "source": [
    "Extract the estimate of $u$."
   ]
  },
  {
   "cell_type": "code",
   "execution_count": 43,
   "metadata": {},
   "outputs": [],
   "source": [
    "r_u = r_out.rx('estimate')[0]\n",
    "\n",
    "u = [r_u[i] if abs(r_u[i]) > 1e-5 else 0 for i in range(len(r_u))] # ugly way to convert\n",
    "\n",
    "d = product_offer.sub(u) \n",
    "v = d.max(axis = 1)\n",
    "v[v<0] = 0\n",
    "ndx = np.argsort(-v)\n",
    "d['customerid'] = d.index"
   ]
  },
  {
   "cell_type": "code",
   "execution_count": 44,
   "metadata": {},
   "outputs": [
    {
     "data": {
      "text/html": [
       "<div>\n",
       "<style scoped>\n",
       "    .dataframe tbody tr th:only-of-type {\n",
       "        vertical-align: middle;\n",
       "    }\n",
       "\n",
       "    .dataframe tbody tr th {\n",
       "        vertical-align: top;\n",
       "    }\n",
       "\n",
       "    .dataframe thead tr th {\n",
       "        text-align: left;\n",
       "    }\n",
       "\n",
       "    .dataframe thead tr:last-of-type th {\n",
       "        text-align: right;\n",
       "    }\n",
       "</style>\n",
       "<table border=\"1\" class=\"dataframe\">\n",
       "  <thead>\n",
       "    <tr>\n",
       "      <th>product</th>\n",
       "      <th colspan=\"2\" halign=\"left\">Daffodil Day Appeal</th>\n",
       "      <th colspan=\"4\" halign=\"left\">September Appeal RG</th>\n",
       "      <th>Tax Appeal</th>\n",
       "      <th>customerid</th>\n",
       "    </tr>\n",
       "    <tr>\n",
       "      <th>channel</th>\n",
       "      <th>DM</th>\n",
       "      <th>SMS</th>\n",
       "      <th>DM</th>\n",
       "      <th>EDM</th>\n",
       "      <th>SMS</th>\n",
       "      <th>TM</th>\n",
       "      <th>SMS</th>\n",
       "      <th></th>\n",
       "    </tr>\n",
       "    <tr>\n",
       "      <th>customerid</th>\n",
       "      <th></th>\n",
       "      <th></th>\n",
       "      <th></th>\n",
       "      <th></th>\n",
       "      <th></th>\n",
       "      <th></th>\n",
       "      <th></th>\n",
       "      <th></th>\n",
       "    </tr>\n",
       "  </thead>\n",
       "  <tbody>\n",
       "    <tr>\n",
       "      <th>1</th>\n",
       "      <td>2.847796</td>\n",
       "      <td>2.847796</td>\n",
       "      <td>3.992865</td>\n",
       "      <td>3.992865</td>\n",
       "      <td>3.992865</td>\n",
       "      <td>3.992865</td>\n",
       "      <td>2.847796</td>\n",
       "      <td>1</td>\n",
       "    </tr>\n",
       "    <tr>\n",
       "      <th>17</th>\n",
       "      <td>0.915791</td>\n",
       "      <td>0.915791</td>\n",
       "      <td>2.060860</td>\n",
       "      <td>2.060860</td>\n",
       "      <td>2.060860</td>\n",
       "      <td>2.060860</td>\n",
       "      <td>0.915791</td>\n",
       "      <td>17</td>\n",
       "    </tr>\n",
       "    <tr>\n",
       "      <th>18</th>\n",
       "      <td>2.788690</td>\n",
       "      <td>2.788690</td>\n",
       "      <td>3.933759</td>\n",
       "      <td>3.933759</td>\n",
       "      <td>3.933759</td>\n",
       "      <td>3.933759</td>\n",
       "      <td>2.788690</td>\n",
       "      <td>18</td>\n",
       "    </tr>\n",
       "    <tr>\n",
       "      <th>23</th>\n",
       "      <td>0.915791</td>\n",
       "      <td>0.915791</td>\n",
       "      <td>2.060860</td>\n",
       "      <td>2.060860</td>\n",
       "      <td>2.060860</td>\n",
       "      <td>2.060860</td>\n",
       "      <td>0.915791</td>\n",
       "      <td>23</td>\n",
       "    </tr>\n",
       "    <tr>\n",
       "      <th>34</th>\n",
       "      <td>1.196850</td>\n",
       "      <td>1.196850</td>\n",
       "      <td>2.341918</td>\n",
       "      <td>2.341918</td>\n",
       "      <td>2.341918</td>\n",
       "      <td>2.341918</td>\n",
       "      <td>1.196850</td>\n",
       "      <td>34</td>\n",
       "    </tr>\n",
       "  </tbody>\n",
       "</table>\n",
       "</div>"
      ],
      "text/plain": [
       "product    Daffodil Day Appeal           September Appeal RG            \\\n",
       "channel                     DM       SMS                  DM       EDM   \n",
       "customerid                                                               \n",
       "1                     2.847796  2.847796            3.992865  3.992865   \n",
       "17                    0.915791  0.915791            2.060860  2.060860   \n",
       "18                    2.788690  2.788690            3.933759  3.933759   \n",
       "23                    0.915791  0.915791            2.060860  2.060860   \n",
       "34                    1.196850  1.196850            2.341918  2.341918   \n",
       "\n",
       "product                        Tax Appeal customerid  \n",
       "channel          SMS        TM        SMS             \n",
       "customerid                                            \n",
       "1           3.992865  3.992865   2.847796          1  \n",
       "17          2.060860  2.060860   0.915791         17  \n",
       "18          3.933759  3.933759   2.788690         18  \n",
       "23          2.060860  2.060860   0.915791         23  \n",
       "34          2.341918  2.341918   1.196850         34  "
      ]
     },
     "execution_count": 44,
     "metadata": {},
     "output_type": "execute_result"
    }
   ],
   "source": [
    "d.head()"
   ]
  },
  {
   "cell_type": "markdown",
   "metadata": {},
   "source": [
    "## Allocate the optimised solution to customers"
   ]
  },
  {
   "cell_type": "code",
   "execution_count": 45,
   "metadata": {},
   "outputs": [],
   "source": [
    "d_melt = pd.melt(d, id_vars=['customerid']).sort_values(by=['customerid', 'value'], ascending=[True, False])\n",
    "\n",
    "# Delete the offers from `d_melt` where already completely allocated.\n",
    "\n",
    "allocated_counts = offers['n_offers']*0\n",
    "\n",
    "offers_include_df = offers[allocated_counts < offers['n_offers']]\n",
    "# offers_include_df = pd.DataFrame(offers_include)\n",
    "\n",
    "# offers_include_df.reset_index(inplace=True)\n",
    "\n",
    "d_melt = d_melt.merge(offers_include_df[['channel', 'product']], on=['channel', 'product'])"
   ]
  },
  {
   "cell_type": "code",
   "execution_count": 46,
   "metadata": {},
   "outputs": [
    {
     "data": {
      "text/html": [
       "<div>\n",
       "<style scoped>\n",
       "    .dataframe tbody tr th:only-of-type {\n",
       "        vertical-align: middle;\n",
       "    }\n",
       "\n",
       "    .dataframe tbody tr th {\n",
       "        vertical-align: top;\n",
       "    }\n",
       "\n",
       "    .dataframe thead th {\n",
       "        text-align: right;\n",
       "    }\n",
       "</style>\n",
       "<table border=\"1\" class=\"dataframe\">\n",
       "  <thead>\n",
       "    <tr style=\"text-align: right;\">\n",
       "      <th></th>\n",
       "      <th>customerid</th>\n",
       "      <th>product</th>\n",
       "      <th>channel</th>\n",
       "      <th>value</th>\n",
       "    </tr>\n",
       "  </thead>\n",
       "  <tbody>\n",
       "    <tr>\n",
       "      <th>0</th>\n",
       "      <td>1</td>\n",
       "      <td>September Appeal RG</td>\n",
       "      <td>DM</td>\n",
       "      <td>3.992865</td>\n",
       "    </tr>\n",
       "    <tr>\n",
       "      <th>1</th>\n",
       "      <td>17</td>\n",
       "      <td>September Appeal RG</td>\n",
       "      <td>DM</td>\n",
       "      <td>2.060860</td>\n",
       "    </tr>\n",
       "    <tr>\n",
       "      <th>2</th>\n",
       "      <td>18</td>\n",
       "      <td>September Appeal RG</td>\n",
       "      <td>DM</td>\n",
       "      <td>3.933759</td>\n",
       "    </tr>\n",
       "    <tr>\n",
       "      <th>3</th>\n",
       "      <td>23</td>\n",
       "      <td>September Appeal RG</td>\n",
       "      <td>DM</td>\n",
       "      <td>2.060860</td>\n",
       "    </tr>\n",
       "    <tr>\n",
       "      <th>4</th>\n",
       "      <td>34</td>\n",
       "      <td>September Appeal RG</td>\n",
       "      <td>DM</td>\n",
       "      <td>2.341918</td>\n",
       "    </tr>\n",
       "  </tbody>\n",
       "</table>\n",
       "</div>"
      ],
      "text/plain": [
       "   customerid              product channel     value\n",
       "0           1  September Appeal RG      DM  3.992865\n",
       "1          17  September Appeal RG      DM  2.060860\n",
       "2          18  September Appeal RG      DM  3.933759\n",
       "3          23  September Appeal RG      DM  2.060860\n",
       "4          34  September Appeal RG      DM  2.341918"
      ]
     },
     "execution_count": 46,
     "metadata": {},
     "output_type": "execute_result"
    }
   ],
   "source": [
    "d_melt.head()"
   ]
  },
  {
   "cell_type": "markdown",
   "metadata": {},
   "source": [
    "Create the initial allocation using the maximum value in each group. Will need to update `d_melt` once the first offer has been fully allocated."
   ]
  },
  {
   "cell_type": "code",
   "execution_count": 47,
   "metadata": {},
   "outputs": [],
   "source": [
    "allocated_counts = offers.n_offers*0\n",
    "\n",
    "\n",
    "# d_melt.groupby(['variable']).agg({'value':'first'}).head()\n",
    "\n",
    "# d_alloc = d_melt.groupby(['customerid']).first().sort_values(by=['value'], ascending=False)\n",
    "d_alloc = d_melt.sort_values('value', ascending=False).drop_duplicates('customerid')\n",
    "\n",
    "alloc_list = []\n"
   ]
  },
  {
   "cell_type": "markdown",
   "metadata": {},
   "source": [
    "Repeat the next part until every offer in `offers` is allocated."
   ]
  },
  {
   "cell_type": "code",
   "execution_count": 48,
   "metadata": {},
   "outputs": [
    {
     "name": "stdout",
     "output_type": "stream",
     "text": [
      "26386 0\n",
      "                             n_offers\n",
      "channel product                      \n",
      "DM      Daffodil Day Appeal     11466\n",
      "        September Appeal RG     17199\n",
      "EDM     September Appeal RG     17199\n",
      "SMS     Daffodil Day Appeal     22932\n",
      "        September Appeal RG    321048\n",
      "62244 26386\n",
      "                             n_offers\n",
      "channel product                      \n",
      "DM      Daffodil Day Appeal     11466\n",
      "EDM     September Appeal RG     17199\n",
      "SMS     Daffodil Day Appeal     22932\n",
      "        September Appeal RG    321048\n",
      "        Tax Appeal               5733\n",
      "62910 62244\n",
      "                             n_offers\n",
      "channel product                      \n",
      "DM      Daffodil Day Appeal     11466\n",
      "SMS     Daffodil Day Appeal     22932\n",
      "        September Appeal RG    321048\n",
      "        Tax Appeal               5733\n",
      "385497 62910\n",
      "                             n_offers\n",
      "channel product                      \n",
      "DM      Daffodil Day Appeal     11466\n",
      "SMS     Daffodil Day Appeal     22932\n",
      "        Tax Appeal               5733\n",
      "398471 385497\n",
      "                             n_offers\n",
      "channel product                      \n",
      "DM      Daffodil Day Appeal     11466\n",
      "SMS     Daffodil Day Appeal     22932\n",
      "398474 398471\n",
      "                             n_offers\n",
      "channel product                      \n",
      "SMS     Daffodil Day Appeal     22932\n",
      "401310 398474\n",
      "Empty DataFrame\n",
      "Columns: [n_offers]\n",
      "Index: []\n"
     ]
    }
   ],
   "source": [
    "counter = 0 # not sure where this goes yet\n",
    "old_counter = counter\n",
    "failsafe_threshold = 20000\n",
    "failsafe = 0\n",
    "\n",
    "while any(allocated_counts < offers.n_offers): # could be no more offers to allocate\n",
    "    offers_to_alloc = (allocated_counts < offers.n_offers)\n",
    "    \n",
    "    # allocate while we haven't hit the limit for one of the offers\n",
    "    while all((allocated_counts < offers.n_offers) == (offers_to_alloc)):\n",
    "        selected_offer = d_alloc.iloc[counter - old_counter]\n",
    "        allocated_counts.loc[(selected_offer['channel'], selected_offer['product'])] += 1\n",
    "        counter += 1\n",
    "#     print(allocated_counts)      \n",
    "    # note: selected_offer will contain the offer that has just been completely allocated!!\n",
    "#     print(selected_offer)\n",
    "    \n",
    "    ## allocate the selected offers\n",
    "    \n",
    "    print(counter, old_counter)\n",
    "    d_alloc_select = d_alloc.iloc[[i for i in range(counter - old_counter)]]\n",
    "    alloc_list.append(d_alloc_select)\n",
    "    old_counter = counter\n",
    "    \n",
    "    ## delete the selected records from d_melt\n",
    "    rows_to_keep = np.invert(d_melt.customerid.isin(d_alloc_select.customerid))\n",
    "    d_melt = d_melt[rows_to_keep]\n",
    "    \n",
    "    ## delete the selected offers from the data frame\n",
    "    offers_include = offers.loc[allocated_counts < offers.n_offers, 'n_offers']\n",
    "    offers_include_df = pd.DataFrame(offers_include)\n",
    "    print(offers_include_df.head())\n",
    "    offers_include_df.reset_index(inplace=True)\n",
    "\n",
    "    d_melt = d_melt.merge(offers_include_df[['channel', 'product']], on=['channel', 'product'])\n",
    "    \n",
    "    d_alloc = d_melt.sort_values('value', ascending=False).drop_duplicates('customerid')\n",
    "    \n",
    "    ## create the allocation data frame\n",
    "    \n",
    "    failsafe += 1\n",
    "    if failsafe > failsafe_threshold:\n",
    "        break # to protect against logic errors causing an infinite loop\n",
    "    \n"
   ]
  },
  {
   "cell_type": "code",
   "execution_count": 49,
   "metadata": {},
   "outputs": [
    {
     "name": "stdout",
     "output_type": "stream",
     "text": [
      "0\n",
      "(0, 4)\n",
      "channel  product            \n",
      "DM       Daffodil Day Appeal    False\n",
      "         September Appeal RG    False\n",
      "EDM      September Appeal RG    False\n",
      "SMS      Daffodil Day Appeal     True\n",
      "         September Appeal RG    False\n",
      "         Tax Appeal             False\n",
      "TM       September Appeal RG    False\n",
      "Name: n_offers, dtype: bool\n",
      "channel  product            \n",
      "DM       Daffodil Day Appeal     11466\n",
      "         September Appeal RG     17199\n",
      "EDM      September Appeal RG     17199\n",
      "SMS      Daffodil Day Appeal     22932\n",
      "         September Appeal RG    321048\n",
      "         Tax Appeal               5733\n",
      "TM       September Appeal RG      5733\n",
      "Name: n_offers, dtype: int64\n"
     ]
    }
   ],
   "source": [
    "print(counter - old_counter)\n",
    "print(d_alloc.shape)\n",
    "print(offers_to_alloc)\n",
    "print(offers.n_offers)"
   ]
  },
  {
   "cell_type": "code",
   "execution_count": 50,
   "metadata": {},
   "outputs": [
    {
     "data": {
      "text/html": [
       "<div>\n",
       "<style scoped>\n",
       "    .dataframe tbody tr th:only-of-type {\n",
       "        vertical-align: middle;\n",
       "    }\n",
       "\n",
       "    .dataframe tbody tr th {\n",
       "        vertical-align: top;\n",
       "    }\n",
       "\n",
       "    .dataframe thead th {\n",
       "        text-align: right;\n",
       "    }\n",
       "</style>\n",
       "<table border=\"1\" class=\"dataframe\">\n",
       "  <thead>\n",
       "    <tr style=\"text-align: right;\">\n",
       "      <th></th>\n",
       "      <th>customerid</th>\n",
       "      <th>product</th>\n",
       "      <th>channel</th>\n",
       "      <th>value</th>\n",
       "    </tr>\n",
       "  </thead>\n",
       "  <tbody>\n",
       "  </tbody>\n",
       "</table>\n",
       "</div>"
      ],
      "text/plain": [
       "Empty DataFrame\n",
       "Columns: [customerid, product, channel, value]\n",
       "Index: []"
      ]
     },
     "execution_count": 50,
     "metadata": {},
     "output_type": "execute_result"
    }
   ],
   "source": [
    "d_alloc.head()"
   ]
  },
  {
   "cell_type": "code",
   "execution_count": 51,
   "metadata": {},
   "outputs": [
    {
     "data": {
      "text/plain": [
       "(0, 4)"
      ]
     },
     "execution_count": 51,
     "metadata": {},
     "output_type": "execute_result"
    }
   ],
   "source": [
    "d_melt.shape"
   ]
  },
  {
   "cell_type": "markdown",
   "metadata": {},
   "source": [
    "Concatenate the allocation files to create the final allocation."
   ]
  },
  {
   "cell_type": "code",
   "execution_count": 52,
   "metadata": {},
   "outputs": [],
   "source": [
    "final_allocation = pd.concat(alloc_list)\n",
    "final_allocation = final_allocation.reset_index(drop=True)"
   ]
  },
  {
   "cell_type": "markdown",
   "metadata": {},
   "source": [
    "## Calculate the profit and cost"
   ]
  },
  {
   "cell_type": "code",
   "execution_count": 53,
   "metadata": {},
   "outputs": [],
   "source": [
    "# product_profit_allocated = pd.merge(pd.melt(product_profit.reset_index(), id_vars='customerid'), \n",
    "#          final_allocation.drop('value', axis=1), on=['customerid', 'channel', 'product'], how=\"inner\")\n",
    "\n",
    "product_profit_allocated = pd.merge(pd.melt(product_offer.reset_index(), id_vars='customerid'), \n",
    "         final_allocation.drop('value', axis=1), on=['customerid', 'channel', 'product'], how=\"inner\")"
   ]
  },
  {
   "cell_type": "code",
   "execution_count": 54,
   "metadata": {},
   "outputs": [],
   "source": [
    "channel_costs = pd.DataFrame(cost).reset_index()\n"
   ]
  },
  {
   "cell_type": "code",
   "execution_count": 55,
   "metadata": {},
   "outputs": [],
   "source": [
    "product_profit_allocated = pd.merge(product_profit_allocated, channel_costs, on='channel', how='left')\n"
   ]
  },
  {
   "cell_type": "code",
   "execution_count": 56,
   "metadata": {},
   "outputs": [],
   "source": [
    "def my_agg(df):\n",
    "    names = {\n",
    "        'offers':  df['value'].count(),\n",
    "        'revenue': df['value'].sum(),\n",
    "        'expenditure': df['cost'].sum()\n",
    "    }\n",
    "    return pd.Series(names, index=['offers', 'revenue', 'expenditure'])"
   ]
  },
  {
   "cell_type": "code",
   "execution_count": 57,
   "metadata": {},
   "outputs": [],
   "source": [
    "def summarize_benefits(df, grouper=None):\n",
    "    if grouper == None:\n",
    "        df['Total'] = 'Total'\n",
    "        grouper = 'Total'\n",
    "    df_grouped = df.groupby(grouper).apply(my_agg) \n",
    "    df_grouped['ROI'] = df_grouped['revenue']/df_grouped['expenditure']\n",
    "#     df_grouped['investigations closed'].apply(lambda x: x if x > 0 else 1)\n",
    "\n",
    "#     inv_formats = {\n",
    "#         'offers': '{:,.0f}',\n",
    "#         'revenue': '${:,.0f}',\n",
    "#         'expenditure': '${:,.0f}',\n",
    "#         'ROI': '{:.1%}'\n",
    "#     }\n",
    "\n",
    "#     return df_grouped.style.format(inv_formats)\n",
    "    return df_grouped\n",
    "\n",
    "## There should be a better way of doing this, as I am referencing each of these multiple times."
   ]
  },
  {
   "cell_type": "code",
   "execution_count": 58,
   "metadata": {},
   "outputs": [],
   "source": [
    "ppa_total = summarize_benefits(product_profit_allocated)\n",
    "ppa_channel = summarize_benefits(product_profit_allocated, 'channel')\n",
    "ppa_product = summarize_benefits(product_profit_allocated, 'product')"
   ]
  },
  {
   "cell_type": "markdown",
   "metadata": {},
   "source": [
    "Write to sheet `data_python`.\n",
    "\n",
    "  * Need to clear these sheets first."
   ]
  },
  {
   "cell_type": "code",
   "execution_count": 59,
   "metadata": {},
   "outputs": [],
   "source": [
    "data_python_sheet = wb.sheets['data_total']\n",
    "data_channel_sheet = wb.sheets['data_channel']\n",
    "data_product_sheet = wb.sheets['data_product']"
   ]
  },
  {
   "cell_type": "code",
   "execution_count": 60,
   "metadata": {},
   "outputs": [],
   "source": [
    "data_python_sheet.range('A1').value = ppa_total\n",
    "data_channel_sheet.range('A1').value = ppa_channel\n",
    "data_product_sheet.range('A1').value = ppa_product"
   ]
  },
  {
   "cell_type": "markdown",
   "metadata": {},
   "source": [
    "## The end (for now)\n",
    "\n",
    "> **To do**: write customer file in Excel or to file if large."
   ]
  }
 ],
 "metadata": {
  "kernelspec": {
   "display_name": "Python 3",
   "language": "python",
   "name": "python3"
  },
  "language_info": {
   "codemirror_mode": {
    "name": "ipython",
    "version": 3
   },
   "file_extension": ".py",
   "mimetype": "text/x-python",
   "name": "python",
   "nbconvert_exporter": "python",
   "pygments_lexer": "ipython3",
   "version": "3.6.4"
  }
 },
 "nbformat": 4,
 "nbformat_minor": 2
}
