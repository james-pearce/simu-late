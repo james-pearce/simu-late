{
 "cells": [
  {
   "cell_type": "markdown",
   "metadata": {},
   "source": [
    "# Simple assignment\n",
    "\n",
    "The cost matrix $C_{ij}$ gives the cost for worker $i$ to perform task $j$."
   ]
  },
  {
   "cell_type": "code",
   "execution_count": 1,
   "metadata": {},
   "outputs": [],
   "source": [
    "from ortools.graph import pywrapgraph\n",
    "import time"
   ]
  },
  {
   "cell_type": "code",
   "execution_count": 2,
   "metadata": {},
   "outputs": [],
   "source": [
    "def create_data_array():\n",
    "    cost = [[ 90,  76, 75,  70],\n",
    "            [ 35,  85, 55,  65],\n",
    "            [125,  95, 90, 105],\n",
    "            [ 45, 110, 95, 115]]\n",
    "    return cost"
   ]
  },
  {
   "cell_type": "code",
   "execution_count": 12,
   "metadata": {},
   "outputs": [],
   "source": [
    "def main():\n",
    "    cost = create_data_array()\n",
    "    rows = len(cost)\n",
    "    cols = len(cost[0])\n",
    "    \n",
    "    assignment = pywrapgraph.LinearSumAssignment()\n",
    "    \n",
    "    for worker in range(rows):\n",
    "        for task in range(cols):\n",
    "            if cost[worker][task]:\n",
    "                assignment.AddArcWithCost(worker, task, cost[worker][task])\n",
    "    \n",
    "    solve_status = assignment.Solve()\n",
    "    \n",
    "    # check for optimality\n",
    "    if solve_status == assignment.OPTIMAL:\n",
    "        print ('Total cost = %d.' % (assignment.OptimalCost()))\n",
    "        print()\n",
    "        for i in range(0, assignment.NumNodes()):\n",
    "            print('Worker %d assigned to task %d. Cost = %d' % (\n",
    "            i,\n",
    "            assignment.RightMate(i),\n",
    "            assignment.AssignmentCost(i)))\n",
    "    elif solve_status == assignment.INFEASIBLE:\n",
    "        print ('No assignment is possible.')\n",
    "    elif solve_status == assignment.POSSIBLE_OVERFLOW:\n",
    "        print ('Some input costs are too large and may cause an integer overflow.')\n",
    "    "
   ]
  },
  {
   "cell_type": "code",
   "execution_count": 13,
   "metadata": {},
   "outputs": [
    {
     "name": "stdout",
     "output_type": "stream",
     "text": [
      "Total cost = 265.\n",
      "\n",
      "Worker 0 assigned to task 3. Cost = 70\n",
      "Worker 1 assigned to task 2. Cost = 55\n",
      "Worker 2 assigned to task 1. Cost = 95\n",
      "Worker 3 assigned to task 0. Cost = 45\n",
      "\n",
      "Time =  0.0008279999999993848\n"
     ]
    }
   ],
   "source": [
    "if __name__ == \"__main__\":\n",
    "    start_time = time.clock()\n",
    "    main()\n",
    "    print()\n",
    "    print(\"Time = \", time.clock() - start_time)"
   ]
  },
  {
   "cell_type": "code",
   "execution_count": null,
   "metadata": {},
   "outputs": [],
   "source": []
  }
 ],
 "metadata": {
  "kernelspec": {
   "display_name": "Python 3",
   "language": "python",
   "name": "python3"
  },
  "language_info": {
   "codemirror_mode": {
    "name": "ipython",
    "version": 3
   },
   "file_extension": ".py",
   "mimetype": "text/x-python",
   "name": "python",
   "nbconvert_exporter": "python",
   "pygments_lexer": "ipython3",
   "version": "3.6.4"
  }
 },
 "nbformat": 4,
 "nbformat_minor": 2
}
