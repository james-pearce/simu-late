{
 "cells": [
  {
   "cell_type": "markdown",
   "metadata": {},
   "source": [
    "# Using MIP to solve the problem\n",
    "\n",
    "We can also use the even more general _mixed integer programming_ approach to solve the problem. However, solving the problem may take more computation.\n",
    "\n",
    "## The MIP approach\n",
    "\n",
    "We assign integer variables to the edges in the graph. The value of each variable in the solution is the flow along the corresponding edge. For an edge between a given worker and a task, the worker is assigned to the task if the value of the variable is $1$ and $0$ otherwise.\n",
    "\n",
    "Intuitively, this seems the best match for the marketing optimisation problem.\n",
    "\n"
   ]
  },
  {
   "cell_type": "code",
   "execution_count": 2,
   "metadata": {},
   "outputs": [],
   "source": [
    "from ortools.linear_solver import pywraplp\n",
    "import time\n"
   ]
  },
  {
   "cell_type": "markdown",
   "metadata": {},
   "source": [
    "## Define the problem\n",
    "\n",
    "There is one variable for each pair of worker and task. The workers are numbered $0-5$ and the tasks $0-3$.\n"
   ]
  },
  {
   "cell_type": "code",
   "execution_count": 3,
   "metadata": {},
   "outputs": [],
   "source": [
    "def main():\n",
    "    \"\"\"\n",
    "    Solving an assignment problem with MIP\n",
    "    \"\"\"\n",
    "    \n",
    "    # Instantiate a mixed integer solver\n",
    "    solver = pywraplp.Solver('SolveAssignmentProblemMIP', pywraplp.Solver.CBC_MIXED_INTEGER_PROGRAMMING)\n",
    "    \n",
    "    # define the costs\n",
    "    cost = [[90, 76, 75, 70],\n",
    "          [35, 85, 55, 65],\n",
    "          [125, 95, 90, 105],\n",
    "          [45, 110, 95, 115],\n",
    "          [60, 105, 80, 75],\n",
    "          [45, 65, 110, 95]]\n",
    "    \n",
    "    team1 = [0, 2, 4]\n",
    "    team2 = [1, 3, 5]\n",
    "    team_max = 2\n",
    "    \n",
    "    num_workers = len(cost)\n",
    "    num_tasks = len(cost[0])\n",
    "    \n",
    "    # create the binary integer variables for the problem\n",
    "    x = {}\n",
    "    \n",
    "    for i in range(num_workers):\n",
    "        for j in range (num_tasks):\n",
    "            x[i, j] = solver.BoolVar('x[%i, %i]' % (i, j))\n",
    "\n",
    "    # create the objective function\n",
    "    solver.Minimize(solver.Sum([cost[i][j] * x[i, j] for i in range(num_workers)\n",
    "                                                     for j in range(num_tasks)]))\n",
    "    \n",
    "    # create the constraints\n",
    "    ## each worker is assigned to at most 1 task\n",
    "    for i in range(num_workers):\n",
    "        solver.Add(solver.Sum([x[i, j] for j in range(num_tasks)]) <= 1)\n",
    "        \n",
    "    ## Each task is assigned to exactly 1 worker\n",
    "    for j in range(num_tasks):\n",
    "        solver.Add(solver.Sum([x[i, j] for i in range(num_workers)]) == 1)\n",
    "        \n",
    "    ## Each team takes on 2 tasks\n",
    "    solver.Add(solver.Sum([x[i, j] for i in team1 for j in range(num_tasks)]) <= team_max)\n",
    "    solver.Add(solver.Sum([x[i, j] for i in team2 for j in range(num_tasks)]) <= team_max)\n",
    "    \n",
    "    # Invoke the solver\n",
    "    sol = solver.Solve()\n",
    "    \n",
    "    print('Total cost = %d' % (solver.Objective().Value()))\n",
    "    print()\n",
    "    for i in range(num_workers):\n",
    "        for j in range(num_tasks):\n",
    "            if x[i, j].solution_value() > 0:\n",
    "                print('worker %d assigned to task %d; cost %d.' % (i, j, cost[i][j]))\n",
    "    \n",
    "    print()\n",
    "    print('Time = ', solver.WallTime(), \" milliseconds.\")\n",
    "    \n",
    "    "
   ]
  },
  {
   "cell_type": "code",
   "execution_count": 4,
   "metadata": {},
   "outputs": [
    {
     "name": "stdout",
     "output_type": "stream",
     "text": [
      "Total cost = 250\n",
      "\n",
      "worker 0 assigned to task 2; cost 75.\n",
      "worker 1 assigned to task 0; cost 35.\n",
      "worker 4 assigned to task 3; cost 75.\n",
      "worker 5 assigned to task 1; cost 65.\n",
      "\n",
      "Time =  45  milliseconds.\n",
      "\n",
      "Time =  0.0214679999999996\n"
     ]
    }
   ],
   "source": [
    "if __name__ == \"__main__\":\n",
    "    start_time = time.clock()\n",
    "    main()\n",
    "    print()\n",
    "    print(\"Time = \", time.clock() - start_time)"
   ]
  },
  {
   "cell_type": "code",
   "execution_count": null,
   "metadata": {},
   "outputs": [],
   "source": []
  }
 ],
 "metadata": {
  "kernelspec": {
   "display_name": "Python 3",
   "language": "python",
   "name": "python3"
  },
  "language_info": {
   "codemirror_mode": {
    "name": "ipython",
    "version": 3
   },
   "file_extension": ".py",
   "mimetype": "text/x-python",
   "name": "python",
   "nbconvert_exporter": "python",
   "pygments_lexer": "ipython3",
   "version": "3.6.4"
  }
 },
 "nbformat": 4,
 "nbformat_minor": 2
}
