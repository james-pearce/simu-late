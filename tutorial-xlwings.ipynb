{
 "cells": [
  {
   "cell_type": "code",
   "execution_count": 51,
   "metadata": {},
   "outputs": [],
   "source": [
    "import xlwings as xw\n",
    "import pandas as pd\n",
    "from ortools.linear_solver import pywraplp\n",
    "import numpy as np"
   ]
  },
  {
   "cell_type": "code",
   "execution_count": 44,
   "metadata": {},
   "outputs": [],
   "source": [
    "# settings\n",
    "## to do: YAML these\n",
    "\n",
    "sample_size = 100 # initial sample to optimize on"
   ]
  },
  {
   "cell_type": "code",
   "execution_count": 2,
   "metadata": {},
   "outputs": [],
   "source": [
    "# wb = xw.Book()  # this will create a new workbook\n",
    "wb = xw.Book(r'myproject/myproject.xlsm')  # connect to an existing file in the current working directory\n",
    "# wb = xw.Book(r'C:\\path\\to\\file.xlsx')  # on Windows: use raw strings to escape backslashes"
   ]
  },
  {
   "cell_type": "markdown",
   "metadata": {},
   "source": [
    "Instantiate a sheet object."
   ]
  },
  {
   "cell_type": "code",
   "execution_count": 4,
   "metadata": {},
   "outputs": [],
   "source": [
    "sht = wb.sheets['temp_sheet']\n"
   ]
  },
  {
   "cell_type": "markdown",
   "metadata": {},
   "source": [
    "Reading and writing is easy:"
   ]
  },
  {
   "cell_type": "code",
   "execution_count": 5,
   "metadata": {},
   "outputs": [
    {
     "data": {
      "text/plain": [
       "'Foo 1'"
      ]
     },
     "execution_count": 5,
     "metadata": {},
     "output_type": "execute_result"
    }
   ],
   "source": [
    "sht.range('A1').value = 'Foo 1'\n",
    "sht.range('A1').value"
   ]
  },
  {
   "cell_type": "markdown",
   "metadata": {},
   "source": [
    "Read in product and channel information from Excel."
   ]
  },
  {
   "cell_type": "code",
   "execution_count": 39,
   "metadata": {},
   "outputs": [],
   "source": [
    "customer_sheet = wb.sheets['customer_data']\n",
    "product_sheet = wb.sheets['products']\n",
    "channel_sheet = wb.sheets['channels']\n",
    "scenario_sheet = wb.sheets['Scenario']"
   ]
  },
  {
   "cell_type": "code",
   "execution_count": 48,
   "metadata": {},
   "outputs": [],
   "source": [
    "product_probs_all = customer_sheet.range('A1').options(pd.DataFrame, expand='table').value\n",
    "products_df = product_sheet.range('A1').options(pd.DataFrame, expand='table').value\n",
    "\n",
    "products = products_df.index\n",
    "productValue = products_df.iloc[:,0]\n",
    "\n",
    "channels_df = channel_sheet.range('A1').options(pd.DataFrame, expand='table').value\n",
    "channels = channels_df.index\n",
    "cost = channels_df['cost']\n",
    "factor = channels_df['factor']"
   ]
  },
  {
   "cell_type": "markdown",
   "metadata": {},
   "source": [
    "Get the available marketing budget from the `Scenario` sheet."
   ]
  },
  {
   "cell_type": "code",
   "execution_count": 47,
   "metadata": {},
   "outputs": [
    {
     "data": {
      "text/plain": [
       "499.99949999999995"
      ]
     },
     "execution_count": 47,
     "metadata": {},
     "output_type": "execute_result"
    }
   ],
   "source": [
    "budget_range = scenario_sheet.range('budgetConstraints').value\n",
    "availableBudget_total = budget_range[1]\n",
    "availableBudget = availableBudget_total/sample_size # scale to sample_size for initial optimization"
   ]
  },
  {
   "cell_type": "markdown",
   "metadata": {},
   "source": [
    "Create a sample of size `sample_size` for the initial optimization."
   ]
  },
  {
   "cell_type": "code",
   "execution_count": 49,
   "metadata": {},
   "outputs": [
    {
     "data": {
      "text/plain": [
       "(100, 5)"
      ]
     },
     "execution_count": 49,
     "metadata": {},
     "output_type": "execute_result"
    }
   ],
   "source": [
    "product_probs = product_probs_all.sample(n=sample_size, random_state=2058)"
   ]
  },
  {
   "cell_type": "markdown",
   "metadata": {},
   "source": [
    "Instantiate the solver as an MIP problem."
   ]
  },
  {
   "cell_type": "code",
   "execution_count": 55,
   "metadata": {},
   "outputs": [],
   "source": [
    "solver = pywraplp.Solver('SolveCampaignProblem', pywraplp.Solver.CBC_MIXED_INTEGER_PROGRAMMING)"
   ]
  },
  {
   "cell_type": "markdown",
   "metadata": {},
   "source": [
    "Define the number of customers, the number of offers and the number of channels as $x_{ijk}$."
   ]
  },
  {
   "cell_type": "code",
   "execution_count": 56,
   "metadata": {},
   "outputs": [],
   "source": [
    "num_customers = product_probs.shape[0]\n",
    "num_products = len(products)\n",
    "num_channels = len(channels)\n",
    "\n",
    "x = {}\n",
    "\n",
    "for i in range(num_customers):\n",
    "    for j in range(num_products):\n",
    "        for k in range(num_channels):\n",
    "            x[i, j, k] = solver.IntVar(0, 1, 'x[%i,%i,%i]' % (i, j, k))"
   ]
  },
  {
   "cell_type": "markdown",
   "metadata": {},
   "source": [
    "## Set up the constraints\n",
    "\n",
    "  1. Offer only one product per customer. _(TO DO: update this.)_\n",
    "  2. Adhere to budget, channel and product constraints from the Excel spreadsheet.\n",
    "  3. Adhere to number of offer constraints\n",
    "  \n"
   ]
  },
  {
   "cell_type": "code",
   "execution_count": 57,
   "metadata": {},
   "outputs": [
    {
     "data": {
      "text/plain": [
       "<ortools.linear_solver.pywraplp.Constraint; proxy of <Swig Object of type 'operations_research::MPConstraint *' at 0x119637150> >"
      ]
     },
     "execution_count": 57,
     "metadata": {},
     "output_type": "execute_result"
    }
   ],
   "source": [
    "    ## offer only one product per customer\n",
    "    for i in range(num_customers):\n",
    "        solver.Add(solver.Sum([x[i, j, k] \n",
    "                               for j in range(num_products)\n",
    "                               for k in range(num_channels)\n",
    "                              ]) <= 1) # *** MAGIC NUMBER ALERT!!! ***\n",
    "\n",
    "    ## Do not exceed the budget\n",
    "    solver.Add(solver.Sum([x[i, j, k]*cost[k]\n",
    "                           for i in range(num_customers)\n",
    "                           for j in range(num_products)\n",
    "                           for k in range(num_channels)\n",
    "                          ]) <= availableBudget)"
   ]
  },
  {
   "cell_type": "markdown",
   "metadata": {},
   "source": [
    "### Get the channel constraints"
   ]
  },
  {
   "cell_type": "code",
   "execution_count": 65,
   "metadata": {},
   "outputs": [
    {
     "data": {
      "text/html": [
       "<div>\n",
       "<style scoped>\n",
       "    .dataframe tbody tr th:only-of-type {\n",
       "        vertical-align: middle;\n",
       "    }\n",
       "\n",
       "    .dataframe tbody tr th {\n",
       "        vertical-align: top;\n",
       "    }\n",
       "\n",
       "    .dataframe thead th {\n",
       "        text-align: right;\n",
       "    }\n",
       "</style>\n",
       "<table border=\"1\" class=\"dataframe\">\n",
       "  <thead>\n",
       "    <tr style=\"text-align: right;\">\n",
       "      <th></th>\n",
       "      <th>n_min</th>\n",
       "      <th>n_max</th>\n",
       "    </tr>\n",
       "    <tr>\n",
       "      <th>channel</th>\n",
       "      <th></th>\n",
       "      <th></th>\n",
       "    </tr>\n",
       "  </thead>\n",
       "  <tbody>\n",
       "    <tr>\n",
       "      <th>gift</th>\n",
       "      <td>1000</td>\n",
       "      <td>–</td>\n",
       "    </tr>\n",
       "    <tr>\n",
       "      <th>newsletter</th>\n",
       "      <td>1000</td>\n",
       "      <td>–</td>\n",
       "    </tr>\n",
       "    <tr>\n",
       "      <th>seminar</th>\n",
       "      <td>1000</td>\n",
       "      <td>–</td>\n",
       "    </tr>\n",
       "  </tbody>\n",
       "</table>\n",
       "</div>"
      ],
      "text/plain": [
       "            n_min n_max\n",
       "channel                \n",
       "gift         1000     –\n",
       "newsletter   1000     –\n",
       "seminar      1000     –"
      ]
     },
     "execution_count": 65,
     "metadata": {},
     "output_type": "execute_result"
    }
   ],
   "source": [
    "# channel minima\n",
    "channelConstraints_n_range = scenario_sheet.range('channelConstraints_n').options(numbers=int).value\n",
    "channelConstraints_df = pd.DataFrame(channelConstraints_n_range, index=channels, columns=['n_min', 'n_max'])"
   ]
  },
  {
   "cell_type": "markdown",
   "metadata": {},
   "source": [
    "### Set the channel constraints"
   ]
  },
  {
   "cell_type": "code",
   "execution_count": 68,
   "metadata": {},
   "outputs": [],
   "source": [
    "# minimums for channel\n",
    "for k in range(num_channels):\n",
    "    solver.Add(solver.Sum([x[i, j, k]\n",
    "        for i in range(num_customers)\n",
    "        for j in range(num_products)\n",
    "        ]) >= channelConstraints_df.loc[channels[k], 'n_min'])"
   ]
  },
  {
   "cell_type": "code",
   "execution_count": null,
   "metadata": {},
   "outputs": [],
   "source": []
  },
  {
   "cell_type": "markdown",
   "metadata": {},
   "source": [
    "There are many **convenience functions** available."
   ]
  },
  {
   "cell_type": "code",
   "execution_count": 12,
   "metadata": {},
   "outputs": [
    {
     "name": "stdout",
     "output_type": "stream",
     "text": [
      "600000\n"
     ]
    }
   ],
   "source": [
    "# read_value = sht.range(\"D5\").options(numbers=int).value\n",
    "read_value = sht.range(\"D4\").options(numbers=int).value\n",
    "print(read_value*2)\n",
    "sht.range(\"D6\").value = read_value * 2"
   ]
  },
  {
   "cell_type": "markdown",
   "metadata": {},
   "source": [
    "Read a named range called `test_value`."
   ]
  },
  {
   "cell_type": "code",
   "execution_count": 13,
   "metadata": {},
   "outputs": [
    {
     "name": "stdout",
     "output_type": "stream",
     "text": [
      "500200\n"
     ]
    }
   ],
   "source": [
    "test_value = sht.range(\"test_value\").options(numbers=int).value\n",
    "print(test_value)"
   ]
  },
  {
   "cell_type": "markdown",
   "metadata": {},
   "source": [
    "Write to the named range."
   ]
  },
  {
   "cell_type": "code",
   "execution_count": 14,
   "metadata": {},
   "outputs": [
    {
     "data": {
      "text/plain": [
       "500201.0"
      ]
     },
     "execution_count": 14,
     "metadata": {},
     "output_type": "execute_result"
    }
   ],
   "source": [
    "sht.range(\"test_value\").value = test_value + 1\n",
    "sht.range(\"test_value\").value"
   ]
  },
  {
   "cell_type": "code",
   "execution_count": null,
   "metadata": {},
   "outputs": [],
   "source": [
    "sht.range('A1').value = [['Foo 1', 'Foo 2', 'Foo 3'], [10.0, 20.0, 30.0]]\n",
    "sht.range('A1').expand().value"
   ]
  },
  {
   "cell_type": "markdown",
   "metadata": {},
   "source": [
    "**Powerful converters** handle most data types of interest, including Numpy arrays and Pandas DataFrames in both directions:"
   ]
  },
  {
   "cell_type": "code",
   "execution_count": 17,
   "metadata": {},
   "outputs": [
    {
     "data": {
      "text/html": [
       "<div>\n",
       "<style scoped>\n",
       "    .dataframe tbody tr th:only-of-type {\n",
       "        vertical-align: middle;\n",
       "    }\n",
       "\n",
       "    .dataframe tbody tr th {\n",
       "        vertical-align: top;\n",
       "    }\n",
       "\n",
       "    .dataframe thead th {\n",
       "        text-align: right;\n",
       "    }\n",
       "</style>\n",
       "<table border=\"1\" class=\"dataframe\">\n",
       "  <thead>\n",
       "    <tr style=\"text-align: right;\">\n",
       "      <th></th>\n",
       "      <th>a</th>\n",
       "      <th>b</th>\n",
       "    </tr>\n",
       "  </thead>\n",
       "  <tbody>\n",
       "    <tr>\n",
       "      <th>0.0</th>\n",
       "      <td>1.0</td>\n",
       "      <td>2.0</td>\n",
       "    </tr>\n",
       "    <tr>\n",
       "      <th>1.0</th>\n",
       "      <td>3.0</td>\n",
       "      <td>4.0</td>\n",
       "    </tr>\n",
       "  </tbody>\n",
       "</table>\n",
       "</div>"
      ],
      "text/plain": [
       "       a    b\n",
       "0.0  1.0  2.0\n",
       "1.0  3.0  4.0"
      ]
     },
     "execution_count": 17,
     "metadata": {},
     "output_type": "execute_result"
    }
   ],
   "source": [
    "import pandas as pd\n",
    "df = pd.DataFrame([[1,2], [3,4]], columns=['a', 'b'])\n",
    "sht.range('A1').value = df\n",
    "sht.range('A1').options(pd.DataFrame, expand='table').value"
   ]
  },
  {
   "cell_type": "markdown",
   "metadata": {},
   "source": [
    "**Matplotlib figures** can be shown as pictures in Excel:"
   ]
  },
  {
   "cell_type": "code",
   "execution_count": null,
   "metadata": {},
   "outputs": [],
   "source": [
    "import matplotlib.pyplot as plt\n",
    "fig = plt.figure()\n",
    "plt.plot([1, 2, 3, 4, 5])\n",
    "sht.pictures.add(fig, name='MyPlot', update=True)"
   ]
  },
  {
   "cell_type": "markdown",
   "metadata": {},
   "source": [
    "Shortcut for the active sheet: `xw.Range`\n",
    "\n",
    "If you want to quickly talk to the active sheet in the active workbook, you don’t need instantiate a workbook and sheet object, but can simply do:"
   ]
  },
  {
   "cell_type": "code",
   "execution_count": null,
   "metadata": {},
   "outputs": [],
   "source": [
    "xw.Range('A1').value = 'Foo'\n",
    "xw.Range('A1').value\n",
    "'Foo'"
   ]
  },
  {
   "cell_type": "markdown",
   "metadata": {},
   "source": [
    "## 2. Macros: Call Python from Excel\n",
    "\n"
   ]
  }
 ],
 "metadata": {
  "kernelspec": {
   "display_name": "Python 3",
   "language": "python",
   "name": "python3"
  },
  "language_info": {
   "codemirror_mode": {
    "name": "ipython",
    "version": 3
   },
   "file_extension": ".py",
   "mimetype": "text/x-python",
   "name": "python",
   "nbconvert_exporter": "python",
   "pygments_lexer": "ipython3",
   "version": "3.6.4"
  }
 },
 "nbformat": 4,
 "nbformat_minor": 2
}
