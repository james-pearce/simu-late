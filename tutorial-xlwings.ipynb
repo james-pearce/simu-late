{
 "cells": [
  {
   "cell_type": "code",
   "execution_count": 1,
   "metadata": {},
   "outputs": [],
   "source": [
    "import xlwings as xw\n",
    "import pandas as pd\n",
    "from ortools.linear_solver import pywraplp\n",
    "import numpy as np"
   ]
  },
  {
   "cell_type": "code",
   "execution_count": 2,
   "metadata": {},
   "outputs": [],
   "source": [
    "# settings\n",
    "## to do: YAML these\n",
    "\n",
    "sample_size = 100 # initial sample to optimize on"
   ]
  },
  {
   "cell_type": "code",
   "execution_count": 3,
   "metadata": {},
   "outputs": [],
   "source": [
    "# wb = xw.Book()  # this will create a new workbook\n",
    "wb = xw.Book(r'myproject/myproject.xlsm')  # connect to an existing file in the current working directory\n",
    "# wb = xw.Book(r'C:\\path\\to\\file.xlsx')  # on Windows: use raw strings to escape backslashes"
   ]
  },
  {
   "cell_type": "markdown",
   "metadata": {},
   "source": [
    "Instantiate a sheet object."
   ]
  },
  {
   "cell_type": "code",
   "execution_count": 4,
   "metadata": {},
   "outputs": [],
   "source": [
    "sht = wb.sheets['temp_sheet']\n"
   ]
  },
  {
   "cell_type": "markdown",
   "metadata": {},
   "source": [
    "Reading and writing is easy:"
   ]
  },
  {
   "cell_type": "code",
   "execution_count": 5,
   "metadata": {},
   "outputs": [
    {
     "data": {
      "text/plain": [
       "'Foo 1'"
      ]
     },
     "execution_count": 5,
     "metadata": {},
     "output_type": "execute_result"
    }
   ],
   "source": [
    "sht.range('A1').value = 'Foo 1'\n",
    "sht.range('A1').value"
   ]
  },
  {
   "cell_type": "markdown",
   "metadata": {},
   "source": [
    "Read in product and channel information from Excel."
   ]
  },
  {
   "cell_type": "code",
   "execution_count": 6,
   "metadata": {},
   "outputs": [],
   "source": [
    "customer_sheet = wb.sheets['customer_data']\n",
    "product_sheet = wb.sheets['products']\n",
    "channel_sheet = wb.sheets['channels']\n",
    "scenario_sheet = wb.sheets['Scenario']"
   ]
  },
  {
   "cell_type": "code",
   "execution_count": 7,
   "metadata": {},
   "outputs": [],
   "source": [
    "product_probs_all = customer_sheet.range('A1').options(pd.DataFrame, expand='table').value\n",
    "products_df = product_sheet.range('A1').options(pd.DataFrame, expand='table').value\n",
    "\n",
    "products = products_df.index\n",
    "productValue = products_df.iloc[:,0]\n",
    "\n",
    "channels_df = channel_sheet.range('A1').options(pd.DataFrame, expand='table').value\n",
    "channels = channels_df.index\n",
    "cost = channels_df['cost']\n",
    "factor = channels_df['factor']"
   ]
  },
  {
   "cell_type": "markdown",
   "metadata": {},
   "source": [
    "Get the available marketing budget from the `Scenario` sheet."
   ]
  },
  {
   "cell_type": "code",
   "execution_count": 8,
   "metadata": {},
   "outputs": [
    {
     "name": "stdout",
     "output_type": "stream",
     "text": [
      "Sampled avilable budget: 1851\n"
     ]
    }
   ],
   "source": [
    "budget_range = scenario_sheet.range('budgetConstraints').value\n",
    "availableBudget_total = budget_range[1]\n",
    "availableBudget = availableBudget_total/sample_size # scale to sample_size for initial optimization\n",
    "print(\"Sampled avilable budget: %d\" % availableBudget)"
   ]
  },
  {
   "cell_type": "markdown",
   "metadata": {},
   "source": [
    "Create a sample of size `sample_size` for the initial optimization."
   ]
  },
  {
   "cell_type": "code",
   "execution_count": 9,
   "metadata": {},
   "outputs": [],
   "source": [
    "product_probs = product_probs_all.sample(n=sample_size, random_state=2058)"
   ]
  },
  {
   "cell_type": "markdown",
   "metadata": {},
   "source": [
    "Instantiate the solver as an MIP problem."
   ]
  },
  {
   "cell_type": "code",
   "execution_count": 10,
   "metadata": {},
   "outputs": [],
   "source": [
    "solver = pywraplp.Solver('SolveCampaignProblem', pywraplp.Solver.CBC_MIXED_INTEGER_PROGRAMMING)"
   ]
  },
  {
   "cell_type": "markdown",
   "metadata": {},
   "source": [
    "Define the number of customers, the number of offers and the number of channels as $x_{ijk}$."
   ]
  },
  {
   "cell_type": "code",
   "execution_count": 11,
   "metadata": {},
   "outputs": [],
   "source": [
    "num_customers = product_probs.shape[0]\n",
    "num_products = len(products)\n",
    "num_channels = len(channels)\n",
    "\n",
    "x = {}\n",
    "\n",
    "for i in range(num_customers):\n",
    "    for j in range(num_products):\n",
    "        for k in range(num_channels):\n",
    "            x[i, j, k] = solver.IntVar(0, 1, 'x[%i,%i,%i]' % (i, j, k))"
   ]
  },
  {
   "cell_type": "code",
   "execution_count": 12,
   "metadata": {},
   "outputs": [
    {
     "name": "stdout",
     "output_type": "stream",
     "text": [
      "Number of customers: 100\n",
      "Number of products: 4\n",
      "Number of channels: 3\n"
     ]
    }
   ],
   "source": [
    "print('Number of customers: %d' % num_customers)\n",
    "print('Number of products: %d' % num_products)\n",
    "print('Number of channels: %d' % num_channels)"
   ]
  },
  {
   "cell_type": "markdown",
   "metadata": {},
   "source": [
    "## Set up the constraints\n",
    "\n",
    "  1. Offer only one product per customer. _(TO DO: update this.)_\n",
    "  2. Adhere to budget, channel and product constraints from the Excel spreadsheet.\n",
    "  3. Adhere to number of offer constraints\n",
    "  \n"
   ]
  },
  {
   "cell_type": "code",
   "execution_count": 13,
   "metadata": {},
   "outputs": [],
   "source": [
    "    ## offer only one product per customer\n",
    "    for i in range(num_customers):\n",
    "        solver.Add(solver.Sum([x[i, j, k] \n",
    "                               for j in range(num_products)\n",
    "                               for k in range(num_channels)\n",
    "                              ]) <= 1) # *** MAGIC NUMBER ALERT!!! ***"
   ]
  },
  {
   "cell_type": "code",
   "execution_count": 14,
   "metadata": {},
   "outputs": [
    {
     "data": {
      "text/plain": [
       "<ortools.linear_solver.pywraplp.Constraint; proxy of <Swig Object of type 'operations_research::MPConstraint *' at 0x1188356c0> >"
      ]
     },
     "execution_count": 14,
     "metadata": {},
     "output_type": "execute_result"
    }
   ],
   "source": [
    "    ## Do not exceed the budget\n",
    "    solver.Add(solver.Sum([x[i, j, k]*cost[k]\n",
    "                           for i in range(num_customers)\n",
    "                           for j in range(num_products)\n",
    "                           for k in range(num_channels)\n",
    "                          ]) <= availableBudget)"
   ]
  },
  {
   "cell_type": "code",
   "execution_count": 25,
   "metadata": {},
   "outputs": [
    {
     "data": {
      "text/plain": [
       "channel\n",
       "gift          20.0\n",
       "newsletter    15.0\n",
       "seminar       23.0\n",
       "Name: cost, dtype: float64"
      ]
     },
     "execution_count": 25,
     "metadata": {},
     "output_type": "execute_result"
    }
   ],
   "source": [
    "cost"
   ]
  },
  {
   "cell_type": "markdown",
   "metadata": {},
   "source": [
    "### Get the channel constraints"
   ]
  },
  {
   "cell_type": "code",
   "execution_count": 15,
   "metadata": {},
   "outputs": [],
   "source": [
    "# channel minima\n",
    "channelConstraints_n_range = scenario_sheet.range('channelConstraints_n').options(numbers=int).value\n",
    "channelConstraints_df = pd.DataFrame(channelConstraints_n_range, index=channels, columns=['n_min', 'n_max'])"
   ]
  },
  {
   "cell_type": "markdown",
   "metadata": {},
   "source": [
    "Adjust the constraints for the sample size."
   ]
  },
  {
   "cell_type": "code",
   "execution_count": 16,
   "metadata": {},
   "outputs": [],
   "source": [
    "channelConstraints_df['n_min_adjusted'] = channelConstraints_df['n_min']/sample_size"
   ]
  },
  {
   "cell_type": "markdown",
   "metadata": {},
   "source": [
    "### Set the channel constraints"
   ]
  },
  {
   "cell_type": "code",
   "execution_count": 17,
   "metadata": {},
   "outputs": [],
   "source": [
    "# minimums for channel\n",
    "for k in range(num_channels):\n",
    "    solver.Add(solver.Sum([x[i, j, k]\n",
    "        for i in range(num_customers)\n",
    "        for j in range(num_products)\n",
    "        ]) >= channelConstraints_df.loc[channels[k], 'n_min_adjusted'])"
   ]
  },
  {
   "cell_type": "markdown",
   "metadata": {},
   "source": [
    "### Get the product constraints"
   ]
  },
  {
   "cell_type": "code",
   "execution_count": 18,
   "metadata": {},
   "outputs": [],
   "source": [
    "# product minima\n",
    "productConstraints_n_range = scenario_sheet.range('productConstraints_n').options(numbers=int).value\n",
    "productConstraints_df = pd.DataFrame(productConstraints_n_range, index=products, columns=['n_min', 'n_max'])"
   ]
  },
  {
   "cell_type": "markdown",
   "metadata": {},
   "source": [
    "Adjust the constraints for the sample size."
   ]
  },
  {
   "cell_type": "code",
   "execution_count": 19,
   "metadata": {},
   "outputs": [],
   "source": [
    "productConstraints_df['n_min_adjusted'] = productConstraints_df['n_min']/sample_size"
   ]
  },
  {
   "cell_type": "markdown",
   "metadata": {},
   "source": [
    "### Set the channel constraints"
   ]
  },
  {
   "cell_type": "code",
   "execution_count": 20,
   "metadata": {},
   "outputs": [],
   "source": [
    "# minima for product\n",
    "for j in range(num_products):\n",
    "    solver.Add(solver.Sum([x[i, j, k]\n",
    "        for i in range(num_customers)\n",
    "        for k in range(num_channels)\n",
    "        ]) >= productConstraints_df.loc[products[j], 'n_min_adjusted'])"
   ]
  },
  {
   "cell_type": "markdown",
   "metadata": {},
   "source": [
    "## Set the _objective function_\n",
    "\n",
    "Set to maximise the revenue $R$. Here $x_{ijk}$ denotes whether customer $i$ receives an offer for product $j$ over channel $k$, $f_k$ denotes the channel adjustment factor, $v_j$ the product value and $p_{ij}$ the probability that customer $i$ takes up product $j$.\n",
    "\n",
    "$ \\max R = \\sum_{ijk} x_{ijk} \\times f_k \\times v_j \\times p_{ij}$\n",
    "\n",
    "\n",
    "> At some point, need to be able to specify \n",
    "  1. What to optimize, and \n",
    "  2. Whether to maximise or minimise.  \n",
    "\n",
    "> At the moment we maximise revenue, this could be profit, we could minimise budget, maximise profit or maximise ROI."
   ]
  },
  {
   "cell_type": "code",
   "execution_count": 21,
   "metadata": {},
   "outputs": [],
   "source": [
    "#    solver.Minimize(solver.Sum([cost[i][j] * x[i, j] for i in range(num_workers)\n",
    "#                                                     for j in range(num_tasks)]))\n",
    "\n",
    "solver.Maximize(solver.Sum([x[i, j, k]*factor[k]*productValue[j]*product_probs[products[j]].iloc[i]\n",
    "                           for i in range(num_customers)\n",
    "                           for j in range(num_products)\n",
    "                           for k in range(num_channels)]))"
   ]
  },
  {
   "cell_type": "markdown",
   "metadata": {},
   "source": [
    "### Invoke the solver\n",
    "\n",
    "> Need a routine here to evaluate whether the solver is solving. That is, set the most iterations and a time limit."
   ]
  },
  {
   "cell_type": "code",
   "execution_count": 22,
   "metadata": {},
   "outputs": [],
   "source": [
    "# Invoke the solver\n",
    "# t = time.process_time()\n",
    "sol = solver.Solve()\n",
    "# elapsed_time = time.process_time() - t"
   ]
  },
  {
   "cell_type": "code",
   "execution_count": 23,
   "metadata": {},
   "outputs": [
    {
     "data": {
      "text/plain": [
       "0"
      ]
     },
     "execution_count": 23,
     "metadata": {},
     "output_type": "execute_result"
    }
   ],
   "source": [
    "sol"
   ]
  },
  {
   "cell_type": "markdown",
   "metadata": {},
   "source": [
    "Print out the solution. We can print out more information about the constraints. What happens in `xlwings` when the python routine prints – does it go to the logs?"
   ]
  },
  {
   "cell_type": "code",
   "execution_count": 36,
   "metadata": {},
   "outputs": [
    {
     "name": "stdout",
     "output_type": "stream",
     "text": [
      "Total revenue = 3988\n",
      "Total budget  = 1845\n"
     ]
    },
    {
     "data": {
      "text/html": [
       "<div>\n",
       "<style scoped>\n",
       "    .dataframe tbody tr th:only-of-type {\n",
       "        vertical-align: middle;\n",
       "    }\n",
       "\n",
       "    .dataframe tbody tr th {\n",
       "        vertical-align: top;\n",
       "    }\n",
       "\n",
       "    .dataframe thead th {\n",
       "        text-align: right;\n",
       "    }\n",
       "</style>\n",
       "<table border=\"1\" class=\"dataframe\">\n",
       "  <thead>\n",
       "    <tr style=\"text-align: right;\">\n",
       "      <th></th>\n",
       "      <th>channel</th>\n",
       "      <th>product</th>\n",
       "      <th>customer</th>\n",
       "      <th>cost</th>\n",
       "      <th>revenue</th>\n",
       "    </tr>\n",
       "  </thead>\n",
       "  <tbody>\n",
       "    <tr>\n",
       "      <th>0</th>\n",
       "      <td>seminar</td>\n",
       "      <td>Pension</td>\n",
       "      <td>Brandon Trujillo</td>\n",
       "      <td>23.0</td>\n",
       "      <td>88.999706</td>\n",
       "    </tr>\n",
       "    <tr>\n",
       "      <th>1</th>\n",
       "      <td>seminar</td>\n",
       "      <td>Pension</td>\n",
       "      <td>Chelsea Carter</td>\n",
       "      <td>23.0</td>\n",
       "      <td>65.956422</td>\n",
       "    </tr>\n",
       "    <tr>\n",
       "      <th>2</th>\n",
       "      <td>seminar</td>\n",
       "      <td>Savings</td>\n",
       "      <td>Matthew Rodriguez</td>\n",
       "      <td>23.0</td>\n",
       "      <td>42.148905</td>\n",
       "    </tr>\n",
       "    <tr>\n",
       "      <th>3</th>\n",
       "      <td>seminar</td>\n",
       "      <td>Pension</td>\n",
       "      <td>Ann Schneider</td>\n",
       "      <td>23.0</td>\n",
       "      <td>55.401253</td>\n",
       "    </tr>\n",
       "    <tr>\n",
       "      <th>4</th>\n",
       "      <td>gift</td>\n",
       "      <td>Pension</td>\n",
       "      <td>Kevin Price</td>\n",
       "      <td>20.0</td>\n",
       "      <td>17.790143</td>\n",
       "    </tr>\n",
       "    <tr>\n",
       "      <th>5</th>\n",
       "      <td>seminar</td>\n",
       "      <td>Pension</td>\n",
       "      <td>Peter Bishop</td>\n",
       "      <td>23.0</td>\n",
       "      <td>87.090482</td>\n",
       "    </tr>\n",
       "    <tr>\n",
       "      <th>6</th>\n",
       "      <td>seminar</td>\n",
       "      <td>Pension</td>\n",
       "      <td>Roberto Barker</td>\n",
       "      <td>23.0</td>\n",
       "      <td>78.861178</td>\n",
       "    </tr>\n",
       "    <tr>\n",
       "      <th>7</th>\n",
       "      <td>seminar</td>\n",
       "      <td>Pension</td>\n",
       "      <td>Ronald Hall</td>\n",
       "      <td>23.0</td>\n",
       "      <td>51.553407</td>\n",
       "    </tr>\n",
       "    <tr>\n",
       "      <th>8</th>\n",
       "      <td>seminar</td>\n",
       "      <td>Mortgage</td>\n",
       "      <td>Megan Cook</td>\n",
       "      <td>23.0</td>\n",
       "      <td>60.967503</td>\n",
       "    </tr>\n",
       "    <tr>\n",
       "      <th>9</th>\n",
       "      <td>seminar</td>\n",
       "      <td>Mortgage</td>\n",
       "      <td>Miranda Merritt</td>\n",
       "      <td>23.0</td>\n",
       "      <td>37.626029</td>\n",
       "    </tr>\n",
       "    <tr>\n",
       "      <th>10</th>\n",
       "      <td>seminar</td>\n",
       "      <td>Savings</td>\n",
       "      <td>Brian Chapman</td>\n",
       "      <td>23.0</td>\n",
       "      <td>34.249256</td>\n",
       "    </tr>\n",
       "    <tr>\n",
       "      <th>11</th>\n",
       "      <td>seminar</td>\n",
       "      <td>Pension</td>\n",
       "      <td>Nancy Rice</td>\n",
       "      <td>23.0</td>\n",
       "      <td>47.664049</td>\n",
       "    </tr>\n",
       "    <tr>\n",
       "      <th>12</th>\n",
       "      <td>seminar</td>\n",
       "      <td>Savings</td>\n",
       "      <td>Michael Hill</td>\n",
       "      <td>23.0</td>\n",
       "      <td>43.434345</td>\n",
       "    </tr>\n",
       "    <tr>\n",
       "      <th>13</th>\n",
       "      <td>seminar</td>\n",
       "      <td>Pension</td>\n",
       "      <td>Melissa Mendoza</td>\n",
       "      <td>23.0</td>\n",
       "      <td>48.886495</td>\n",
       "    </tr>\n",
       "    <tr>\n",
       "      <th>14</th>\n",
       "      <td>seminar</td>\n",
       "      <td>Pension</td>\n",
       "      <td>Kevin Barnes</td>\n",
       "      <td>23.0</td>\n",
       "      <td>102.961351</td>\n",
       "    </tr>\n",
       "    <tr>\n",
       "      <th>15</th>\n",
       "      <td>seminar</td>\n",
       "      <td>Pension</td>\n",
       "      <td>Tracy Lynn</td>\n",
       "      <td>23.0</td>\n",
       "      <td>57.629910</td>\n",
       "    </tr>\n",
       "    <tr>\n",
       "      <th>16</th>\n",
       "      <td>seminar</td>\n",
       "      <td>Pension</td>\n",
       "      <td>Thomas Walls</td>\n",
       "      <td>23.0</td>\n",
       "      <td>96.217336</td>\n",
       "    </tr>\n",
       "    <tr>\n",
       "      <th>17</th>\n",
       "      <td>seminar</td>\n",
       "      <td>Pension</td>\n",
       "      <td>Tyler Munoz</td>\n",
       "      <td>23.0</td>\n",
       "      <td>56.831526</td>\n",
       "    </tr>\n",
       "    <tr>\n",
       "      <th>18</th>\n",
       "      <td>seminar</td>\n",
       "      <td>Savings</td>\n",
       "      <td>Lori Velasquez</td>\n",
       "      <td>23.0</td>\n",
       "      <td>46.514174</td>\n",
       "    </tr>\n",
       "    <tr>\n",
       "      <th>19</th>\n",
       "      <td>seminar</td>\n",
       "      <td>Pension</td>\n",
       "      <td>Jessica Turner</td>\n",
       "      <td>23.0</td>\n",
       "      <td>75.393546</td>\n",
       "    </tr>\n",
       "    <tr>\n",
       "      <th>20</th>\n",
       "      <td>seminar</td>\n",
       "      <td>Mortgage</td>\n",
       "      <td>Kevin Marshall</td>\n",
       "      <td>23.0</td>\n",
       "      <td>39.479161</td>\n",
       "    </tr>\n",
       "    <tr>\n",
       "      <th>21</th>\n",
       "      <td>seminar</td>\n",
       "      <td>Savings</td>\n",
       "      <td>David Drake</td>\n",
       "      <td>23.0</td>\n",
       "      <td>41.044700</td>\n",
       "    </tr>\n",
       "    <tr>\n",
       "      <th>22</th>\n",
       "      <td>seminar</td>\n",
       "      <td>Pension</td>\n",
       "      <td>Sergio Kennedy</td>\n",
       "      <td>23.0</td>\n",
       "      <td>110.469369</td>\n",
       "    </tr>\n",
       "    <tr>\n",
       "      <th>23</th>\n",
       "      <td>seminar</td>\n",
       "      <td>Pension</td>\n",
       "      <td>Adrian Watson</td>\n",
       "      <td>23.0</td>\n",
       "      <td>50.608278</td>\n",
       "    </tr>\n",
       "    <tr>\n",
       "      <th>24</th>\n",
       "      <td>seminar</td>\n",
       "      <td>Mortgage</td>\n",
       "      <td>Scott Alvarez</td>\n",
       "      <td>23.0</td>\n",
       "      <td>45.302377</td>\n",
       "    </tr>\n",
       "    <tr>\n",
       "      <th>25</th>\n",
       "      <td>seminar</td>\n",
       "      <td>Pension</td>\n",
       "      <td>Stephanie King</td>\n",
       "      <td>23.0</td>\n",
       "      <td>94.712789</td>\n",
       "    </tr>\n",
       "    <tr>\n",
       "      <th>26</th>\n",
       "      <td>gift</td>\n",
       "      <td>Mortgage</td>\n",
       "      <td>Ann Gonzales</td>\n",
       "      <td>20.0</td>\n",
       "      <td>18.841955</td>\n",
       "    </tr>\n",
       "    <tr>\n",
       "      <th>27</th>\n",
       "      <td>newsletter</td>\n",
       "      <td>Car loan</td>\n",
       "      <td>Michael Walsh</td>\n",
       "      <td>15.0</td>\n",
       "      <td>0.000000</td>\n",
       "    </tr>\n",
       "    <tr>\n",
       "      <th>28</th>\n",
       "      <td>seminar</td>\n",
       "      <td>Mortgage</td>\n",
       "      <td>Timothy James</td>\n",
       "      <td>23.0</td>\n",
       "      <td>34.997577</td>\n",
       "    </tr>\n",
       "    <tr>\n",
       "      <th>29</th>\n",
       "      <td>seminar</td>\n",
       "      <td>Pension</td>\n",
       "      <td>Sara Jones</td>\n",
       "      <td>23.0</td>\n",
       "      <td>38.530865</td>\n",
       "    </tr>\n",
       "    <tr>\n",
       "      <th>...</th>\n",
       "      <td>...</td>\n",
       "      <td>...</td>\n",
       "      <td>...</td>\n",
       "      <td>...</td>\n",
       "      <td>...</td>\n",
       "    </tr>\n",
       "    <tr>\n",
       "      <th>55</th>\n",
       "      <td>newsletter</td>\n",
       "      <td>Car loan</td>\n",
       "      <td>Sarah Kelly</td>\n",
       "      <td>15.0</td>\n",
       "      <td>0.000000</td>\n",
       "    </tr>\n",
       "    <tr>\n",
       "      <th>56</th>\n",
       "      <td>newsletter</td>\n",
       "      <td>Car loan</td>\n",
       "      <td>David Wyatt</td>\n",
       "      <td>15.0</td>\n",
       "      <td>0.000000</td>\n",
       "    </tr>\n",
       "    <tr>\n",
       "      <th>57</th>\n",
       "      <td>newsletter</td>\n",
       "      <td>Car loan</td>\n",
       "      <td>Jared Molina</td>\n",
       "      <td>15.0</td>\n",
       "      <td>0.000000</td>\n",
       "    </tr>\n",
       "    <tr>\n",
       "      <th>58</th>\n",
       "      <td>seminar</td>\n",
       "      <td>Pension</td>\n",
       "      <td>Thomas Farrell</td>\n",
       "      <td>23.0</td>\n",
       "      <td>82.724017</td>\n",
       "    </tr>\n",
       "    <tr>\n",
       "      <th>59</th>\n",
       "      <td>gift</td>\n",
       "      <td>Car loan</td>\n",
       "      <td>Michael Norman</td>\n",
       "      <td>20.0</td>\n",
       "      <td>11.771574</td>\n",
       "    </tr>\n",
       "    <tr>\n",
       "      <th>60</th>\n",
       "      <td>seminar</td>\n",
       "      <td>Mortgage</td>\n",
       "      <td>Malik Suarez</td>\n",
       "      <td>23.0</td>\n",
       "      <td>63.276465</td>\n",
       "    </tr>\n",
       "    <tr>\n",
       "      <th>61</th>\n",
       "      <td>seminar</td>\n",
       "      <td>Mortgage</td>\n",
       "      <td>Sara Holmes</td>\n",
       "      <td>23.0</td>\n",
       "      <td>38.034385</td>\n",
       "    </tr>\n",
       "    <tr>\n",
       "      <th>62</th>\n",
       "      <td>gift</td>\n",
       "      <td>Car loan</td>\n",
       "      <td>Stacey Crawford</td>\n",
       "      <td>20.0</td>\n",
       "      <td>15.322282</td>\n",
       "    </tr>\n",
       "    <tr>\n",
       "      <th>63</th>\n",
       "      <td>seminar</td>\n",
       "      <td>Pension</td>\n",
       "      <td>Angela Johnson</td>\n",
       "      <td>23.0</td>\n",
       "      <td>75.300943</td>\n",
       "    </tr>\n",
       "    <tr>\n",
       "      <th>64</th>\n",
       "      <td>seminar</td>\n",
       "      <td>Savings</td>\n",
       "      <td>Jessica Ingram</td>\n",
       "      <td>23.0</td>\n",
       "      <td>31.229784</td>\n",
       "    </tr>\n",
       "    <tr>\n",
       "      <th>65</th>\n",
       "      <td>seminar</td>\n",
       "      <td>Pension</td>\n",
       "      <td>Stephanie Johnson</td>\n",
       "      <td>23.0</td>\n",
       "      <td>63.298672</td>\n",
       "    </tr>\n",
       "    <tr>\n",
       "      <th>66</th>\n",
       "      <td>seminar</td>\n",
       "      <td>Pension</td>\n",
       "      <td>Molly Hernandez</td>\n",
       "      <td>23.0</td>\n",
       "      <td>69.782430</td>\n",
       "    </tr>\n",
       "    <tr>\n",
       "      <th>67</th>\n",
       "      <td>seminar</td>\n",
       "      <td>Pension</td>\n",
       "      <td>Lindsay Peterson</td>\n",
       "      <td>23.0</td>\n",
       "      <td>48.182364</td>\n",
       "    </tr>\n",
       "    <tr>\n",
       "      <th>68</th>\n",
       "      <td>seminar</td>\n",
       "      <td>Pension</td>\n",
       "      <td>Diana Tucker</td>\n",
       "      <td>23.0</td>\n",
       "      <td>110.711726</td>\n",
       "    </tr>\n",
       "    <tr>\n",
       "      <th>69</th>\n",
       "      <td>seminar</td>\n",
       "      <td>Mortgage</td>\n",
       "      <td>Jamie Casey</td>\n",
       "      <td>23.0</td>\n",
       "      <td>33.640695</td>\n",
       "    </tr>\n",
       "    <tr>\n",
       "      <th>70</th>\n",
       "      <td>seminar</td>\n",
       "      <td>Mortgage</td>\n",
       "      <td>Stephanie Jones</td>\n",
       "      <td>23.0</td>\n",
       "      <td>64.765457</td>\n",
       "    </tr>\n",
       "    <tr>\n",
       "      <th>71</th>\n",
       "      <td>seminar</td>\n",
       "      <td>Pension</td>\n",
       "      <td>Alexandra Cook</td>\n",
       "      <td>23.0</td>\n",
       "      <td>87.292196</td>\n",
       "    </tr>\n",
       "    <tr>\n",
       "      <th>72</th>\n",
       "      <td>seminar</td>\n",
       "      <td>Mortgage</td>\n",
       "      <td>Luis Palmer</td>\n",
       "      <td>23.0</td>\n",
       "      <td>59.439199</td>\n",
       "    </tr>\n",
       "    <tr>\n",
       "      <th>73</th>\n",
       "      <td>seminar</td>\n",
       "      <td>Savings</td>\n",
       "      <td>Janice Fox</td>\n",
       "      <td>23.0</td>\n",
       "      <td>31.160039</td>\n",
       "    </tr>\n",
       "    <tr>\n",
       "      <th>74</th>\n",
       "      <td>seminar</td>\n",
       "      <td>Mortgage</td>\n",
       "      <td>Michael Cook</td>\n",
       "      <td>23.0</td>\n",
       "      <td>70.934380</td>\n",
       "    </tr>\n",
       "    <tr>\n",
       "      <th>75</th>\n",
       "      <td>seminar</td>\n",
       "      <td>Savings</td>\n",
       "      <td>Douglas Brown</td>\n",
       "      <td>23.0</td>\n",
       "      <td>40.615305</td>\n",
       "    </tr>\n",
       "    <tr>\n",
       "      <th>76</th>\n",
       "      <td>gift</td>\n",
       "      <td>Car loan</td>\n",
       "      <td>Jacqueline Jones</td>\n",
       "      <td>20.0</td>\n",
       "      <td>13.291415</td>\n",
       "    </tr>\n",
       "    <tr>\n",
       "      <th>77</th>\n",
       "      <td>seminar</td>\n",
       "      <td>Savings</td>\n",
       "      <td>Samantha Wood</td>\n",
       "      <td>23.0</td>\n",
       "      <td>35.684440</td>\n",
       "    </tr>\n",
       "    <tr>\n",
       "      <th>78</th>\n",
       "      <td>seminar</td>\n",
       "      <td>Savings</td>\n",
       "      <td>Walter Christensen</td>\n",
       "      <td>23.0</td>\n",
       "      <td>47.692880</td>\n",
       "    </tr>\n",
       "    <tr>\n",
       "      <th>79</th>\n",
       "      <td>seminar</td>\n",
       "      <td>Savings</td>\n",
       "      <td>Barbara Jordan</td>\n",
       "      <td>23.0</td>\n",
       "      <td>50.627776</td>\n",
       "    </tr>\n",
       "    <tr>\n",
       "      <th>80</th>\n",
       "      <td>gift</td>\n",
       "      <td>Car loan</td>\n",
       "      <td>Matthew Guzman</td>\n",
       "      <td>20.0</td>\n",
       "      <td>10.716813</td>\n",
       "    </tr>\n",
       "    <tr>\n",
       "      <th>81</th>\n",
       "      <td>seminar</td>\n",
       "      <td>Savings</td>\n",
       "      <td>Brandon Peterson</td>\n",
       "      <td>23.0</td>\n",
       "      <td>44.289676</td>\n",
       "    </tr>\n",
       "    <tr>\n",
       "      <th>82</th>\n",
       "      <td>seminar</td>\n",
       "      <td>Pension</td>\n",
       "      <td>Anthony Morgan</td>\n",
       "      <td>23.0</td>\n",
       "      <td>80.890582</td>\n",
       "    </tr>\n",
       "    <tr>\n",
       "      <th>83</th>\n",
       "      <td>gift</td>\n",
       "      <td>Savings</td>\n",
       "      <td>Melissa Joseph</td>\n",
       "      <td>20.0</td>\n",
       "      <td>18.949416</td>\n",
       "    </tr>\n",
       "    <tr>\n",
       "      <th>84</th>\n",
       "      <td>seminar</td>\n",
       "      <td>Pension</td>\n",
       "      <td>Jessica Mcguire</td>\n",
       "      <td>23.0</td>\n",
       "      <td>47.182683</td>\n",
       "    </tr>\n",
       "  </tbody>\n",
       "</table>\n",
       "<p>85 rows × 5 columns</p>\n",
       "</div>"
      ],
      "text/plain": [
       "       channel   product            customer  cost     revenue\n",
       "0      seminar   Pension    Brandon Trujillo  23.0   88.999706\n",
       "1      seminar   Pension      Chelsea Carter  23.0   65.956422\n",
       "2      seminar   Savings   Matthew Rodriguez  23.0   42.148905\n",
       "3      seminar   Pension       Ann Schneider  23.0   55.401253\n",
       "4         gift   Pension         Kevin Price  20.0   17.790143\n",
       "5      seminar   Pension        Peter Bishop  23.0   87.090482\n",
       "6      seminar   Pension      Roberto Barker  23.0   78.861178\n",
       "7      seminar   Pension         Ronald Hall  23.0   51.553407\n",
       "8      seminar  Mortgage          Megan Cook  23.0   60.967503\n",
       "9      seminar  Mortgage     Miranda Merritt  23.0   37.626029\n",
       "10     seminar   Savings       Brian Chapman  23.0   34.249256\n",
       "11     seminar   Pension          Nancy Rice  23.0   47.664049\n",
       "12     seminar   Savings        Michael Hill  23.0   43.434345\n",
       "13     seminar   Pension     Melissa Mendoza  23.0   48.886495\n",
       "14     seminar   Pension        Kevin Barnes  23.0  102.961351\n",
       "15     seminar   Pension          Tracy Lynn  23.0   57.629910\n",
       "16     seminar   Pension        Thomas Walls  23.0   96.217336\n",
       "17     seminar   Pension         Tyler Munoz  23.0   56.831526\n",
       "18     seminar   Savings      Lori Velasquez  23.0   46.514174\n",
       "19     seminar   Pension      Jessica Turner  23.0   75.393546\n",
       "20     seminar  Mortgage      Kevin Marshall  23.0   39.479161\n",
       "21     seminar   Savings         David Drake  23.0   41.044700\n",
       "22     seminar   Pension      Sergio Kennedy  23.0  110.469369\n",
       "23     seminar   Pension       Adrian Watson  23.0   50.608278\n",
       "24     seminar  Mortgage       Scott Alvarez  23.0   45.302377\n",
       "25     seminar   Pension      Stephanie King  23.0   94.712789\n",
       "26        gift  Mortgage        Ann Gonzales  20.0   18.841955\n",
       "27  newsletter  Car loan       Michael Walsh  15.0    0.000000\n",
       "28     seminar  Mortgage       Timothy James  23.0   34.997577\n",
       "29     seminar   Pension          Sara Jones  23.0   38.530865\n",
       "..         ...       ...                 ...   ...         ...\n",
       "55  newsletter  Car loan         Sarah Kelly  15.0    0.000000\n",
       "56  newsletter  Car loan         David Wyatt  15.0    0.000000\n",
       "57  newsletter  Car loan        Jared Molina  15.0    0.000000\n",
       "58     seminar   Pension      Thomas Farrell  23.0   82.724017\n",
       "59        gift  Car loan      Michael Norman  20.0   11.771574\n",
       "60     seminar  Mortgage        Malik Suarez  23.0   63.276465\n",
       "61     seminar  Mortgage         Sara Holmes  23.0   38.034385\n",
       "62        gift  Car loan     Stacey Crawford  20.0   15.322282\n",
       "63     seminar   Pension      Angela Johnson  23.0   75.300943\n",
       "64     seminar   Savings      Jessica Ingram  23.0   31.229784\n",
       "65     seminar   Pension   Stephanie Johnson  23.0   63.298672\n",
       "66     seminar   Pension     Molly Hernandez  23.0   69.782430\n",
       "67     seminar   Pension    Lindsay Peterson  23.0   48.182364\n",
       "68     seminar   Pension        Diana Tucker  23.0  110.711726\n",
       "69     seminar  Mortgage         Jamie Casey  23.0   33.640695\n",
       "70     seminar  Mortgage     Stephanie Jones  23.0   64.765457\n",
       "71     seminar   Pension      Alexandra Cook  23.0   87.292196\n",
       "72     seminar  Mortgage         Luis Palmer  23.0   59.439199\n",
       "73     seminar   Savings          Janice Fox  23.0   31.160039\n",
       "74     seminar  Mortgage        Michael Cook  23.0   70.934380\n",
       "75     seminar   Savings       Douglas Brown  23.0   40.615305\n",
       "76        gift  Car loan    Jacqueline Jones  20.0   13.291415\n",
       "77     seminar   Savings       Samantha Wood  23.0   35.684440\n",
       "78     seminar   Savings  Walter Christensen  23.0   47.692880\n",
       "79     seminar   Savings      Barbara Jordan  23.0   50.627776\n",
       "80        gift  Car loan      Matthew Guzman  20.0   10.716813\n",
       "81     seminar   Savings    Brandon Peterson  23.0   44.289676\n",
       "82     seminar   Pension      Anthony Morgan  23.0   80.890582\n",
       "83        gift   Savings      Melissa Joseph  20.0   18.949416\n",
       "84     seminar   Pension     Jessica Mcguire  23.0   47.182683\n",
       "\n",
       "[85 rows x 5 columns]"
      ]
     },
     "metadata": {},
     "output_type": "display_data"
    },
    {
     "ename": "AttributeError",
     "evalue": "'NoneType' object has no attribute 'head'",
     "output_type": "error",
     "traceback": [
      "\u001b[0;31m---------------------------------------------------------------------------\u001b[0m",
      "\u001b[0;31mAttributeError\u001b[0m                            Traceback (most recent call last)",
      "\u001b[0;32m<ipython-input-36-2a4525643af4>\u001b[0m in \u001b[0;36m<module>\u001b[0;34m()\u001b[0m\n\u001b[1;32m     10\u001b[0m \u001b[0mprint\u001b[0m\u001b[0;34m(\u001b[0m\u001b[0;34m'Total budget  = %d'\u001b[0m \u001b[0;34m%\u001b[0m \u001b[0;34m(\u001b[0m\u001b[0mreport_bd\u001b[0m\u001b[0;34m[\u001b[0m\u001b[0;34m'cost'\u001b[0m\u001b[0;34m]\u001b[0m\u001b[0;34m.\u001b[0m\u001b[0msum\u001b[0m\u001b[0;34m(\u001b[0m\u001b[0;34m)\u001b[0m\u001b[0;34m)\u001b[0m \u001b[0;34m)\u001b[0m\u001b[0;34m\u001b[0m\u001b[0m\n\u001b[1;32m     11\u001b[0m \u001b[0;34m\u001b[0m\u001b[0m\n\u001b[0;32m---> 12\u001b[0;31m \u001b[0mdisplay\u001b[0m\u001b[0;34m(\u001b[0m\u001b[0mreport_bd\u001b[0m\u001b[0;34m)\u001b[0m\u001b[0;34m.\u001b[0m\u001b[0mhead\u001b[0m\u001b[0;34m(\u001b[0m\u001b[0;36m10\u001b[0m\u001b[0;34m)\u001b[0m\u001b[0;34m\u001b[0m\u001b[0m\n\u001b[0m",
      "\u001b[0;31mAttributeError\u001b[0m: 'NoneType' object has no attribute 'head'"
     ]
    }
   ],
   "source": [
    "report = [(channels[k], products[j], product_probs.name.iloc[i], x[i, j, k].solution_value()*cost[k],\n",
    "          x[i, j, k].solution_value()*factor[k]*productValue[j]*product_probs[products[j]].iloc[i]) \n",
    "          for i in range(num_customers) \n",
    "          for j in range(num_products) \n",
    "          for k in range(num_channels)  if x[i, j, k].solution_value() > 0]\n",
    "\n",
    "report_bd = pd.DataFrame(report, columns=['channel', 'product', 'customer', 'cost', 'revenue'])\n",
    "\n",
    "print('Total revenue = %d' % (solver.Objective().Value()))\n",
    "print('Total budget  = %d' % (report_bd['cost'].sum()) )\n",
    "\n",
    "display(report_bd).head(10)"
   ]
  },
  {
   "cell_type": "markdown",
   "metadata": {},
   "source": [
    "Channel counts."
   ]
  },
  {
   "cell_type": "code",
   "execution_count": 37,
   "metadata": {},
   "outputs": [
    {
     "data": {
      "text/html": [
       "<div>\n",
       "<style scoped>\n",
       "    .dataframe tbody tr th:only-of-type {\n",
       "        vertical-align: middle;\n",
       "    }\n",
       "\n",
       "    .dataframe tbody tr th {\n",
       "        vertical-align: top;\n",
       "    }\n",
       "\n",
       "    .dataframe thead th {\n",
       "        text-align: right;\n",
       "    }\n",
       "</style>\n",
       "<table border=\"1\" class=\"dataframe\">\n",
       "  <thead>\n",
       "    <tr style=\"text-align: right;\">\n",
       "      <th></th>\n",
       "      <th></th>\n",
       "      <th>customer</th>\n",
       "      <th>cost</th>\n",
       "      <th>revenue</th>\n",
       "    </tr>\n",
       "    <tr>\n",
       "      <th>channel</th>\n",
       "      <th>product</th>\n",
       "      <th></th>\n",
       "      <th></th>\n",
       "      <th></th>\n",
       "    </tr>\n",
       "  </thead>\n",
       "  <tbody>\n",
       "    <tr>\n",
       "      <th rowspan=\"4\" valign=\"top\">gift</th>\n",
       "      <th>Car loan</th>\n",
       "      <td>6</td>\n",
       "      <td>6</td>\n",
       "      <td>6</td>\n",
       "    </tr>\n",
       "    <tr>\n",
       "      <th>Mortgage</th>\n",
       "      <td>1</td>\n",
       "      <td>1</td>\n",
       "      <td>1</td>\n",
       "    </tr>\n",
       "    <tr>\n",
       "      <th>Pension</th>\n",
       "      <td>1</td>\n",
       "      <td>1</td>\n",
       "      <td>1</td>\n",
       "    </tr>\n",
       "    <tr>\n",
       "      <th>Savings</th>\n",
       "      <td>2</td>\n",
       "      <td>2</td>\n",
       "      <td>2</td>\n",
       "    </tr>\n",
       "    <tr>\n",
       "      <th>newsletter</th>\n",
       "      <th>Car loan</th>\n",
       "      <td>10</td>\n",
       "      <td>10</td>\n",
       "      <td>10</td>\n",
       "    </tr>\n",
       "    <tr>\n",
       "      <th rowspan=\"3\" valign=\"top\">seminar</th>\n",
       "      <th>Mortgage</th>\n",
       "      <td>15</td>\n",
       "      <td>15</td>\n",
       "      <td>15</td>\n",
       "    </tr>\n",
       "    <tr>\n",
       "      <th>Pension</th>\n",
       "      <td>36</td>\n",
       "      <td>36</td>\n",
       "      <td>36</td>\n",
       "    </tr>\n",
       "    <tr>\n",
       "      <th>Savings</th>\n",
       "      <td>14</td>\n",
       "      <td>14</td>\n",
       "      <td>14</td>\n",
       "    </tr>\n",
       "  </tbody>\n",
       "</table>\n",
       "</div>"
      ],
      "text/plain": [
       "                     customer  cost  revenue\n",
       "channel    product                          \n",
       "gift       Car loan         6     6        6\n",
       "           Mortgage         1     1        1\n",
       "           Pension          1     1        1\n",
       "           Savings          2     2        2\n",
       "newsletter Car loan        10    10       10\n",
       "seminar    Mortgage        15    15       15\n",
       "           Pension         36    36       36\n",
       "           Savings         14    14       14"
      ]
     },
     "execution_count": 37,
     "metadata": {},
     "output_type": "execute_result"
    }
   ],
   "source": [
    "report_bd.groupby(['channel', 'product']).count()"
   ]
  },
  {
   "cell_type": "markdown",
   "metadata": {},
   "source": [
    "The sample has given us the rough outline of the optimization. Using these figures, replicate using non-linear minimization."
   ]
  },
  {
   "cell_type": "code",
   "execution_count": 59,
   "metadata": {},
   "outputs": [],
   "source": [
    "n_obs_orig = num_customers\n",
    "n_obs_new = product_probs_all.shape[0]"
   ]
  },
  {
   "cell_type": "code",
   "execution_count": 61,
   "metadata": {},
   "outputs": [
    {
     "data": {
      "text/html": [
       "<div>\n",
       "<style scoped>\n",
       "    .dataframe tbody tr th:only-of-type {\n",
       "        vertical-align: middle;\n",
       "    }\n",
       "\n",
       "    .dataframe tbody tr th {\n",
       "        vertical-align: top;\n",
       "    }\n",
       "\n",
       "    .dataframe thead th {\n",
       "        text-align: right;\n",
       "    }\n",
       "</style>\n",
       "<table border=\"1\" class=\"dataframe\">\n",
       "  <thead>\n",
       "    <tr style=\"text-align: right;\">\n",
       "      <th></th>\n",
       "      <th>name</th>\n",
       "      <th>Car loan</th>\n",
       "      <th>Savings</th>\n",
       "      <th>Mortgage</th>\n",
       "      <th>Pension</th>\n",
       "    </tr>\n",
       "    <tr>\n",
       "      <th>customerid</th>\n",
       "      <th></th>\n",
       "      <th></th>\n",
       "      <th></th>\n",
       "      <th></th>\n",
       "      <th></th>\n",
       "    </tr>\n",
       "  </thead>\n",
       "  <tbody>\n",
       "    <tr>\n",
       "      <th>0.0</th>\n",
       "      <td>Matthew Harvey</td>\n",
       "      <td>0.000000</td>\n",
       "      <td>0.000000</td>\n",
       "      <td>0.000000</td>\n",
       "      <td>0.000000</td>\n",
       "    </tr>\n",
       "    <tr>\n",
       "      <th>1.0</th>\n",
       "      <td>Joshua Wilcox</td>\n",
       "      <td>0.000000</td>\n",
       "      <td>0.000000</td>\n",
       "      <td>0.179932</td>\n",
       "      <td>0.000000</td>\n",
       "    </tr>\n",
       "    <tr>\n",
       "      <th>2.0</th>\n",
       "      <td>Yolanda Vasquez</td>\n",
       "      <td>0.330731</td>\n",
       "      <td>0.580556</td>\n",
       "      <td>0.000000</td>\n",
       "      <td>0.000000</td>\n",
       "    </tr>\n",
       "    <tr>\n",
       "      <th>3.0</th>\n",
       "      <td>Jessica Alvarado</td>\n",
       "      <td>0.000000</td>\n",
       "      <td>0.630242</td>\n",
       "      <td>0.509746</td>\n",
       "      <td>0.000000</td>\n",
       "    </tr>\n",
       "    <tr>\n",
       "      <th>4.0</th>\n",
       "      <td>Gregory Martinez</td>\n",
       "      <td>0.000000</td>\n",
       "      <td>0.320511</td>\n",
       "      <td>0.000000</td>\n",
       "      <td>0.288832</td>\n",
       "    </tr>\n",
       "  </tbody>\n",
       "</table>\n",
       "</div>"
      ],
      "text/plain": [
       "                        name  Car loan   Savings  Mortgage   Pension\n",
       "customerid                                                          \n",
       "0.0           Matthew Harvey  0.000000  0.000000  0.000000  0.000000\n",
       "1.0            Joshua Wilcox  0.000000  0.000000  0.179932  0.000000\n",
       "2.0          Yolanda Vasquez  0.330731  0.580556  0.000000  0.000000\n",
       "3.0         Jessica Alvarado  0.000000  0.630242  0.509746  0.000000\n",
       "4.0         Gregory Martinez  0.000000  0.320511  0.000000  0.288832"
      ]
     },
     "execution_count": 61,
     "metadata": {},
     "output_type": "execute_result"
    }
   ],
   "source": [
    "product_probs = product_probs_all\n",
    "\n",
    "n_obs = product_probs.shape[0]\n",
    "\n",
    "adjustment_factor = n_obs/n_obs_orig\n",
    "availableBudget = availableBudget_total\n",
    "\n",
    "product_probs.head()"
   ]
  },
  {
   "cell_type": "code",
   "execution_count": 62,
   "metadata": {},
   "outputs": [],
   "source": [
    "num_customers = product_probs.shape[0]"
   ]
  },
  {
   "cell_type": "code",
   "execution_count": 63,
   "metadata": {},
   "outputs": [],
   "source": [
    "offer_scale = int(n_obs_new/n_obs_orig)\n",
    "\n",
    "# get the offers from the original optimization by product and channel\n",
    "sample_counts = pandas.pivot_table(report_bd, index='channel', columns='product', values='customer', \n",
    "                                   aggfunc=len, fill_value=0)\n",
    "\n",
    "offers = sample_counts.stack()*offer_scale"
   ]
  },
  {
   "cell_type": "code",
   "execution_count": 66,
   "metadata": {},
   "outputs": [
    {
     "data": {
      "text/plain": [
       "channel     product \n",
       "gift        Car loan     600\n",
       "            Mortgage     100\n",
       "            Pension      100\n",
       "            Savings      200\n",
       "newsletter  Car loan    1000\n",
       "            Mortgage       0\n",
       "            Pension        0\n",
       "            Savings        0\n",
       "seminar     Car loan       0\n",
       "            Mortgage    1500\n",
       "            Pension     3600\n",
       "            Savings     1400\n",
       "dtype: int64"
      ]
     },
     "execution_count": 66,
     "metadata": {},
     "output_type": "execute_result"
    }
   ],
   "source": [
    "offers"
   ]
  },
  {
   "cell_type": "code",
   "execution_count": 67,
   "metadata": {},
   "outputs": [],
   "source": [
    "product_profit = product_probs[products]*productValue\n",
    "product_profit_0 = product_profit*factor[0]\n",
    "product_profit_1 = product_profit*factor[1]\n",
    "product_profit_2 = product_profit*factor[2]\n",
    "product_profit_0.columns = [pp + ' ' + channels[0] for pp in products]\n",
    "product_profit_1.columns = [pp + ' ' + channels[1] for pp in products]\n",
    "product_profit_2.columns = [pp + ' ' + channels[2] for pp in products]\n",
    "product_profit = pandas.concat([product_profit_0, product_profit_1, product_profit_2], axis=1)"
   ]
  },
  {
   "cell_type": "code",
   "execution_count": null,
   "metadata": {},
   "outputs": [],
   "source": []
  },
  {
   "cell_type": "markdown",
   "metadata": {},
   "source": [
    "# The world of R\n",
    "\n",
    "As of yet, the non-linear minimization in Python has not worked properly, but it _has_ with R and `nlm()`. Until I can get it to work, the workaround is to use `rpy2` to run R from Python.\n",
    "\n",
    "> **To do:** Get the non-linear minimization right in Python.\n",
    "\n",
    "Import the requisite libraries."
   ]
  },
  {
   "cell_type": "code",
   "execution_count": 39,
   "metadata": {},
   "outputs": [],
   "source": [
    "import rpy2.robjects as robjects"
   ]
  },
  {
   "cell_type": "code",
   "execution_count": 74,
   "metadata": {},
   "outputs": [],
   "source": [
    "from rpy2.robjects.packages import importr\n",
    "# import R's \"base\" package\n",
    "base = importr('base')\n",
    "\n",
    "# import R's \"utils\" package\n",
    "utils = importr('utils')\n",
    "stats = importr('stats')"
   ]
  },
  {
   "cell_type": "code",
   "execution_count": 41,
   "metadata": {},
   "outputs": [
    {
     "data": {
      "text/plain": [
       "rpy2.rinterface.NULL"
      ]
     },
     "execution_count": 41,
     "metadata": {},
     "output_type": "execute_result"
    }
   ],
   "source": [
    "# import rpy2's package module\n",
    "import rpy2.robjects.packages as rpackages\n",
    "\n",
    "# import R's utility package\n",
    "utils = rpackages.importr('utils')\n",
    "\n",
    "# select a mirror for R packages\n",
    "utils.chooseCRANmirror(ind=1) # select the first mirror in the list"
   ]
  },
  {
   "cell_type": "markdown",
   "metadata": {},
   "source": [
    "Install packages using R's `install.package`. (I should not have to do this again.)"
   ]
  },
  {
   "cell_type": "code",
   "execution_count": 51,
   "metadata": {},
   "outputs": [],
   "source": [
    "# R package names\n",
    "packnames = ('magrittr', 'dplyr', 'data.table', 'dtplyr', 'stringr')\n",
    "\n",
    "# R vector of strings\n",
    "from rpy2.robjects.vectors import StrVector\n",
    "\n",
    "# Selectively install what needs to be install.\n",
    "# We are fancy, just because we can.\n",
    "for x in packnames:\n",
    "    if not(rpackages.isinstalled(x)):\n",
    "        utils.install_packages(StrVector(names_to_install))"
   ]
  },
  {
   "cell_type": "markdown",
   "metadata": {},
   "source": [
    "All I need to run in R is the non-linear minimization, and whatever is needed to supply the appropiate data.\n",
    "\n",
    "### The dual function (R)\n",
    "\n",
    "```\n",
    "dual <- function(u) {\n",
    "  if (dim(product_profit)[2] != length(u)) {\n",
    "    print(c(dim(product_profit)[2], length(u)))\n",
    "    stop(\"Mismatched dimensions\")\n",
    "    }\n",
    "  d <- sweep(product_profit, 2, u)\n",
    "  v <- apply(d, 1, max) \n",
    "  v[v < 0] <- 0\n",
    "  y <- offers%*%u + sum(v)\n",
    "  y\n",
    "}\n",
    "```\n",
    "\n",
    "### The opimisation (R)\n",
    "\n",
    "```{r}\n",
    "u_init <- offers*0\n",
    "out <- nlm(dual, u_init, print.level = 1)\n",
    "```\n",
    "\n",
    "### Getting the solution (R)\n",
    "\n",
    "```{r}\n",
    "mindual <- out$minimum\n",
    "u <- out$estimate\n",
    "mindual\n",
    "u\n",
    "```"
   ]
  },
  {
   "cell_type": "code",
   "execution_count": 82,
   "metadata": {},
   "outputs": [
    {
     "data": {
      "text/plain": [
       "R object with classes: ('function',) mapped to:\n",
       "<SignatureTranslatedFunction - Python:0x12232b248 / R:0x7fcdb3a332e0>"
      ]
     },
     "execution_count": 82,
     "metadata": {},
     "output_type": "execute_result"
    }
   ],
   "source": [
    "robjects.r('''\n",
    "        # create a function `dual`\n",
    "            dual <- function(u, pp, offers) {\n",
    "              if (dim(pp)[2] != length(u)) {\n",
    "                print(c(dim(pp)[2], length(u)))\n",
    "                stop(\"Mismatched dimensions\")\n",
    "                }\n",
    "              d <- sweep(pp, 2, u)\n",
    "              v <- apply(d, 1, max) \n",
    "              v[v < 0] <- 0\n",
    "              y <- offers%*%u + sum(v)\n",
    "              y\n",
    "            }\n",
    "        ''')"
   ]
  },
  {
   "cell_type": "markdown",
   "metadata": {},
   "source": [
    "### Test the new function\n",
    "\n",
    "To do this, need to create the `product_profit` array in R."
   ]
  },
  {
   "cell_type": "code",
   "execution_count": 52,
   "metadata": {},
   "outputs": [],
   "source": [
    "from rpy2.robjects import r, pandas2ri\n",
    "pandas2ri.activate()"
   ]
  },
  {
   "cell_type": "code",
   "execution_count": 71,
   "metadata": {},
   "outputs": [
    {
     "name": "stdout",
     "output_type": "stream",
     "text": [
      "<class 'rpy2.robjects.vectors.DataFrame'>\n"
     ]
    }
   ],
   "source": [
    "r_product_profit = pandas2ri.py2ri(product_profit)"
   ]
  },
  {
   "cell_type": "code",
   "execution_count": 86,
   "metadata": {},
   "outputs": [
    {
     "name": "stdout",
     "output_type": "stream",
     "text": [
      "c(600L, 100L, 100L, 200L, 1000L, 0L, 0L, 0L, 0L, 1500L, 3600L, \n",
      "1400L)\n"
     ]
    }
   ],
   "source": [
    "u_test = robjects.FloatVector([11.2, 15, 6.02, 19.5, 0, 4.98, 2.23, 7.75, 50.2, 23.2, 9.09, 35.2])\n",
    "r_offers = robjects.IntVector(offers)"
   ]
  },
  {
   "cell_type": "code",
   "execution_count": 83,
   "metadata": {},
   "outputs": [],
   "source": [
    "dual = robjects.r['dual']"
   ]
  },
  {
   "cell_type": "code",
   "execution_count": 84,
   "metadata": {},
   "outputs": [
    {
     "name": "stdout",
     "output_type": "stream",
     "text": [
      "function (u, pp, offers) \n",
      "{\n",
      "    if (dim(pp)[2] != length(u)) {\n",
      "        print(c(dim(pp)[2], length(u)))\n",
      "        stop(\"Mismatched dimensions\")\n",
      "    }\n",
      "    d <- sweep(pp, 2, u)\n",
      "    v <- apply(d, 1, max)\n",
      "    v[v < 0] <- 0\n",
      "    y <- offers %*% u + sum(v)\n",
      "    y\n",
      "}\n"
     ]
    }
   ],
   "source": [
    "print(dual.r_repr())"
   ]
  },
  {
   "cell_type": "code",
   "execution_count": 87,
   "metadata": {},
   "outputs": [
    {
     "data": {
      "text/html": [
       "\n",
       "    <span>Matrix with 1 elements.</span>\n",
       "    <table>\n",
       "      <tbody>\n",
       "      <tr>\n",
       "      \n",
       "      <td>\n",
       "        392929.108463\n",
       "      </td>\n",
       "      \n",
       "      </tr>\n",
       "      </tbody>\n",
       "    </table>\n",
       "    "
      ],
      "text/plain": [
       "R object with classes: ('matrix',) mapped to:\n",
       "<Matrix - Python:0x120170a88 / R:0x7fcdb5651368>\n",
       "[392929.108463]"
      ]
     },
     "execution_count": 87,
     "metadata": {},
     "output_type": "execute_result"
    }
   ],
   "source": [
    "dual(u_test, pp=r_product_profit, offers=r_offers)"
   ]
  },
  {
   "cell_type": "code",
   "execution_count": 91,
   "metadata": {},
   "outputs": [
    {
     "name": "stdout",
     "output_type": "stream",
     "text": [
      "iteration = 0\n",
      "\n",
      "Step:\n",
      "\n",
      " [1]\n",
      " 0\n",
      " 0\n",
      " 0\n",
      " 0\n",
      " 0\n",
      " 0\n",
      " 0\n",
      " 0\n",
      " 0\n",
      " 0\n",
      " 0\n",
      " 0\n",
      "\n",
      "\n",
      "Parameter:\n",
      "\n",
      " [1]\n",
      " 0\n",
      " 0\n",
      " 0\n",
      " 0\n",
      " 0\n",
      " 0\n",
      " 0\n",
      " 0\n",
      " 0\n",
      " 0\n",
      " 0\n",
      " 0\n",
      "\n",
      "\n",
      "Function Value\n",
      "\n",
      "[1]\n",
      " 444098.6\n",
      "\n",
      "\n",
      "Gradient:\n",
      "\n",
      " [1]\n",
      "   600.0000\n",
      "   100.0000\n",
      "   100.0000\n",
      "   200.0000\n",
      "  1000.0000\n",
      "     0.0000\n",
      "\n",
      "\n",
      " [7]\n",
      "     0.0000\n",
      "     0.0000\n",
      "  -311.0000\n",
      "  -427.9999\n",
      "   176.0000\n",
      " -1978.0000\n",
      "\n",
      "\n",
      "\n",
      "\n",
      "iteration = 38\n",
      "\n",
      "Parameter:\n",
      "\n",
      " [1]\n",
      " 4.913197e+00\n",
      " 1.940439e+01\n",
      " 1.440843e+01\n",
      " 3.464217e+01\n",
      " 2.600312e-07\n",
      "\n",
      "\n",
      " [6]\n",
      " 5.015150e+00\n",
      " 6.741571e+00\n",
      " 8.683146e+00\n",
      " 1.502853e+01\n",
      " 3.020966e+01\n",
      "\n",
      "\n",
      "[11]\n",
      " 2.216741e+01\n",
      " 5.453634e+01\n",
      "\n",
      "\n",
      "Function Value\n",
      "\n",
      "[1]\n",
      " 377409.3\n",
      "\n",
      "\n",
      "Gradient:\n",
      "\n",
      " [1]\n",
      "    0.00000000\n",
      "    0.25487755\n",
      "    0.21914910\n",
      "    0.00000000\n",
      " -312.92123051\n",
      "\n",
      "\n",
      " [6]\n",
      "    0.00000000\n",
      "    0.00000000\n",
      "    0.00000000\n",
      "    0.00000000\n",
      "   -0.35793251\n",
      "\n",
      "\n",
      "[11]\n",
      "   -0.01505956\n",
      "   -0.26847066\n",
      "\n",
      "\n",
      "\n",
      "\n",
      "Successive iterates within tolerance.\n",
      "\n",
      "Current iterate is probably solution.\n",
      "\n",
      "\n",
      "\n"
     ]
    }
   ],
   "source": [
    "u_init = robjects.FloatVector(offers*0)\n",
    "r_out = stats.nlm(dual, p=u_init, pp=r_product_profit, offers=r_offers, print_level=1)"
   ]
  },
  {
   "cell_type": "code",
   "execution_count": 107,
   "metadata": {},
   "outputs": [],
   "source": [
    "r_u = r_out.rx('estimate')[0]"
   ]
  },
  {
   "cell_type": "code",
   "execution_count": 110,
   "metadata": {},
   "outputs": [],
   "source": [
    "u = [r_u[i] for i in range(len(r_u))] # ugly way to convert"
   ]
  },
  {
   "cell_type": "code",
   "execution_count": 111,
   "metadata": {},
   "outputs": [],
   "source": [
    "d = product_profit.sub(u) \n",
    "v = d.max(axis = 1)\n",
    "v[v<0] = 0\n",
    "ndx = np.argsort(-v)"
   ]
  },
  {
   "cell_type": "code",
   "execution_count": 119,
   "metadata": {},
   "outputs": [
    {
     "data": {
      "text/html": [
       "<div>\n",
       "<style scoped>\n",
       "    .dataframe tbody tr th:only-of-type {\n",
       "        vertical-align: middle;\n",
       "    }\n",
       "\n",
       "    .dataframe tbody tr th {\n",
       "        vertical-align: top;\n",
       "    }\n",
       "\n",
       "    .dataframe thead th {\n",
       "        text-align: right;\n",
       "    }\n",
       "</style>\n",
       "<table border=\"1\" class=\"dataframe\">\n",
       "  <thead>\n",
       "    <tr style=\"text-align: right;\">\n",
       "      <th></th>\n",
       "      <th>variable</th>\n",
       "      <th>value</th>\n",
       "    </tr>\n",
       "  </thead>\n",
       "  <tbody>\n",
       "    <tr>\n",
       "      <th>0</th>\n",
       "      <td>Car loan gift</td>\n",
       "      <td>-4.913197</td>\n",
       "    </tr>\n",
       "    <tr>\n",
       "      <th>1</th>\n",
       "      <td>Car loan gift</td>\n",
       "      <td>-4.913197</td>\n",
       "    </tr>\n",
       "    <tr>\n",
       "      <th>2</th>\n",
       "      <td>Car loan gift</td>\n",
       "      <td>1.701431</td>\n",
       "    </tr>\n",
       "    <tr>\n",
       "      <th>3</th>\n",
       "      <td>Car loan gift</td>\n",
       "      <td>-4.913197</td>\n",
       "    </tr>\n",
       "    <tr>\n",
       "      <th>4</th>\n",
       "      <td>Car loan gift</td>\n",
       "      <td>-4.913197</td>\n",
       "    </tr>\n",
       "  </tbody>\n",
       "</table>\n",
       "</div>"
      ],
      "text/plain": [
       "        variable     value\n",
       "0  Car loan gift -4.913197\n",
       "1  Car loan gift -4.913197\n",
       "2  Car loan gift  1.701431\n",
       "3  Car loan gift -4.913197\n",
       "4  Car loan gift -4.913197"
      ]
     },
     "execution_count": 119,
     "metadata": {},
     "output_type": "execute_result"
    }
   ],
   "source": [
    "pd.melt(d, id_vars=).head()"
   ]
  },
  {
   "cell_type": "code",
   "execution_count": null,
   "metadata": {},
   "outputs": [],
   "source": [
    "d."
   ]
  },
  {
   "cell_type": "code",
   "execution_count": 114,
   "metadata": {},
   "outputs": [
    {
     "data": {
      "text/plain": [
       "[4.913196720841552,\n",
       " 19.40438530078488,\n",
       " 14.408426026875894,\n",
       " 34.64217001924421,\n",
       " 2.6003117952399604e-07,\n",
       " 5.015149745980467,\n",
       " 6.741571315184431,\n",
       " 8.683146105396691,\n",
       " 15.028531556600194,\n",
       " 30.209656694586542,\n",
       " 22.167408318358905,\n",
       " 54.53633509493715]"
      ]
     },
     "execution_count": 114,
     "metadata": {},
     "output_type": "execute_result"
    }
   ],
   "source": [
    "# ```{r}\n",
    "# d_DT <- data.table(d)\n",
    "# d_DT[, customerid := product_probs$customerid]\n",
    "# d_DT[, v := v]\n",
    "\n",
    "# d_DT_melt <- melt(d_DT, id.vars = c(\"customerid\", \"v\"))\n",
    "# d_DT_alloc <- d_DT_melt[order(customerid, -value)][, lapply(.SD, head, 1), by = .(customerid)][seq(sum(offers))]\n",
    "\n",
    "# # check counts\n",
    "# d_DT_alloc[, .N, by = .(variable)]\n",
    "# ```"
   ]
  },
  {
   "cell_type": "code",
   "execution_count": 115,
   "metadata": {},
   "outputs": [
    {
     "data": {
      "text/html": [
       "<div>\n",
       "<style scoped>\n",
       "    .dataframe tbody tr th:only-of-type {\n",
       "        vertical-align: middle;\n",
       "    }\n",
       "\n",
       "    .dataframe tbody tr th {\n",
       "        vertical-align: top;\n",
       "    }\n",
       "\n",
       "    .dataframe thead th {\n",
       "        text-align: right;\n",
       "    }\n",
       "</style>\n",
       "<table border=\"1\" class=\"dataframe\">\n",
       "  <thead>\n",
       "    <tr style=\"text-align: right;\">\n",
       "      <th></th>\n",
       "      <th>Car loan gift</th>\n",
       "      <th>Savings gift</th>\n",
       "      <th>Mortgage gift</th>\n",
       "      <th>Pension gift</th>\n",
       "      <th>Car loan newsletter</th>\n",
       "      <th>Savings newsletter</th>\n",
       "      <th>Mortgage newsletter</th>\n",
       "      <th>Pension newsletter</th>\n",
       "      <th>Car loan seminar</th>\n",
       "      <th>Savings seminar</th>\n",
       "      <th>Mortgage seminar</th>\n",
       "      <th>Pension seminar</th>\n",
       "    </tr>\n",
       "    <tr>\n",
       "      <th>customerid</th>\n",
       "      <th></th>\n",
       "      <th></th>\n",
       "      <th></th>\n",
       "      <th></th>\n",
       "      <th></th>\n",
       "      <th></th>\n",
       "      <th></th>\n",
       "      <th></th>\n",
       "      <th></th>\n",
       "      <th></th>\n",
       "      <th></th>\n",
       "      <th></th>\n",
       "    </tr>\n",
       "  </thead>\n",
       "  <tbody>\n",
       "    <tr>\n",
       "      <th>0.0</th>\n",
       "      <td>-4.913197</td>\n",
       "      <td>-19.404385</td>\n",
       "      <td>-14.408426</td>\n",
       "      <td>-34.642170</td>\n",
       "      <td>-2.600312e-07</td>\n",
       "      <td>-5.015150</td>\n",
       "      <td>-6.741571</td>\n",
       "      <td>-8.683146</td>\n",
       "      <td>-15.028532</td>\n",
       "      <td>-30.209657</td>\n",
       "      <td>-22.167408</td>\n",
       "      <td>-54.536335</td>\n",
       "    </tr>\n",
       "    <tr>\n",
       "      <th>1.0</th>\n",
       "      <td>-4.913197</td>\n",
       "      <td>-19.404385</td>\n",
       "      <td>-3.612530</td>\n",
       "      <td>-34.642170</td>\n",
       "      <td>-2.600312e-07</td>\n",
       "      <td>-5.015150</td>\n",
       "      <td>-4.042597</td>\n",
       "      <td>-8.683146</td>\n",
       "      <td>-15.028532</td>\n",
       "      <td>-30.209657</td>\n",
       "      <td>-5.973564</td>\n",
       "      <td>-54.536335</td>\n",
       "    </tr>\n",
       "    <tr>\n",
       "      <th>2.0</th>\n",
       "      <td>1.701431</td>\n",
       "      <td>3.817874</td>\n",
       "      <td>-14.408426</td>\n",
       "      <td>-34.642170</td>\n",
       "      <td>1.653657e+00</td>\n",
       "      <td>0.790415</td>\n",
       "      <td>-6.741571</td>\n",
       "      <td>-8.683146</td>\n",
       "      <td>-5.106591</td>\n",
       "      <td>4.623732</td>\n",
       "      <td>-22.167408</td>\n",
       "      <td>-54.536335</td>\n",
       "    </tr>\n",
       "    <tr>\n",
       "      <th>3.0</th>\n",
       "      <td>-4.913197</td>\n",
       "      <td>5.805306</td>\n",
       "      <td>16.176307</td>\n",
       "      <td>-34.642170</td>\n",
       "      <td>-2.600312e-07</td>\n",
       "      <td>1.287273</td>\n",
       "      <td>0.904612</td>\n",
       "      <td>-8.683146</td>\n",
       "      <td>-15.028532</td>\n",
       "      <td>7.604880</td>\n",
       "      <td>23.709691</td>\n",
       "      <td>-54.536335</td>\n",
       "    </tr>\n",
       "    <tr>\n",
       "      <th>4.0</th>\n",
       "      <td>-4.913197</td>\n",
       "      <td>-6.583944</td>\n",
       "      <td>-14.408426</td>\n",
       "      <td>-11.535604</td>\n",
       "      <td>-2.600312e-07</td>\n",
       "      <td>-1.810039</td>\n",
       "      <td>-6.741571</td>\n",
       "      <td>-2.906505</td>\n",
       "      <td>-15.028532</td>\n",
       "      <td>-10.978995</td>\n",
       "      <td>-22.167408</td>\n",
       "      <td>-19.876486</td>\n",
       "    </tr>\n",
       "    <tr>\n",
       "      <th>5.0</th>\n",
       "      <td>-4.913197</td>\n",
       "      <td>-4.322061</td>\n",
       "      <td>-14.408426</td>\n",
       "      <td>-34.642170</td>\n",
       "      <td>-2.600312e-07</td>\n",
       "      <td>-1.244569</td>\n",
       "      <td>-6.741571</td>\n",
       "      <td>-8.683146</td>\n",
       "      <td>-15.028532</td>\n",
       "      <td>-7.586170</td>\n",
       "      <td>-22.167408</td>\n",
       "      <td>-54.536335</td>\n",
       "    </tr>\n",
       "    <tr>\n",
       "      <th>6.0</th>\n",
       "      <td>-4.913197</td>\n",
       "      <td>15.706449</td>\n",
       "      <td>-0.935321</td>\n",
       "      <td>12.860157</td>\n",
       "      <td>-2.600312e-07</td>\n",
       "      <td>3.762559</td>\n",
       "      <td>-3.373295</td>\n",
       "      <td>3.192436</td>\n",
       "      <td>-15.028532</td>\n",
       "      <td>22.456595</td>\n",
       "      <td>-1.957750</td>\n",
       "      <td>16.717155</td>\n",
       "    </tr>\n",
       "    <tr>\n",
       "      <th>7.0</th>\n",
       "      <td>-4.913197</td>\n",
       "      <td>3.472281</td>\n",
       "      <td>23.704466</td>\n",
       "      <td>-34.642170</td>\n",
       "      <td>-2.600312e-07</td>\n",
       "      <td>0.704017</td>\n",
       "      <td>2.786652</td>\n",
       "      <td>-8.683146</td>\n",
       "      <td>-15.028532</td>\n",
       "      <td>4.105342</td>\n",
       "      <td>35.001930</td>\n",
       "      <td>-54.536335</td>\n",
       "    </tr>\n",
       "    <tr>\n",
       "      <th>8.0</th>\n",
       "      <td>-4.913197</td>\n",
       "      <td>-19.404385</td>\n",
       "      <td>-14.408426</td>\n",
       "      <td>-34.642170</td>\n",
       "      <td>-2.600312e-07</td>\n",
       "      <td>-5.015150</td>\n",
       "      <td>-6.741571</td>\n",
       "      <td>-8.683146</td>\n",
       "      <td>-15.028532</td>\n",
       "      <td>-30.209657</td>\n",
       "      <td>-22.167408</td>\n",
       "      <td>-54.536335</td>\n",
       "    </tr>\n",
       "    <tr>\n",
       "      <th>9.0</th>\n",
       "      <td>5.851129</td>\n",
       "      <td>-19.404385</td>\n",
       "      <td>-14.408426</td>\n",
       "      <td>15.360953</td>\n",
       "      <td>2.691081e+00</td>\n",
       "      <td>-5.015150</td>\n",
       "      <td>-6.741571</td>\n",
       "      <td>3.817635</td>\n",
       "      <td>1.117958</td>\n",
       "      <td>-30.209657</td>\n",
       "      <td>-22.167408</td>\n",
       "      <td>20.468350</td>\n",
       "    </tr>\n",
       "  </tbody>\n",
       "</table>\n",
       "</div>"
      ],
      "text/plain": [
       "            Car loan gift  Savings gift  Mortgage gift  Pension gift  \\\n",
       "customerid                                                             \n",
       "0.0             -4.913197    -19.404385     -14.408426    -34.642170   \n",
       "1.0             -4.913197    -19.404385      -3.612530    -34.642170   \n",
       "2.0              1.701431      3.817874     -14.408426    -34.642170   \n",
       "3.0             -4.913197      5.805306      16.176307    -34.642170   \n",
       "4.0             -4.913197     -6.583944     -14.408426    -11.535604   \n",
       "5.0             -4.913197     -4.322061     -14.408426    -34.642170   \n",
       "6.0             -4.913197     15.706449      -0.935321     12.860157   \n",
       "7.0             -4.913197      3.472281      23.704466    -34.642170   \n",
       "8.0             -4.913197    -19.404385     -14.408426    -34.642170   \n",
       "9.0              5.851129    -19.404385     -14.408426     15.360953   \n",
       "\n",
       "            Car loan newsletter  Savings newsletter  Mortgage newsletter  \\\n",
       "customerid                                                                 \n",
       "0.0               -2.600312e-07           -5.015150            -6.741571   \n",
       "1.0               -2.600312e-07           -5.015150            -4.042597   \n",
       "2.0                1.653657e+00            0.790415            -6.741571   \n",
       "3.0               -2.600312e-07            1.287273             0.904612   \n",
       "4.0               -2.600312e-07           -1.810039            -6.741571   \n",
       "5.0               -2.600312e-07           -1.244569            -6.741571   \n",
       "6.0               -2.600312e-07            3.762559            -3.373295   \n",
       "7.0               -2.600312e-07            0.704017             2.786652   \n",
       "8.0               -2.600312e-07           -5.015150            -6.741571   \n",
       "9.0                2.691081e+00           -5.015150            -6.741571   \n",
       "\n",
       "            Pension newsletter  Car loan seminar  Savings seminar  \\\n",
       "customerid                                                          \n",
       "0.0                  -8.683146        -15.028532       -30.209657   \n",
       "1.0                  -8.683146        -15.028532       -30.209657   \n",
       "2.0                  -8.683146         -5.106591         4.623732   \n",
       "3.0                  -8.683146        -15.028532         7.604880   \n",
       "4.0                  -2.906505        -15.028532       -10.978995   \n",
       "5.0                  -8.683146        -15.028532        -7.586170   \n",
       "6.0                   3.192436        -15.028532        22.456595   \n",
       "7.0                  -8.683146        -15.028532         4.105342   \n",
       "8.0                  -8.683146        -15.028532       -30.209657   \n",
       "9.0                   3.817635          1.117958       -30.209657   \n",
       "\n",
       "            Mortgage seminar  Pension seminar  \n",
       "customerid                                     \n",
       "0.0               -22.167408       -54.536335  \n",
       "1.0                -5.973564       -54.536335  \n",
       "2.0               -22.167408       -54.536335  \n",
       "3.0                23.709691       -54.536335  \n",
       "4.0               -22.167408       -19.876486  \n",
       "5.0               -22.167408       -54.536335  \n",
       "6.0                -1.957750        16.717155  \n",
       "7.0                35.001930       -54.536335  \n",
       "8.0               -22.167408       -54.536335  \n",
       "9.0               -22.167408        20.468350  "
      ]
     },
     "execution_count": 115,
     "metadata": {},
     "output_type": "execute_result"
    }
   ],
   "source": [
    "d.head(10)"
   ]
  },
  {
   "cell_type": "code",
   "execution_count": 116,
   "metadata": {},
   "outputs": [
    {
     "data": {
      "text/html": [
       "<div>\n",
       "<style scoped>\n",
       "    .dataframe tbody tr th:only-of-type {\n",
       "        vertical-align: middle;\n",
       "    }\n",
       "\n",
       "    .dataframe tbody tr th {\n",
       "        vertical-align: top;\n",
       "    }\n",
       "\n",
       "    .dataframe thead th {\n",
       "        text-align: right;\n",
       "    }\n",
       "</style>\n",
       "<table border=\"1\" class=\"dataframe\">\n",
       "  <thead>\n",
       "    <tr style=\"text-align: right;\">\n",
       "      <th></th>\n",
       "      <th>Car loan gift</th>\n",
       "      <th>Savings gift</th>\n",
       "      <th>Mortgage gift</th>\n",
       "      <th>Pension gift</th>\n",
       "      <th>Car loan newsletter</th>\n",
       "      <th>Savings newsletter</th>\n",
       "      <th>Mortgage newsletter</th>\n",
       "      <th>Pension newsletter</th>\n",
       "      <th>Car loan seminar</th>\n",
       "      <th>Savings seminar</th>\n",
       "      <th>Mortgage seminar</th>\n",
       "      <th>Pension seminar</th>\n",
       "    </tr>\n",
       "    <tr>\n",
       "      <th>customerid</th>\n",
       "      <th></th>\n",
       "      <th></th>\n",
       "      <th></th>\n",
       "      <th></th>\n",
       "      <th></th>\n",
       "      <th></th>\n",
       "      <th></th>\n",
       "      <th></th>\n",
       "      <th></th>\n",
       "      <th></th>\n",
       "      <th></th>\n",
       "      <th></th>\n",
       "    </tr>\n",
       "  </thead>\n",
       "  <tbody>\n",
       "    <tr>\n",
       "      <th>0.0</th>\n",
       "      <td>0.000000</td>\n",
       "      <td>0.000000</td>\n",
       "      <td>0.000000</td>\n",
       "      <td>0.000000</td>\n",
       "      <td>0.000000</td>\n",
       "      <td>0.000000</td>\n",
       "      <td>0.000000</td>\n",
       "      <td>0.000000</td>\n",
       "      <td>0.000000</td>\n",
       "      <td>0.000000</td>\n",
       "      <td>0.000000</td>\n",
       "      <td>0.000000</td>\n",
       "    </tr>\n",
       "    <tr>\n",
       "      <th>1.0</th>\n",
       "      <td>0.000000</td>\n",
       "      <td>0.000000</td>\n",
       "      <td>10.795896</td>\n",
       "      <td>0.000000</td>\n",
       "      <td>0.000000</td>\n",
       "      <td>0.000000</td>\n",
       "      <td>2.698974</td>\n",
       "      <td>0.000000</td>\n",
       "      <td>0.000000</td>\n",
       "      <td>0.000000</td>\n",
       "      <td>16.193844</td>\n",
       "      <td>0.000000</td>\n",
       "    </tr>\n",
       "    <tr>\n",
       "      <th>2.0</th>\n",
       "      <td>6.614627</td>\n",
       "      <td>23.222259</td>\n",
       "      <td>0.000000</td>\n",
       "      <td>0.000000</td>\n",
       "      <td>1.653657</td>\n",
       "      <td>5.805565</td>\n",
       "      <td>0.000000</td>\n",
       "      <td>0.000000</td>\n",
       "      <td>9.921941</td>\n",
       "      <td>34.833389</td>\n",
       "      <td>0.000000</td>\n",
       "      <td>0.000000</td>\n",
       "    </tr>\n",
       "    <tr>\n",
       "      <th>3.0</th>\n",
       "      <td>0.000000</td>\n",
       "      <td>25.209691</td>\n",
       "      <td>30.584733</td>\n",
       "      <td>0.000000</td>\n",
       "      <td>0.000000</td>\n",
       "      <td>6.302423</td>\n",
       "      <td>7.646183</td>\n",
       "      <td>0.000000</td>\n",
       "      <td>0.000000</td>\n",
       "      <td>37.814537</td>\n",
       "      <td>45.877099</td>\n",
       "      <td>0.000000</td>\n",
       "    </tr>\n",
       "    <tr>\n",
       "      <th>4.0</th>\n",
       "      <td>0.000000</td>\n",
       "      <td>12.820441</td>\n",
       "      <td>0.000000</td>\n",
       "      <td>23.106566</td>\n",
       "      <td>0.000000</td>\n",
       "      <td>3.205110</td>\n",
       "      <td>0.000000</td>\n",
       "      <td>5.776642</td>\n",
       "      <td>0.000000</td>\n",
       "      <td>19.230662</td>\n",
       "      <td>0.000000</td>\n",
       "      <td>34.659849</td>\n",
       "    </tr>\n",
       "    <tr>\n",
       "      <th>5.0</th>\n",
       "      <td>0.000000</td>\n",
       "      <td>15.082324</td>\n",
       "      <td>0.000000</td>\n",
       "      <td>0.000000</td>\n",
       "      <td>0.000000</td>\n",
       "      <td>3.770581</td>\n",
       "      <td>0.000000</td>\n",
       "      <td>0.000000</td>\n",
       "      <td>0.000000</td>\n",
       "      <td>22.623487</td>\n",
       "      <td>0.000000</td>\n",
       "      <td>0.000000</td>\n",
       "    </tr>\n",
       "    <tr>\n",
       "      <th>6.0</th>\n",
       "      <td>0.000000</td>\n",
       "      <td>35.110835</td>\n",
       "      <td>13.473105</td>\n",
       "      <td>47.502327</td>\n",
       "      <td>0.000000</td>\n",
       "      <td>8.777709</td>\n",
       "      <td>3.368276</td>\n",
       "      <td>11.875582</td>\n",
       "      <td>0.000000</td>\n",
       "      <td>52.666252</td>\n",
       "      <td>20.209658</td>\n",
       "      <td>71.253490</td>\n",
       "    </tr>\n",
       "    <tr>\n",
       "      <th>7.0</th>\n",
       "      <td>0.000000</td>\n",
       "      <td>22.876666</td>\n",
       "      <td>38.112892</td>\n",
       "      <td>0.000000</td>\n",
       "      <td>0.000000</td>\n",
       "      <td>5.719166</td>\n",
       "      <td>9.528223</td>\n",
       "      <td>0.000000</td>\n",
       "      <td>0.000000</td>\n",
       "      <td>34.314999</td>\n",
       "      <td>57.169339</td>\n",
       "      <td>0.000000</td>\n",
       "    </tr>\n",
       "    <tr>\n",
       "      <th>8.0</th>\n",
       "      <td>0.000000</td>\n",
       "      <td>0.000000</td>\n",
       "      <td>0.000000</td>\n",
       "      <td>0.000000</td>\n",
       "      <td>0.000000</td>\n",
       "      <td>0.000000</td>\n",
       "      <td>0.000000</td>\n",
       "      <td>0.000000</td>\n",
       "      <td>0.000000</td>\n",
       "      <td>0.000000</td>\n",
       "      <td>0.000000</td>\n",
       "      <td>0.000000</td>\n",
       "    </tr>\n",
       "    <tr>\n",
       "      <th>9.0</th>\n",
       "      <td>10.764326</td>\n",
       "      <td>0.000000</td>\n",
       "      <td>0.000000</td>\n",
       "      <td>50.003123</td>\n",
       "      <td>2.691082</td>\n",
       "      <td>0.000000</td>\n",
       "      <td>0.000000</td>\n",
       "      <td>12.500781</td>\n",
       "      <td>16.146489</td>\n",
       "      <td>0.000000</td>\n",
       "      <td>0.000000</td>\n",
       "      <td>75.004685</td>\n",
       "    </tr>\n",
       "  </tbody>\n",
       "</table>\n",
       "</div>"
      ],
      "text/plain": [
       "            Car loan gift  Savings gift  Mortgage gift  Pension gift  \\\n",
       "customerid                                                             \n",
       "0.0              0.000000      0.000000       0.000000      0.000000   \n",
       "1.0              0.000000      0.000000      10.795896      0.000000   \n",
       "2.0              6.614627     23.222259       0.000000      0.000000   \n",
       "3.0              0.000000     25.209691      30.584733      0.000000   \n",
       "4.0              0.000000     12.820441       0.000000     23.106566   \n",
       "5.0              0.000000     15.082324       0.000000      0.000000   \n",
       "6.0              0.000000     35.110835      13.473105     47.502327   \n",
       "7.0              0.000000     22.876666      38.112892      0.000000   \n",
       "8.0              0.000000      0.000000       0.000000      0.000000   \n",
       "9.0             10.764326      0.000000       0.000000     50.003123   \n",
       "\n",
       "            Car loan newsletter  Savings newsletter  Mortgage newsletter  \\\n",
       "customerid                                                                 \n",
       "0.0                    0.000000            0.000000             0.000000   \n",
       "1.0                    0.000000            0.000000             2.698974   \n",
       "2.0                    1.653657            5.805565             0.000000   \n",
       "3.0                    0.000000            6.302423             7.646183   \n",
       "4.0                    0.000000            3.205110             0.000000   \n",
       "5.0                    0.000000            3.770581             0.000000   \n",
       "6.0                    0.000000            8.777709             3.368276   \n",
       "7.0                    0.000000            5.719166             9.528223   \n",
       "8.0                    0.000000            0.000000             0.000000   \n",
       "9.0                    2.691082            0.000000             0.000000   \n",
       "\n",
       "            Pension newsletter  Car loan seminar  Savings seminar  \\\n",
       "customerid                                                          \n",
       "0.0                   0.000000          0.000000         0.000000   \n",
       "1.0                   0.000000          0.000000         0.000000   \n",
       "2.0                   0.000000          9.921941        34.833389   \n",
       "3.0                   0.000000          0.000000        37.814537   \n",
       "4.0                   5.776642          0.000000        19.230662   \n",
       "5.0                   0.000000          0.000000        22.623487   \n",
       "6.0                  11.875582          0.000000        52.666252   \n",
       "7.0                   0.000000          0.000000        34.314999   \n",
       "8.0                   0.000000          0.000000         0.000000   \n",
       "9.0                  12.500781         16.146489         0.000000   \n",
       "\n",
       "            Mortgage seminar  Pension seminar  \n",
       "customerid                                     \n",
       "0.0                 0.000000         0.000000  \n",
       "1.0                16.193844         0.000000  \n",
       "2.0                 0.000000         0.000000  \n",
       "3.0                45.877099         0.000000  \n",
       "4.0                 0.000000        34.659849  \n",
       "5.0                 0.000000         0.000000  \n",
       "6.0                20.209658        71.253490  \n",
       "7.0                57.169339         0.000000  \n",
       "8.0                 0.000000         0.000000  \n",
       "9.0                 0.000000        75.004685  "
      ]
     },
     "execution_count": 116,
     "metadata": {},
     "output_type": "execute_result"
    }
   ],
   "source": [
    "product_profit.head(10)"
   ]
  },
  {
   "cell_type": "markdown",
   "metadata": {},
   "source": [
    "There are many **convenience functions** available."
   ]
  },
  {
   "cell_type": "code",
   "execution_count": null,
   "metadata": {},
   "outputs": [],
   "source": [
    "# read_value = sht.range(\"D5\").options(numbers=int).value\n",
    "read_value = sht.range(\"D4\").options(numbers=int).value\n",
    "print(read_value*2)\n",
    "sht.range(\"D6\").value = read_value * 2"
   ]
  },
  {
   "cell_type": "markdown",
   "metadata": {},
   "source": [
    "Read a named range called `test_value`."
   ]
  },
  {
   "cell_type": "code",
   "execution_count": null,
   "metadata": {},
   "outputs": [],
   "source": [
    "test_value = sht.range(\"test_value\").options(numbers=int).value\n",
    "print(test_value)"
   ]
  },
  {
   "cell_type": "markdown",
   "metadata": {},
   "source": [
    "Write to the named range."
   ]
  },
  {
   "cell_type": "code",
   "execution_count": null,
   "metadata": {},
   "outputs": [],
   "source": [
    "sht.range(\"test_value\").value = test_value + 1\n",
    "sht.range(\"test_value\").value"
   ]
  },
  {
   "cell_type": "code",
   "execution_count": null,
   "metadata": {},
   "outputs": [],
   "source": [
    "sht.range('A1').value = [['Foo 1', 'Foo 2', 'Foo 3'], [10.0, 20.0, 30.0]]\n",
    "sht.range('A1').expand().value"
   ]
  },
  {
   "cell_type": "markdown",
   "metadata": {},
   "source": [
    "**Powerful converters** handle most data types of interest, including Numpy arrays and Pandas DataFrames in both directions:"
   ]
  },
  {
   "cell_type": "code",
   "execution_count": null,
   "metadata": {},
   "outputs": [],
   "source": [
    "import pandas as pd\n",
    "df = pd.DataFrame([[1,2], [3,4]], columns=['a', 'b'])\n",
    "sht.range('A1').value = df\n",
    "sht.range('A1').options(pd.DataFrame, expand='table').value"
   ]
  },
  {
   "cell_type": "markdown",
   "metadata": {},
   "source": [
    "**Matplotlib figures** can be shown as pictures in Excel:"
   ]
  },
  {
   "cell_type": "code",
   "execution_count": null,
   "metadata": {},
   "outputs": [],
   "source": [
    "import matplotlib.pyplot as plt\n",
    "fig = plt.figure()\n",
    "plt.plot([1, 2, 3, 4, 5])\n",
    "sht.pictures.add(fig, name='MyPlot', update=True)"
   ]
  },
  {
   "cell_type": "markdown",
   "metadata": {},
   "source": [
    "Shortcut for the active sheet: `xw.Range`\n",
    "\n",
    "If you want to quickly talk to the active sheet in the active workbook, you don’t need instantiate a workbook and sheet object, but can simply do:"
   ]
  },
  {
   "cell_type": "code",
   "execution_count": null,
   "metadata": {},
   "outputs": [],
   "source": [
    "xw.Range('A1').value = 'Foo'\n",
    "xw.Range('A1').value\n",
    "'Foo'"
   ]
  },
  {
   "cell_type": "markdown",
   "metadata": {},
   "source": [
    "## 2. Macros: Call Python from Excel\n",
    "\n"
   ]
  }
 ],
 "metadata": {
  "kernelspec": {
   "display_name": "Python 3",
   "language": "python",
   "name": "python3"
  },
  "language_info": {
   "codemirror_mode": {
    "name": "ipython",
    "version": 3
   },
   "file_extension": ".py",
   "mimetype": "text/x-python",
   "name": "python",
   "nbconvert_exporter": "python",
   "pygments_lexer": "ipython3",
   "version": "3.6.4"
  }
 },
 "nbformat": 4,
 "nbformat_minor": 2
}
