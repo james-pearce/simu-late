{
 "cells": [
  {
   "cell_type": "markdown",
   "metadata": {},
   "source": [
    "# Using MIP to solve IBM's marketing optimization problem\n",
    "\n",
    "Try to translate IBM's problem to the Google OR framework."
   ]
  },
  {
   "cell_type": "code",
   "execution_count": 34,
   "metadata": {},
   "outputs": [],
   "source": [
    "from ortools.linear_solver import pywraplp\n",
    "import time\n",
    "from __future__ import print_function"
   ]
  },
  {
   "cell_type": "markdown",
   "metadata": {},
   "source": [
    "We have four product types:\n",
    "\n",
    "  * car loan\n",
    "  * savings\n",
    "  * mortgage\n",
    "  * pension\n",
    "  \n",
    "Each product has a different `productValue`: the revenue that can be obtained for the product on average. To get a fair representation of marketing across the various offers, each is allocated a `budgetShare`. "
   ]
  },
  {
   "cell_type": "code",
   "execution_count": 35,
   "metadata": {},
   "outputs": [],
   "source": [
    "products = ['Car loan', 'Savings', 'Mortgage', 'Pension']\n",
    "productValue = [100, 200, 300, 400]\n",
    "budgetShare = [0.6, 0.1, 0.2, 0.1]"
   ]
  },
  {
   "cell_type": "markdown",
   "metadata": {},
   "source": [
    "  \n",
    "Each product these can be offered over one of the following channels:\n",
    "\n",
    "  * gift\n",
    "  * newsletter\n",
    "  * seminar\n",
    "  \n",
    "Each of these channels has different costs, and each has a different _influence factor_. We use the influence to weight the estimated value of the response accordingly."
   ]
  },
  {
   "cell_type": "code",
   "execution_count": 36,
   "metadata": {},
   "outputs": [],
   "source": [
    "channels = ['gift', 'newsletter', 'seminar']\n",
    "cost = [20, 15, 23]\n",
    "factor = [0.2, 0.05, 0.3]"
   ]
  },
  {
   "cell_type": "markdown",
   "metadata": {},
   "source": [
    "Budget needs to be less than the available marketing budget of $ \\$500$."
   ]
  },
  {
   "cell_type": "code",
   "execution_count": 37,
   "metadata": {},
   "outputs": [],
   "source": [
    "availableBudget = 500"
   ]
  },
  {
   "cell_type": "markdown",
   "metadata": {},
   "source": [
    "Read in the offers data, originally from IBM and massaged. It gives the probability of taking an offer by each customer."
   ]
  },
  {
   "cell_type": "code",
   "execution_count": 38,
   "metadata": {},
   "outputs": [
    {
     "data": {
      "text/html": [
       "<div>\n",
       "<style scoped>\n",
       "    .dataframe tbody tr th:only-of-type {\n",
       "        vertical-align: middle;\n",
       "    }\n",
       "\n",
       "    .dataframe tbody tr th {\n",
       "        vertical-align: top;\n",
       "    }\n",
       "\n",
       "    .dataframe thead th {\n",
       "        text-align: right;\n",
       "    }\n",
       "</style>\n",
       "<table border=\"1\" class=\"dataframe\">\n",
       "  <thead>\n",
       "    <tr style=\"text-align: right;\">\n",
       "      <th></th>\n",
       "      <th>Car loan</th>\n",
       "      <th>Savings</th>\n",
       "      <th>Mortgage</th>\n",
       "      <th>Pension</th>\n",
       "      <th>customerid</th>\n",
       "      <th>name</th>\n",
       "    </tr>\n",
       "  </thead>\n",
       "  <tbody>\n",
       "    <tr>\n",
       "      <th>0</th>\n",
       "      <td>0</td>\n",
       "      <td>0.28391</td>\n",
       "      <td>0.00000</td>\n",
       "      <td>0.80506</td>\n",
       "      <td>139068</td>\n",
       "      <td>Sandra J. Wynkoop</td>\n",
       "    </tr>\n",
       "    <tr>\n",
       "      <th>1</th>\n",
       "      <td>0</td>\n",
       "      <td>0.00000</td>\n",
       "      <td>0.10675</td>\n",
       "      <td>0.13221</td>\n",
       "      <td>139154</td>\n",
       "      <td>Roland Guérette</td>\n",
       "    </tr>\n",
       "    <tr>\n",
       "      <th>2</th>\n",
       "      <td>0</td>\n",
       "      <td>0.00000</td>\n",
       "      <td>0.10675</td>\n",
       "      <td>0.13221</td>\n",
       "      <td>139158</td>\n",
       "      <td>Fabien Mailhot</td>\n",
       "    </tr>\n",
       "    <tr>\n",
       "      <th>3</th>\n",
       "      <td>0</td>\n",
       "      <td>0.00000</td>\n",
       "      <td>0.10675</td>\n",
       "      <td>0.13221</td>\n",
       "      <td>139169</td>\n",
       "      <td>Christian Austerlitz</td>\n",
       "    </tr>\n",
       "    <tr>\n",
       "      <th>4</th>\n",
       "      <td>0</td>\n",
       "      <td>0.00000</td>\n",
       "      <td>0.10675</td>\n",
       "      <td>0.13221</td>\n",
       "      <td>139220</td>\n",
       "      <td>Steffen Meister</td>\n",
       "    </tr>\n",
       "  </tbody>\n",
       "</table>\n",
       "</div>"
      ],
      "text/plain": [
       "   Car loan  Savings  Mortgage  Pension  customerid                  name\n",
       "0         0  0.28391   0.00000  0.80506      139068     Sandra J. Wynkoop\n",
       "1         0  0.00000   0.10675  0.13221      139154       Roland Guérette\n",
       "2         0  0.00000   0.10675  0.13221      139158        Fabien Mailhot\n",
       "3         0  0.00000   0.10675  0.13221      139169  Christian Austerlitz\n",
       "4         0  0.00000   0.10675  0.13221      139220       Steffen Meister"
      ]
     },
     "execution_count": 38,
     "metadata": {},
     "output_type": "execute_result"
    }
   ],
   "source": [
    "import pandas\n",
    "\n",
    "product_probs = pandas.read_csv('offers_ibm_pivot.csv')\n",
    "product_probs['Car loan'] = 0\n",
    "# product_probs = product_probs.fillna(0)\n",
    "product_probs = product_probs[['Car loan', 'Savings', 'Mortgage', 'Pension', 'customerid', 'name']]\n",
    "product_probs.head()"
   ]
  },
  {
   "cell_type": "markdown",
   "metadata": {},
   "source": [
    "Instantiate the solver as an MIP problem."
   ]
  },
  {
   "cell_type": "code",
   "execution_count": 39,
   "metadata": {},
   "outputs": [],
   "source": [
    "solver = pywraplp.Solver('SolveCampaignProblem', pywraplp.Solver.CBC_MIXED_INTEGER_PROGRAMMING)"
   ]
  },
  {
   "cell_type": "markdown",
   "metadata": {},
   "source": [
    "Define the number of customers, the number of offers and the number of channel as $x_{ijk}$."
   ]
  },
  {
   "cell_type": "code",
   "execution_count": 40,
   "metadata": {},
   "outputs": [],
   "source": [
    "num_customers = product_probs.shape[0]\n",
    "num_products = len(products)\n",
    "num_channels = len(channels)\n",
    "\n",
    "x = {}\n",
    "\n",
    "for i in range(num_customers):\n",
    "    for j in range(num_products):\n",
    "        for k in range(num_channels):\n",
    "            x[i, j, k] = solver.IntVar(0, 1, 'x[%i,%i,%i]' % (i, j, k))"
   ]
  },
  {
   "cell_type": "markdown",
   "metadata": {},
   "source": [
    "### Set up the constraints\n",
    "\n",
    "  1. Offer only one product per customer.\n",
    "  2. Do not exceed the budget.\n",
    "  3. Balance the offers/customers among products.\n",
    "  "
   ]
  },
  {
   "cell_type": "code",
   "execution_count": 41,
   "metadata": {},
   "outputs": [],
   "source": [
    "    ## offer only one product per customer\n",
    "    for i in range(num_customers):\n",
    "        solver.Add(solver.Sum([x[i, j, k] \n",
    "                               for j in range(num_products)\n",
    "                               for k in range(num_channels)\n",
    "                              ]) <= 1) \n",
    "\n",
    "    ## Do not exceed the budget\n",
    "    solver.Add(solver.Sum([x[i, j, k]*cost[k]\n",
    "                           for i in range(num_customers)\n",
    "                           for j in range(num_products)\n",
    "                           for k in range(num_channels)\n",
    "                          ]) <= availableBudget)\n",
    "    \n",
    "    ## Balance the offers/customers among products\n",
    "    for j in range(num_products):\n",
    "        solver.Add(solver.Sum([x[i, j, k]\n",
    "                               for i in range(num_customers)\n",
    "                               for k in range(num_channels)\n",
    "            ]) <= budgetShare[j]*solver.Sum([x[i, j, k]\n",
    "                                            for i in range(num_customers)\n",
    "                                            for j in range(num_products)\n",
    "                                            for k in range(num_channels)\n",
    "                                            ]) )\n",
    "          "
   ]
  },
  {
   "cell_type": "markdown",
   "metadata": {},
   "source": [
    "_There are a couple of constraints in the IBM version that don't seem to be real constraints; rather, they set up variables to calculate metrics of interest._\n",
    "\n",
    "### Express the objective\n",
    "\n",
    "We want to maximize revenue. Here $x_{ijk}$ denotes whether customer $i$ receives an offer for product $j$ over channel $k$, $f_k$ denotes the channel adjustment factor, $v_j$ the product value and $p_{ij}$ the probability that customer $i$ takes up product $j$.\n",
    "\n",
    "$ \\max R = \\sum_{ijk} x_{ijk} \\times f_k \\times v_j \\times p_{ij}$"
   ]
  },
  {
   "cell_type": "code",
   "execution_count": 42,
   "metadata": {},
   "outputs": [],
   "source": [
    "#    solver.Minimize(solver.Sum([cost[i][j] * x[i, j] for i in range(num_workers)\n",
    "#                                                     for j in range(num_tasks)]))\n",
    "\n",
    "solver.Maximize(solver.Sum([x[i, j, k]*factor[k]*productValue[j]*product_probs.iloc[i, j]\n",
    "                           for i in range(num_customers)\n",
    "                           for j in range(num_products)\n",
    "                           for k in range(num_channels)]))"
   ]
  },
  {
   "cell_type": "markdown",
   "metadata": {},
   "source": [
    "### Invoke the solver"
   ]
  },
  {
   "cell_type": "code",
   "execution_count": 43,
   "metadata": {},
   "outputs": [],
   "source": [
    "# Invoke the solver\n",
    "sol = solver.Solve()"
   ]
  },
  {
   "cell_type": "markdown",
   "metadata": {},
   "source": [
    "Print out the solution. We can print out more information about the constraints."
   ]
  },
  {
   "cell_type": "code",
   "execution_count": 45,
   "metadata": {},
   "outputs": [
    {
     "name": "stdout",
     "output_type": "stream",
     "text": [
      "Total cost = 423\n",
      "\n",
      "Customer Sandra J. Wynkoop assigned to product \"Car loan\" and channel \"newsletter\"\n",
      "Customer Roland Guérette assigned to product \"Car loan\" and channel \"newsletter\"\n",
      "Customer Fabien Mailhot assigned to product \"Car loan\" and channel \"newsletter\"\n",
      "Customer Christian Austerlitz assigned to product \"Mortgage\" and channel \"seminar\"\n",
      "Customer Lee Tsou assigned to product \"Car loan\" and channel \"newsletter\"\n",
      "Customer Sanaa' Hikmah Hakimi assigned to product \"Car loan\" and channel \"newsletter\"\n",
      "Customer Miroslav Škaroupka assigned to product \"Mortgage\" and channel \"seminar\"\n",
      "Customer George Blomqvist assigned to product \"Car loan\" and channel \"newsletter\"\n",
      "Customer Will Henderson assigned to product \"Pension\" and channel \"seminar\"\n",
      "Customer Yuina Ohira assigned to product \"Mortgage\" and channel \"seminar\"\n",
      "Customer Vlad Alekseeva assigned to product \"Car loan\" and channel \"newsletter\"\n",
      "Customer Cassio Lombardo assigned to product \"Car loan\" and channel \"gift\"\n",
      "Customer Trinity Zelaya Miramontes assigned to product \"Car loan\" and channel \"newsletter\"\n",
      "Customer Eldar Muravyov assigned to product \"Mortgage\" and channel \"seminar\"\n",
      "Customer Zeeb Longoria Marrero assigned to product \"Car loan\" and channel \"newsletter\"\n",
      "Customer Earl B. Wood assigned to product \"Savings\" and channel \"seminar\"\n",
      "Customer Franca Palermo assigned to product \"Car loan\" and channel \"newsletter\"\n",
      "Customer Michelle M. Lopez assigned to product \"Pension\" and channel \"seminar\"\n",
      "Customer Terry L. Ridgley assigned to product \"Savings\" and channel \"seminar\"\n",
      "Customer Miranda B. Roush assigned to product \"Car loan\" and channel \"newsletter\"\n",
      "\n",
      "Time =  33324  milliseconds.\n"
     ]
    }
   ],
   "source": [
    "print('Total cost = %d' % (solver.Objective().Value()))\n",
    "print()\n",
    "for i in range(num_customers):\n",
    "    for j in range(num_products):\n",
    "        for k in range(num_channels):\n",
    "            if x[i, j, k].solution_value() > 0:\n",
    "                customerid = product_probs.loc[i, 'name']\n",
    "                print('Customer %s assigned to product \"%s\" and channel \"%s\"' % (customerid, products[j], channels[k]))\n",
    "    \n",
    "print()\n",
    "print('Time = ', solver.WallTime(), \" milliseconds.\")"
   ]
  },
  {
   "cell_type": "code",
   "execution_count": null,
   "metadata": {},
   "outputs": [],
   "source": []
  }
 ],
 "metadata": {
  "kernelspec": {
   "display_name": "Python 3",
   "language": "python",
   "name": "python3"
  },
  "language_info": {
   "codemirror_mode": {
    "name": "ipython",
    "version": 3
   },
   "file_extension": ".py",
   "mimetype": "text/x-python",
   "name": "python",
   "nbconvert_exporter": "python",
   "pygments_lexer": "ipython3",
   "version": "3.6.4"
  }
 },
 "nbformat": 4,
 "nbformat_minor": 2
}
