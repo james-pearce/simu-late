{
 "cells": [
  {
   "cell_type": "markdown",
   "metadata": {},
   "source": [
    "# Using MIP to solve an extended problem\n",
    "\n",
    "https://developers.google.com/optimization/assignment/compare_mip_cp\n",
    "\n",
    "## Assigment with task sizes\n",
    "\n",
    "We could also solve this problem using the minimum cost flow approach. \n",
    "\n",
    "Here each tasks has a differet _size_; sizes measure the effort required to perform the task. A new constraint is that the total size of the tasks assigned to a worker must not exceed a fixed bound.\n",
    "\n",
    "\n"
   ]
  },
  {
   "cell_type": "code",
   "execution_count": 1,
   "metadata": {},
   "outputs": [],
   "source": [
    "from ortools.linear_solver import pywraplp\n",
    "import time\n",
    "from __future__ import print_function\n"
   ]
  },
  {
   "cell_type": "code",
   "execution_count": 6,
   "metadata": {},
   "outputs": [],
   "source": [
    "def main():\n",
    "    \"\"\"\n",
    "    Solving an assignment problem with MIP\n",
    "    \"\"\"\n",
    "    \n",
    "    # Instantiate a mixed integer solver\n",
    "    solver = pywraplp.Solver('SolveTransportationProblem', pywraplp.Solver.CBC_MIXED_INTEGER_PROGRAMMING)\n",
    "    \n",
    "    # define the costs\n",
    "    cost = [[90, 76, 75, 70, 50, 74, 12, 68],\n",
    "          [35, 85, 55, 65, 48, 101, 70, 83],\n",
    "          [125, 95, 90, 105, 59, 120, 36, 73],\n",
    "          [45, 110, 95, 115, 104, 83, 37, 71],\n",
    "          [60, 105, 80, 75, 59, 62, 93, 88],\n",
    "          [45, 65, 110, 95, 47, 31, 81, 34],\n",
    "          [38, 51, 107, 41, 69, 99, 115, 48],\n",
    "          [47, 85, 57, 71, 92, 77, 109, 36],\n",
    "          [39, 63, 97, 49, 118, 56, 92, 61],\n",
    "          [47, 101, 71, 60, 88, 109, 52, 90]]\n",
    "    \n",
    "    task_sizes = [10, 7, 3, 12, 15, 4, 11, 5]\n",
    "    \n",
    "    # set the maximum total cost for any worker\n",
    "    total_size_max = 15\n",
    "    \n",
    "    num_workers = len(cost)\n",
    "    num_tasks = len(cost[0])\n",
    "    \n",
    "    # create the binary integer variables for the problem\n",
    "    x = {}\n",
    "    \n",
    "    for i in range(num_workers):\n",
    "        for j in range (num_tasks):\n",
    "            x[i, j] = solver.IntVar(0, 1, 'x[%i,%i]' % (i, j))\n",
    "            \n",
    "    # constraints\n",
    "    ## total size must be less than or equal to total_size_max\n",
    "    for i in range(num_workers):\n",
    "        solver.Add(solver.Sum([task_sizes[j] * x[i, j] for j in range(num_tasks)]) <= total_size_max)\n",
    "        \n",
    "    ## each task is assigned to at least 1 worker\n",
    "    for j in range(num_tasks):\n",
    "        solver.Add(solver.Sum([x[i, j] for i in range(num_workers)]) >= 1)    \n",
    "\n",
    "    # create the objective function\n",
    "    solver.Minimize(solver.Sum([cost[i][j] * x[i, j] for i in range(num_workers)\n",
    "                                                     for j in range(num_tasks)]))\n",
    "    # Invoke the solver\n",
    "    sol = solver.Solve()\n",
    "    \n",
    "    print('Total cost = %d' % (solver.Objective().Value()))\n",
    "    print()\n",
    "    for i in range(num_workers):\n",
    "        for j in range(num_tasks):\n",
    "            if x[i, j].solution_value() > 0:\n",
    "                print('worker %d assigned to task %d; cost %d.' % (i, j, cost[i][j]))\n",
    "    \n",
    "    print()\n",
    "    print('Time = ', solver.WallTime(), \" milliseconds.\")\n",
    "    \n",
    "    "
   ]
  },
  {
   "cell_type": "code",
   "execution_count": 7,
   "metadata": {},
   "outputs": [
    {
     "name": "stdout",
     "output_type": "stream",
     "text": [
      "Total cost = 326\n",
      "\n",
      "worker 0 assigned to task 6; cost 12.\n",
      "worker 1 assigned to task 0; cost 35.\n",
      "worker 1 assigned to task 2; cost 55.\n",
      "worker 4 assigned to task 4; cost 59.\n",
      "worker 5 assigned to task 5; cost 31.\n",
      "worker 5 assigned to task 7; cost 34.\n",
      "worker 6 assigned to task 1; cost 51.\n",
      "worker 8 assigned to task 3; cost 49.\n",
      "\n",
      "Time =  44  milliseconds.\n",
      "\n",
      "Time =  0.03704599999999969\n"
     ]
    }
   ],
   "source": [
    "if __name__ == \"__main__\":\n",
    "    start_time = time.clock()\n",
    "    main()\n",
    "    print()\n",
    "    print(\"Time = \", time.clock() - start_time)"
   ]
  },
  {
   "cell_type": "code",
   "execution_count": null,
   "metadata": {},
   "outputs": [],
   "source": []
  }
 ],
 "metadata": {
  "kernelspec": {
   "display_name": "Python 3",
   "language": "python",
   "name": "python3"
  },
  "language_info": {
   "codemirror_mode": {
    "name": "ipython",
    "version": 3
   },
   "file_extension": ".py",
   "mimetype": "text/x-python",
   "name": "python",
   "nbconvert_exporter": "python",
   "pygments_lexer": "ipython3",
   "version": "3.6.4"
  }
 },
 "nbformat": 4,
 "nbformat_minor": 2
}
