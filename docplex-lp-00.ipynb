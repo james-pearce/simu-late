{
 "cells": [
  {
   "cell_type": "markdown",
   "metadata": {},
   "source": [
    "# DOCPLEX linear programming example 00"
   ]
  },
  {
   "cell_type": "code",
   "execution_count": 7,
   "metadata": {},
   "outputs": [],
   "source": [
    "from docplex.mp.model import Model\n",
    "\n",
    "# create one model instance with a name\n",
    "m = Model(name='telephone-production')\n",
    "\n",
    "url = None\n",
    "key = None"
   ]
  },
  {
   "cell_type": "markdown",
   "metadata": {},
   "source": [
    "## Define the decision variables\n",
    "\n",
    "  * The continuous variable `desk` represents the production of desk telephones.\n",
    "  * The continuous variable `cell` represents the production of cell phones.\n",
    "  \n",
    "By default, all variabes have a lower bound of zero and an infinite upper bound."
   ]
  },
  {
   "cell_type": "code",
   "execution_count": 3,
   "metadata": {},
   "outputs": [],
   "source": [
    "desk = m.continuous_var(name='desk')\n",
    "cell = m.continuous_var(name='cell')"
   ]
  },
  {
   "cell_type": "markdown",
   "metadata": {},
   "source": [
    "## Set up the constraints\n",
    "\n",
    "  * Desk and cell phone must both be greater than 100.\n",
    "  * Assembly time is limited.\n",
    "  * Painting time is limited."
   ]
  },
  {
   "cell_type": "code",
   "execution_count": 4,
   "metadata": {},
   "outputs": [],
   "source": [
    "m.add_constraint(desk >= 100)\n",
    "m.add_constraint(cell >= 100)\n",
    "\n",
    "ct_assembly = m.add_constraint(0.2*desk + 0.4*cell <= 400)\n",
    "ct_painting = m.add_constraint(0.5*desk + 0.4*cell <= 490)"
   ]
  },
  {
   "cell_type": "markdown",
   "metadata": {},
   "source": [
    "## Define the objective function\n",
    "\n",
    "The aim is to maximize expected revenue."
   ]
  },
  {
   "cell_type": "code",
   "execution_count": 5,
   "metadata": {},
   "outputs": [],
   "source": [
    "m.maximize(12*desk + 20*cell)"
   ]
  },
  {
   "cell_type": "markdown",
   "metadata": {},
   "source": [
    "## Print information about the model"
   ]
  },
  {
   "cell_type": "code",
   "execution_count": 6,
   "metadata": {},
   "outputs": [
    {
     "name": "stdout",
     "output_type": "stream",
     "text": [
      "Model: telephone-production\n",
      " - number of variables: 2\n",
      "   - binary=0, integer=0, continuous=2\n",
      " - number of constraints: 4\n",
      "   - linear=4\n",
      " - parameters: defaults\n"
     ]
    }
   ],
   "source": [
    "m.print_information()"
   ]
  },
  {
   "cell_type": "markdown",
   "metadata": {},
   "source": [
    "## Solve with the decision optimization solve service\n",
    "\n",
    "Or do I want to do this locally?\n",
    "\n",
    "If `url` and `key` are `None`, the optimizer will look for a local runtime.\n",
    "\n",
    "`Model.solve()` returns a solution object if successful, otherwise it returns `None`.\n",
    "\n"
   ]
  },
  {
   "cell_type": "code",
   "execution_count": 8,
   "metadata": {},
   "outputs": [],
   "source": [
    "s = m.solve(url=url, key=key)\n",
    "m.print_solution()"
   ]
  },
  {
   "cell_type": "code",
   "execution_count": 12,
   "metadata": {},
   "outputs": [
    {
     "data": {
      "text/plain": [
       "docplex.mp.solution.SolveSolution(obj=0,values={})"
      ]
     },
     "execution_count": 12,
     "metadata": {},
     "output_type": "execute_result"
    }
   ],
   "source": [
    "m.solution"
   ]
  },
  {
   "cell_type": "markdown",
   "metadata": {},
   "source": [
    "_This doesn't seem to have worked. Check some of the documentation and examples._"
   ]
  },
  {
   "cell_type": "code",
   "execution_count": null,
   "metadata": {},
   "outputs": [],
   "source": []
  }
 ],
 "metadata": {
  "kernelspec": {
   "display_name": "Python 3",
   "language": "python",
   "name": "python3"
  },
  "language_info": {
   "codemirror_mode": {
    "name": "ipython",
    "version": 3
   },
   "file_extension": ".py",
   "mimetype": "text/x-python",
   "name": "python",
   "nbconvert_exporter": "python",
   "pygments_lexer": "ipython3",
   "version": "3.6.4"
  }
 },
 "nbformat": 4,
 "nbformat_minor": 2
}
