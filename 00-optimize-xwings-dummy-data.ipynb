{
 "cells": [
  {
   "cell_type": "code",
   "execution_count": 1,
   "metadata": {},
   "outputs": [],
   "source": [
    "import xlwings as xw\n",
    "import pandas as pd\n",
    "from ortools.linear_solver import pywraplp\n",
    "import numpy as np\n",
    "\n",
    "# settings\n",
    "## to do: YAML these\n",
    "## or config them in Excel\n",
    "\n",
    "sample_size = 70 # initial sample to optimize on\n",
    "number_of_samples = 10 # not used yet\n",
    "\n",
    "# wb = xw.Book()  # this will create a new workbook\n",
    "wb = xw.Book(r'myproject/myproject.xlsm')  # connect to an existing file in the current working directory\n",
    "# wb = xw.Book(r'C:\\path\\to\\file.xlsx')  # on Windows: use raw strings to escape backslashes"
   ]
  },
  {
   "cell_type": "markdown",
   "metadata": {},
   "source": [
    "Read in product and channel information from Excel."
   ]
  },
  {
   "cell_type": "code",
   "execution_count": 2,
   "metadata": {},
   "outputs": [],
   "source": [
    "customer_sheet = wb.sheets['customer_data']\n",
    "product_sheet = wb.sheets['products']\n",
    "channel_sheet = wb.sheets['channels']\n",
    "# scenario_sheet = wb.sheets['Scenario']"
   ]
  },
  {
   "cell_type": "code",
   "execution_count": 3,
   "metadata": {},
   "outputs": [],
   "source": [
    "product_probs_all = customer_sheet.range('A1').options(pd.DataFrame, expand='table').value\n",
    "products_df = product_sheet.range('A1').options(pd.DataFrame, expand='table').value\n",
    "\n",
    "products = products_df.index\n",
    "productValue = products_df.iloc[:,0]\n",
    "\n",
    "channels_df = channel_sheet.range('A1').options(pd.DataFrame, expand='table').value\n",
    "channels = channels_df.index\n",
    "cost = channels_df['cost']\n",
    "factor = channels_df['factor']\n",
    "\n",
    "sample_scaling = sample_size/product_probs_all.shape[0]"
   ]
  },
  {
   "cell_type": "markdown",
   "metadata": {},
   "source": [
    "Get the available marketing budget from the `Scenario` sheet."
   ]
  },
  {
   "cell_type": "code",
   "execution_count": 4,
   "metadata": {},
   "outputs": [
    {
     "name": "stdout",
     "output_type": "stream",
     "text": [
      "Sampled available budget: 1296\n"
     ]
    }
   ],
   "source": [
    "budget_range = scenario_sheet.range('budgetConstraints').value\n",
    "availableBudget_total = budget_range[1]\n",
    "availableBudget = availableBudget_total*sample_scaling # scale to sample_size for initial optimization\n",
    "print(\"Sampled available budget: %d\" % availableBudget)"
   ]
  },
  {
   "cell_type": "markdown",
   "metadata": {},
   "source": [
    "Create a sample of size `sample_size` for the initial optimization.\n",
    "\n",
    "> **To do**: adjust this to sparse notation to generalise better."
   ]
  },
  {
   "cell_type": "code",
   "execution_count": 5,
   "metadata": {},
   "outputs": [],
   "source": [
    "product_probs = product_probs_all.sample(n=sample_size, random_state=2058)"
   ]
  },
  {
   "cell_type": "markdown",
   "metadata": {},
   "source": [
    "Instantiate the solver as an MIP problem."
   ]
  },
  {
   "cell_type": "code",
   "execution_count": 6,
   "metadata": {},
   "outputs": [],
   "source": [
    "solver = pywraplp.Solver('SolveCampaignProblem', pywraplp.Solver.CBC_MIXED_INTEGER_PROGRAMMING)\n",
    "solver.Clear()"
   ]
  },
  {
   "cell_type": "markdown",
   "metadata": {},
   "source": [
    "Define the number of customers, the number of offers and the number of channels as $x_{ijk}$."
   ]
  },
  {
   "cell_type": "code",
   "execution_count": 7,
   "metadata": {},
   "outputs": [
    {
     "name": "stdout",
     "output_type": "stream",
     "text": [
      "Number of customers: 70\n",
      "Number of products: 4\n",
      "Number of channels: 3\n"
     ]
    }
   ],
   "source": [
    "num_customers = product_probs.shape[0]\n",
    "num_products = len(products)\n",
    "num_channels = len(channels)\n",
    "\n",
    "x = {}\n",
    "\n",
    "for i in range(num_customers):\n",
    "    for j in range(num_products):\n",
    "        for k in range(num_channels):\n",
    "            x[i, j, k] = solver.IntVar(0, 1, 'x[%i,%i,%i]' % (i, j, k))\n",
    "\n",
    "print('Number of customers: %d' % num_customers)\n",
    "print('Number of products: %d' % num_products)\n",
    "print('Number of channels: %d' % num_channels)"
   ]
  },
  {
   "cell_type": "markdown",
   "metadata": {},
   "source": [
    "## Set up the constraints\n",
    "\n",
    "  1. Offer only one product per customer. _(**TO DO:** update this.)_\n",
    "  2. Adhere to budget, channel and product constraints from the Excel spreadsheet.\n",
    "  3. Adhere to number of offer constraints\n",
    "  \n"
   ]
  },
  {
   "cell_type": "code",
   "execution_count": 8,
   "metadata": {},
   "outputs": [],
   "source": [
    "    ## offer only one product per customer\n",
    "    for i in range(num_customers):\n",
    "        solver.Add(solver.Sum([x[i, j, k] \n",
    "                               for j in range(num_products)\n",
    "                               for k in range(num_channels)\n",
    "                              ]) <= 1) # *** MAGIC NUMBER ALERT!!! ***\n",
    "\n",
    "    ## Do not exceed the budget\n",
    "    solver.Add(solver.Sum([x[i, j, k]*cost[k]\n",
    "                           for i in range(num_customers)\n",
    "                           for j in range(num_products)\n",
    "                           for k in range(num_channels)\n",
    "                          ]) <= availableBudget)"
   ]
  },
  {
   "cell_type": "markdown",
   "metadata": {},
   "source": [
    "### Get the channel constraints"
   ]
  },
  {
   "cell_type": "markdown",
   "metadata": {},
   "source": [
    "Adjust the constraints for the sample size."
   ]
  },
  {
   "cell_type": "code",
   "execution_count": 10,
   "metadata": {},
   "outputs": [],
   "source": [
    "channels_df['minimum offers adjusted'] = channels_df['minimum offers']*sample_scaling\n",
    "channels_df['maximum offers adjusted'] = channels_df['maximum offers']*sample_scaling\n",
    "channels_df['minimum expenditure adjusted'] = channels_df['minimum expenditure']*sample_scaling\n",
    "channels_df['maximum expenditure adjusted'] = channels_df['maximum expenditure']*sample_scaling\n",
    "channels_df['minimum revenue adjusted'] = channels_df['minimum revenue']*sample_scaling\n",
    "channels_df['maximum revenue adjusted'] = channels_df['maximum revenue']*sample_scaling\n"
   ]
  },
  {
   "cell_type": "markdown",
   "metadata": {},
   "source": [
    "### Set the channel constraints"
   ]
  },
  {
   "cell_type": "code",
   "execution_count": 11,
   "metadata": {},
   "outputs": [
    {
     "name": "stdout",
     "output_type": "stream",
     "text": [
      "Maximum revenue 2100 (300000) for seminar\n"
     ]
    }
   ],
   "source": [
    "# minimums for channel\n",
    "if channels_df['minimum offers adjusted'].notnull().any():\n",
    "    for k in range(num_channels):\n",
    "        if pd.notnull(channels_df.loc[channels[k], 'minimum offers adjusted']):\n",
    "            solver.Add(solver.Sum([x[i, j, k]\n",
    "                for i in range(num_customers)\n",
    "                for j in range(num_products)\n",
    "                ]) >= channels_df.loc[channels[k], 'minimum offers adjusted'])\n",
    "\n",
    "# maxima for channel\n",
    "if channels_df['maximum offers adjusted'].notnull().any():\n",
    "    for k in range(num_channels):\n",
    "        if pd.notnull(channels_df.loc[channels[k], 'maximum offers adjusted']):\n",
    "            solver.Add(solver.Sum([x[i, j, k]\n",
    "                for i in range(num_customers)\n",
    "                for j in range(num_products)\n",
    "                ]) <= channels_df.loc[channels[k], 'maximum offers adjusted'])\n",
    "\n",
    "# minimums for channel\n",
    "if channels_df['minimum expenditure adjusted'].notnull().any():\n",
    "    for k in range(num_channels):\n",
    "        if pd.notnull(channels_df.loc[channels[k], 'minimum expenditure adjusted']):\n",
    "            solver.Add(solver.Sum([x[i, j, k]*cost[k]\n",
    "                for i in range(num_customers)\n",
    "                for j in range(num_products)\n",
    "                ]) >= channels_df.loc[channels[k], 'minimum expenditure adjusted'])\n",
    "\n",
    "# maximums for channel\n",
    "if channels_df['maximum expenditure adjusted'].notnull().any():\n",
    "    for k in range(num_channels):\n",
    "        if pd.notnull(channels_df.loc[channels[k], 'maximum expenditure adjusted']):\n",
    "            solver.Add(solver.Sum([x[i, j, k]*cost[k]\n",
    "                for i in range(num_customers)\n",
    "                for j in range(num_products)\n",
    "                ]) <= channels_df.loc[channels[k], 'maximum expenditure adjusted'])\n",
    "\n",
    "# minimums for channel\n",
    "if channels_df['minimum revenue adjusted'].notnull().any():\n",
    "    for k in range(num_channels):\n",
    "        if pd.notnull(channels_df.loc[channels[k], 'minimum revenue adjusted']):\n",
    "            print('Minimum revenue %d for %s' % (channels_df.loc[channels[k], 'minimum revenue adjusted'], \n",
    "                                                channels[k]))\n",
    "            solver.Add(solver.Sum([x[i, j, k]*factor[k]*productValue[j]*product_probs[products[j]].iloc[i]\n",
    "                for i in range(num_customers)\n",
    "                for j in range(num_products)\n",
    "                ]) >= channels_df.loc[channels[k], 'minimum revenue adjusted'])\n",
    "\n",
    "# maximums for channel\n",
    "if channels_df['maximum revenue adjusted'].notnull().any():\n",
    "    for k in range(num_channels):\n",
    "        if pd.notnull(channels_df.loc[channels[k], 'maximum revenue adjusted']):\n",
    "            print('Maximum revenue %d (%d) for %s' % (channels_df.loc[channels[k], 'maximum revenue adjusted'], \n",
    "                                                      channels_df.loc[channels[k], 'maximum revenue'],\n",
    "                                                channels[k]))\n",
    "            solver.Add(solver.Sum([x[i, j, k]*factor[k]*productValue[j]*product_probs[products[j]].iloc[i]\n",
    "                for i in range(num_customers)\n",
    "                for j in range(num_products)\n",
    "                ]) <= channels_df.loc[channels[k], 'maximum revenue adjusted'])"
   ]
  },
  {
   "cell_type": "markdown",
   "metadata": {},
   "source": [
    "### Get the product constraints"
   ]
  },
  {
   "cell_type": "markdown",
   "metadata": {},
   "source": [
    "Adjust the constraints for the sample size."
   ]
  },
  {
   "cell_type": "code",
   "execution_count": 12,
   "metadata": {},
   "outputs": [],
   "source": [
    "products_df['minimum offers adjusted'] = products_df['minimum offers']*sample_scaling\n",
    "products_df['maximum offers adjusted'] = products_df['maximum offers']*sample_scaling\n",
    "products_df['minimum expenditure adjusted'] = products_df['minimum expenditure']*sample_scaling\n",
    "products_df['maximum expenditure adjusted'] = products_df['maximum expenditure']*sample_scaling\n",
    "products_df['minimum revenue adjusted'] = products_df['minimum revenue']*sample_scaling\n",
    "products_df['maximum revenue adjusted'] = products_df['maximum revenue']*sample_scaling\n"
   ]
  },
  {
   "cell_type": "markdown",
   "metadata": {},
   "source": [
    "### Set the product constraints"
   ]
  },
  {
   "cell_type": "code",
   "execution_count": 13,
   "metadata": {},
   "outputs": [
    {
     "name": "stdout",
     "output_type": "stream",
     "text": [
      "Maximum revenue 1400 (200000) for Pension.\n"
     ]
    }
   ],
   "source": [
    "# minima for product\n",
    "if products_df['minimum offers adjusted'].notnull().any():\n",
    "    for j in range(num_products):\n",
    "        if pd.notnull(products_df.loc[products[j], 'minimum offers adjusted']):\n",
    "            solver.Add(solver.Sum([x[i, j, k]\n",
    "                for i in range(num_customers)\n",
    "                for k in range(num_channels)\n",
    "                ]) >= products_df.loc[products[j], 'minimum offers adjusted'])\n",
    "\n",
    "# maxima for product\n",
    "if products_df['maximum offers adjusted'].notnull().any():\n",
    "    for j in range(num_products):\n",
    "        if pd.notnull(products_df.loc[products[j], 'maximum offers adjusted']):\n",
    "            solver.Add(solver.Sum([x[i, j, k]\n",
    "                for i in range(num_customers)\n",
    "                for k in range(num_channels)\n",
    "                ]) <= products_df.loc[products[j], 'maximum offers adjusted'])\n",
    "\n",
    "# minima for product\n",
    "if products_df['minimum expenditure adjusted'].notnull().any():\n",
    "    for j in range(num_products):\n",
    "        if pd.notnull(products_df.loc[products[j], 'minimum expenditure adjusted']):\n",
    "            solver.Add(solver.Sum([x[i, j, k]*cost[k]\n",
    "                for i in range(num_customers)\n",
    "                for k in range(num_channels)\n",
    "                ]) >= products_df.loc[products[j], 'minimum expenditure adjusted'])\n",
    "\n",
    "# maxima for product\n",
    "if products_df['maximum expenditure adjusted'].notnull().any():\n",
    "    for j in range(num_products):\n",
    "        if pd.notnull(products_df.loc[products[j], 'maximum expenditure adjusted']):\n",
    "            solver.Add(solver.Sum([x[i, j, k]*cost[k]\n",
    "                for i in range(num_customers)\n",
    "                for k in range(num_channels)\n",
    "                ]) <= products_df.loc[products[j], 'maximum expenditure adjusted'])\n",
    "\n",
    "# Is this causing the infeasible solution?\n",
    "\n",
    "# minima for product\n",
    "if products_df['minimum revenue adjusted'].notnull().any():\n",
    "    for j in range(num_products):\n",
    "        if pd.notnull(products_df.loc[products[j], 'minimum revenue adjusted']):\n",
    "            print('Minimum revenue %d (%d) for %s' % (products_df.loc[products[j], 'minimum revenue adjusted'], \n",
    "                                                      products_df.loc[products[j], 'minimum revenue'],\n",
    "                                                products[j]))\n",
    "\n",
    "            solver.Add(solver.Sum([x[i, j, k]*factor[k]*productValue[j]*product_probs[products[j]].iloc[i]\n",
    "                for i in range(num_customers)\n",
    "                for k in range(num_channels)\n",
    "                ]) >= products_df.loc[products[j], 'minimum revenue adjusted'])\n",
    "\n",
    "# maxima for product\n",
    "if products_df['maximum revenue adjusted'].notnull().any():\n",
    "    for j in range(num_products):\n",
    "        if pd.notnull(products_df.loc[products[j], 'maximum revenue adjusted']):\n",
    "            print('Maximum revenue %d (%d) for %s.' % (products_df.loc[products[j], 'maximum revenue adjusted'], \n",
    "                                                      products_df.loc[products[j], 'maximum revenue'],\n",
    "                                                products[j]))\n",
    "            solver.Add(solver.Sum([x[i, j, k]*factor[k]*productValue[j]*product_probs[products[j]].iloc[i]\n",
    "                for i in range(num_customers)\n",
    "                for k in range(num_channels)\n",
    "                ]) <= products_df.loc[products[j], 'maximum revenue adjusted'])"
   ]
  },
  {
   "cell_type": "markdown",
   "metadata": {},
   "source": [
    "## Set the _objective function_\n",
    "\n",
    "Set to maximise the revenue $R$. Here $x_{ijk}$ denotes whether customer $i$ receives an offer for product $j$ over channel $k$, $f_k$ denotes the channel adjustment factor, $v_j$ the product value and $p_{ij}$ the probability that customer $i$ takes up product $j$.\n",
    "\n",
    "$ \\max R = \\sum_{ijk} x_{ijk} \\times f_k \\times v_j \\times p_{ij}$\n",
    "\n",
    "\n",
    "> At some point, need to be able to specify \n",
    "  1. What to optimize, and \n",
    "  2. Whether to maximise or minimise.  \n",
    "\n",
    "> At the moment we maximise revenue, this could be profit, we could minimise budget, maximise profit or ~~maximise ROI.~~"
   ]
  },
  {
   "cell_type": "code",
   "execution_count": 14,
   "metadata": {},
   "outputs": [],
   "source": [
    "#    solver.Minimize(solver.Sum([cost[i][j] * x[i, j] for i in range(num_workers)\n",
    "#                                                     for j in range(num_tasks)]))\n",
    "# optimize = 'Profit' # to do: get this from the interface\n",
    "optimize = 'Expenditure'\n",
    "\n",
    "if optimize == 'Revenue':\n",
    "    solver.Maximize(solver.Sum([x[i, j, k]*factor[k]*productValue[j]*product_probs[products[j]].iloc[i]\n",
    "                               for i in range(num_customers)\n",
    "                               for j in range(num_products)\n",
    "                               for k in range(num_channels)]))\n",
    "elif optimize == 'Profit':\n",
    "    solver.Maximize(solver.Sum([x[i, j, k]*(factor[k]*productValue[j]*product_probs[products[j]].iloc[i] - cost[k])\n",
    "                               for i in range(num_customers)\n",
    "                               for j in range(num_products)\n",
    "                               for k in range(num_channels)]))\n",
    "elif optimize == 'Expenditure':\n",
    "        solver.Minimize(solver.Sum([x[i, j, k]*cost[k]\n",
    "                               for i in range(num_customers)\n",
    "                               for j in range(num_products)\n",
    "                               for k in range(num_channels)]))\n"
   ]
  },
  {
   "cell_type": "markdown",
   "metadata": {},
   "source": [
    "### Invoke the solver\n",
    "\n",
    "> Need a routine here to evaluate whether the solver is solving. That is, set the most iterations and a time limit."
   ]
  },
  {
   "cell_type": "code",
   "execution_count": 15,
   "metadata": {},
   "outputs": [
    {
     "name": "stdout",
     "output_type": "stream",
     "text": [
      "Solver completed with return value 0.\n"
     ]
    }
   ],
   "source": [
    "# Invoke the solver\n",
    "# t = time.process_time()\n",
    "sol = solver.Solve()\n",
    "# elapsed_time = time.process_time() - t\n",
    "print('Solver completed with return value %d.' % sol)"
   ]
  },
  {
   "cell_type": "markdown",
   "metadata": {},
   "source": [
    "> **To do:** If not returned 0, throw an error.\n",
    "\n",
    "I guess `sol == 0` means that the solver correctly solved. Values of $1$ or $2$ mean something else."
   ]
  },
  {
   "cell_type": "markdown",
   "metadata": {},
   "source": [
    "Print out the solution. We can print out more information about the constraints. What happens in `xlwings` when the python routine prints – does it go to the logs?"
   ]
  },
  {
   "cell_type": "code",
   "execution_count": 16,
   "metadata": {},
   "outputs": [
    {
     "name": "stdout",
     "output_type": "stream",
     "text": [
      "Total revenue = 0\n",
      "Total budget  = 0\n"
     ]
    }
   ],
   "source": [
    "report = [(channels[k], products[j], product_probs.name.iloc[i], x[i, j, k].solution_value()*cost[k],\n",
    "          x[i, j, k].solution_value()*factor[k]*productValue[j]*product_probs[products[j]].iloc[i]) \n",
    "          for i in range(num_customers) \n",
    "          for j in range(num_products) \n",
    "          for k in range(num_channels)  \n",
    "           if x[i, j, k].solution_value() > 0 # else 0\n",
    "         ]\n",
    "\n",
    "report_bd = pd.DataFrame(report, columns=['channel', 'product', 'customer', 'cost', 'revenue'])\n",
    "\n",
    "print('Total revenue = %d' % (solver.Objective().Value()))\n",
    "print('Total budget  = %d' % (report_bd['cost'].sum()) )\n",
    "\n",
    "\n",
    "\n",
    "# display(report_bd)"
   ]
  },
  {
   "cell_type": "markdown",
   "metadata": {},
   "source": [
    "Channel counts."
   ]
  },
  {
   "cell_type": "code",
   "execution_count": 17,
   "metadata": {},
   "outputs": [
    {
     "data": {
      "text/html": [
       "<div>\n",
       "<style scoped>\n",
       "    .dataframe tbody tr th:only-of-type {\n",
       "        vertical-align: middle;\n",
       "    }\n",
       "\n",
       "    .dataframe tbody tr th {\n",
       "        vertical-align: top;\n",
       "    }\n",
       "\n",
       "    .dataframe thead th {\n",
       "        text-align: right;\n",
       "    }\n",
       "</style>\n",
       "<table border=\"1\" class=\"dataframe\">\n",
       "  <thead>\n",
       "    <tr style=\"text-align: right;\">\n",
       "      <th></th>\n",
       "      <th></th>\n",
       "      <th>customer</th>\n",
       "      <th>cost</th>\n",
       "      <th>revenue</th>\n",
       "    </tr>\n",
       "    <tr>\n",
       "      <th>channel</th>\n",
       "      <th>product</th>\n",
       "      <th></th>\n",
       "      <th></th>\n",
       "      <th></th>\n",
       "    </tr>\n",
       "  </thead>\n",
       "  <tbody>\n",
       "  </tbody>\n",
       "</table>\n",
       "</div>"
      ],
      "text/plain": [
       "Empty DataFrame\n",
       "Columns: [customer, cost, revenue]\n",
       "Index: []"
      ]
     },
     "execution_count": 17,
     "metadata": {},
     "output_type": "execute_result"
    }
   ],
   "source": [
    "report_bd.groupby(['channel', 'product']).count()"
   ]
  },
  {
   "cell_type": "markdown",
   "metadata": {},
   "source": [
    "The sample has given us the rough outline of the optimization. Using these figures, replicate using non-linear minimization."
   ]
  },
  {
   "cell_type": "code",
   "execution_count": null,
   "metadata": {},
   "outputs": [],
   "source": [
    "n_obs_orig = num_customers\n",
    "n_obs_new = product_probs_all.shape[0]"
   ]
  },
  {
   "cell_type": "code",
   "execution_count": null,
   "metadata": {},
   "outputs": [],
   "source": [
    "product_probs = product_probs_all\n",
    "\n",
    "n_obs = product_probs.shape[0]\n",
    "\n",
    "adjustment_factor = n_obs/n_obs_orig\n",
    "availableBudget = availableBudget_total\n",
    "\n",
    "# product_probs.head()"
   ]
  },
  {
   "cell_type": "code",
   "execution_count": null,
   "metadata": {},
   "outputs": [],
   "source": [
    "num_customers = product_probs.shape[0]\n",
    "\n",
    "offer_scale = int(n_obs_new/n_obs_orig)\n",
    "\n",
    "# get the offers from the original optimization by product and channel\n",
    "sample_counts = pd.pivot_table(report_bd, index='channel', columns='product', values='customer', \n",
    "                                   aggfunc=len, fill_value=0)\n",
    "\n",
    "offers = sample_counts.stack()*offer_scale"
   ]
  },
  {
   "cell_type": "markdown",
   "metadata": {},
   "source": [
    "The variable `offers` has a MultiIndex. We want this for the `product_profit` data frame. We can construct it from `channels` and `products`."
   ]
  },
  {
   "cell_type": "code",
   "execution_count": null,
   "metadata": {},
   "outputs": [],
   "source": [
    "# offers_ndx = pd.MultiIndex.from_product([channels, products], names=['channel', 'product'])\n",
    "product_profit = pd.DataFrame(index=product_probs.index, columns=offers.index)"
   ]
  },
  {
   "cell_type": "code",
   "execution_count": null,
   "metadata": {},
   "outputs": [],
   "source": [
    "for ch in offers.index.get_level_values('channel').unique():\n",
    "    for pr in offers.index.get_level_values('product').unique():\n",
    "        product_profit.loc[:, (ch, pr)] = product_probs[pr]*productValue[pr]\n",
    "        product_profit.loc[:, (ch, pr)] = product_profit.loc[:, (ch, pr)]*factor[ch]\n",
    "        "
   ]
  },
  {
   "cell_type": "markdown",
   "metadata": {},
   "source": [
    "# The world of R\n",
    "\n",
    "As of yet, the non-linear minimization in Python has not worked properly, but it _has_ with R and `nlm()`. Until I can get it to work, the workaround is to use `rpy2` to run R from Python.\n",
    "\n",
    "> **To do:** Get the non-linear minimization right in Python.\n",
    "\n",
    "Import the requisite libraries."
   ]
  },
  {
   "cell_type": "code",
   "execution_count": null,
   "metadata": {},
   "outputs": [],
   "source": [
    "import rpy2.robjects as robjects"
   ]
  },
  {
   "cell_type": "code",
   "execution_count": null,
   "metadata": {},
   "outputs": [],
   "source": [
    "from rpy2.robjects.packages import importr\n",
    "# import R's \"base\" package\n",
    "base = importr('base')\n",
    "\n",
    "# import R's \"utils\" package\n",
    "utils = importr('utils')\n",
    "stats = importr('stats')\n",
    "data_table = importr('data.table')"
   ]
  },
  {
   "cell_type": "code",
   "execution_count": null,
   "metadata": {},
   "outputs": [],
   "source": [
    "# select a mirror for R packages\n",
    "# utils.chooseCRANmirror(ind=1) # select the first mirror in the list"
   ]
  },
  {
   "cell_type": "markdown",
   "metadata": {},
   "source": [
    "Install packages using R's `install.package`. (I should not have to do this again.)"
   ]
  },
  {
   "cell_type": "code",
   "execution_count": null,
   "metadata": {},
   "outputs": [],
   "source": [
    "# R package names\n",
    "# packnames = ('magrittr', 'dplyr', 'data.table', 'dtplyr', 'stringr')\n",
    "\n",
    "# R vector of strings\n",
    "# from rpy2.robjects.vectors import StrVector\n",
    "\n",
    "# Selectively install what needs to be install.\n",
    "# We are fancy, just because we can.\n",
    "# for x in packnames:\n",
    "#    if not(rpackages.isinstalled(x)):\n",
    "#        utils.install_packages(StrVector(names_to_install))"
   ]
  },
  {
   "cell_type": "markdown",
   "metadata": {},
   "source": [
    "All I need to run in R is the non-linear minimization, and whatever is needed to supply the appropiate data. Here is the original R code.\n",
    "\n",
    "### The dual function (R)\n",
    "\n",
    "```\n",
    "            dual <- function(u, pp, offers) {\n",
    "              if (dim(pp)[2] != length(u)) {\n",
    "                print(c(dim(pp)[2], length(u)))\n",
    "                stop(\"Mismatched dimensions\")\n",
    "                }\n",
    "              d <- sweep(pp, 2, u)\n",
    "              v <- apply(d, 1, max) \n",
    "              v[v < 0] <- 0\n",
    "              y <- offers%*%u + sum(v)\n",
    "              y\n",
    "            }\n",
    "```\n",
    "\n",
    "### The optimisation (R)\n",
    "\n",
    "```{r}\n",
    "u_init <- offers*0\n",
    "out <- nlm(dual, p=u_init, pp=product_profit, offers=offers, print.level = 1)\n",
    "```\n",
    "\n",
    "### Getting the solution (R)\n",
    "\n",
    "```{r}\n",
    "mindual <- out$minimum\n",
    "u <- out$estimate\n",
    "mindual\n",
    "u\n",
    "```"
   ]
  },
  {
   "cell_type": "code",
   "execution_count": null,
   "metadata": {},
   "outputs": [],
   "source": [
    "robjects.r('''\n",
    "        # create a function `dual`\n",
    "            dual <- function(u, pp, offers) {\n",
    "              if (dim(pp)[2] != length(u)) {\n",
    "                print(c(dim(pp)[2], length(u)))\n",
    "                stop(\"Mismatched dimensions\")\n",
    "                }\n",
    "              d <- sweep(pp, 2, u)\n",
    "              v <- apply(d, 1, max) \n",
    "              v[v < 0] <- 0\n",
    "              y <- offers%*%u + sum(v)\n",
    "              y\n",
    "            }\n",
    "        ''')"
   ]
  },
  {
   "cell_type": "markdown",
   "metadata": {},
   "source": [
    "### Test the new function\n",
    "\n",
    "To do this, need to create the `product_profit` array in R.\n",
    "\n",
    "Import the required libraries and activate the interface between R and `pandas`."
   ]
  },
  {
   "cell_type": "code",
   "execution_count": null,
   "metadata": {},
   "outputs": [],
   "source": [
    "from rpy2.robjects import r, pandas2ri\n",
    "pandas2ri.activate()"
   ]
  },
  {
   "cell_type": "code",
   "execution_count": null,
   "metadata": {},
   "outputs": [],
   "source": [
    "pp_columns = product_profit.columns # if I need them"
   ]
  },
  {
   "cell_type": "code",
   "execution_count": null,
   "metadata": {},
   "outputs": [],
   "source": [
    "product_profit.to_csv('temp_product_profit.csv', index=False, header=False)"
   ]
  },
  {
   "cell_type": "code",
   "execution_count": null,
   "metadata": {},
   "outputs": [],
   "source": [
    "r_product_profit = data_table.fread('temp_product_profit.csv')"
   ]
  },
  {
   "cell_type": "code",
   "execution_count": null,
   "metadata": {},
   "outputs": [],
   "source": [
    "# u_test = robjects.FloatVector([11.2, 15, 6.02, 19.5, 0, 4.98, 2.23, 7.75, 50.2, 23.2, 9.09, 35.2])\n",
    "r_offers = robjects.IntVector(offers)"
   ]
  },
  {
   "cell_type": "markdown",
   "metadata": {},
   "source": [
    "~~Test the dual function.~~"
   ]
  },
  {
   "cell_type": "code",
   "execution_count": null,
   "metadata": {},
   "outputs": [],
   "source": [
    "dual = robjects.r['dual']\n",
    "# dual(u_test, pp=r_product_profit, offers=r_offers)"
   ]
  },
  {
   "cell_type": "markdown",
   "metadata": {},
   "source": [
    "Perform the non-linear minimisation."
   ]
  },
  {
   "cell_type": "code",
   "execution_count": null,
   "metadata": {},
   "outputs": [],
   "source": [
    "u_init = robjects.FloatVector(offers*0)\n",
    "r_out = stats.nlm(dual, p=u_init, pp=r_product_profit, offers=r_offers, print_level=1)"
   ]
  },
  {
   "cell_type": "markdown",
   "metadata": {},
   "source": [
    "Extract the estimate of $u$."
   ]
  },
  {
   "cell_type": "code",
   "execution_count": null,
   "metadata": {},
   "outputs": [],
   "source": [
    "r_u = r_out.rx('estimate')[0]\n",
    "\n",
    "u = [r_u[i] if abs(r_u[i]) > 1e-5 else 0 for i in range(len(r_u))] # ugly way to convert\n",
    "\n",
    "d = product_profit.sub(u) \n",
    "v = d.max(axis = 1)\n",
    "v[v<0] = 0\n",
    "ndx = np.argsort(-v)\n",
    "d['customerid'] = d.index"
   ]
  },
  {
   "cell_type": "markdown",
   "metadata": {},
   "source": [
    "## Allocate the optimised solution to customers"
   ]
  },
  {
   "cell_type": "code",
   "execution_count": null,
   "metadata": {},
   "outputs": [],
   "source": [
    "d_melt = pd.melt(d, id_vars=['customerid']).sort_values(by=['customerid', 'value'], ascending=[True, False])\n",
    "\n",
    "# Delete the offers from `d_melt` where already completely allocated.\n",
    "\n",
    "allocated_counts = offers*0\n",
    "\n",
    "offers_include = offers[allocated_counts < offers]\n",
    "offers_include_df = pd.DataFrame(offers_include)\n",
    "offers_include_df.reset_index(inplace=True)\n",
    "\n",
    "d_melt = d_melt.merge(offers_include_df[['channel', 'product']], on=['channel', 'product'])"
   ]
  },
  {
   "cell_type": "markdown",
   "metadata": {},
   "source": [
    "Create the initial allocation using the maximum value in each group. Will need to update `d_melt` once the first offer has been fully allocated."
   ]
  },
  {
   "cell_type": "code",
   "execution_count": null,
   "metadata": {},
   "outputs": [],
   "source": [
    "allocated_counts = offers*0\n",
    "\n",
    "\n",
    "# d_melt.groupby(['variable']).agg({'value':'first'}).head()\n",
    "\n",
    "# d_alloc = d_melt.groupby(['customerid']).first().sort_values(by=['value'], ascending=False)\n",
    "d_alloc = d_melt.sort_values('value', ascending=False).drop_duplicates('customerid')\n",
    "\n",
    "alloc_list = []\n"
   ]
  },
  {
   "cell_type": "markdown",
   "metadata": {},
   "source": [
    "Repeat the next part until every offer in `offers` is allocated."
   ]
  },
  {
   "cell_type": "code",
   "execution_count": null,
   "metadata": {},
   "outputs": [],
   "source": [
    "counter = 0 # not sure where this goes yet\n",
    "old_counter = counter\n",
    "failsafe_threshold = 20000\n",
    "failsafe = 0\n",
    "\n",
    "while any(allocated_counts < offers): # could be no more offers to allocate\n",
    "    offers_to_alloc = (allocated_counts < offers)\n",
    "    \n",
    "    # allocate while we haven't hit the limit for one of the offers\n",
    "    while all((allocated_counts < offers) == (offers_to_alloc)):\n",
    "        selected_offer = d_alloc.iloc[counter - old_counter]\n",
    "        allocated_counts.loc[(selected_offer['channel'], selected_offer['product'])] += 1\n",
    "        counter += 1\n",
    "#     print(allocated_counts)      \n",
    "    # note: selected_offer will contain the offer that has just been completely allocated!!\n",
    "    print(selected_offer)\n",
    "    \n",
    "    ## allocate the selected offers\n",
    "    \n",
    "    print(counter, old_counter)\n",
    "    d_alloc_select = d_alloc.iloc[[i for i in range(counter - old_counter)]]\n",
    "    alloc_list.append(d_alloc_select)\n",
    "    old_counter = counter\n",
    "    \n",
    "    ## delete the selected records from d_melt\n",
    "    rows_to_keep = np.invert(d_melt.customerid.isin(d_alloc_select.customerid))\n",
    "    d_melt = d_melt[rows_to_keep]\n",
    "    \n",
    "    ## delete the selected offers from the data frame\n",
    "    offers_include = offers[allocated_counts < offers]\n",
    "    offers_include_df = pd.DataFrame(offers_include)\n",
    "    offers_include_df.reset_index(inplace=True)\n",
    "\n",
    "    d_melt = d_melt.merge(offers_include_df[['channel', 'product']], on=['channel', 'product'])\n",
    "    \n",
    "    d_alloc = d_melt.sort_values('value', ascending=False).drop_duplicates('customerid')\n",
    "    \n",
    "    ## create the allocation data frame\n",
    "    \n",
    "    failsafe += 1\n",
    "    if failsafe > failsafe_threshold:\n",
    "        break # to protect against logic errors causing an infinite loop\n",
    "    \n"
   ]
  },
  {
   "cell_type": "markdown",
   "metadata": {},
   "source": [
    "Concatenate the allocation files to create the final allocation."
   ]
  },
  {
   "cell_type": "code",
   "execution_count": null,
   "metadata": {},
   "outputs": [],
   "source": [
    "final_allocation = pd.concat(alloc_list)\n",
    "final_allocation = final_allocation.reset_index(drop=True)"
   ]
  },
  {
   "cell_type": "markdown",
   "metadata": {},
   "source": [
    "## Calculate the profit and cost"
   ]
  },
  {
   "cell_type": "code",
   "execution_count": null,
   "metadata": {},
   "outputs": [],
   "source": [
    "product_profit_allocated = pd.merge(pd.melt(product_profit.reset_index(), id_vars='customerid'), \n",
    "         final_allocation.drop('value', axis=1), on=['customerid', 'channel', 'product'], how=\"inner\")"
   ]
  },
  {
   "cell_type": "code",
   "execution_count": null,
   "metadata": {},
   "outputs": [],
   "source": [
    "channel_costs = pd.DataFrame(cost).reset_index()\n"
   ]
  },
  {
   "cell_type": "code",
   "execution_count": null,
   "metadata": {},
   "outputs": [],
   "source": [
    "product_profit_allocated = pd.merge(product_profit_allocated, channel_costs, on='channel', how='left')\n"
   ]
  },
  {
   "cell_type": "code",
   "execution_count": null,
   "metadata": {},
   "outputs": [],
   "source": [
    "def my_agg(df):\n",
    "    names = {\n",
    "        'offers':  df['value'].count(),\n",
    "        'revenue': df['value'].sum(),\n",
    "        'expenditure': df['cost'].sum()\n",
    "    }\n",
    "    return pd.Series(names, index=['offers', 'revenue', 'expenditure'])"
   ]
  },
  {
   "cell_type": "code",
   "execution_count": null,
   "metadata": {},
   "outputs": [],
   "source": [
    "def summarize_benefits(df, grouper=None):\n",
    "    if grouper == None:\n",
    "        df['Total'] = 'Total'\n",
    "        grouper = 'Total'\n",
    "    df_grouped = df.groupby(grouper).apply(my_agg) \n",
    "    df_grouped['ROI'] = df_grouped['revenue']/df_grouped['expenditure']\n",
    "#     df_grouped['investigations closed'].apply(lambda x: x if x > 0 else 1)\n",
    "\n",
    "#     inv_formats = {\n",
    "#         'offers': '{:,.0f}',\n",
    "#         'revenue': '${:,.0f}',\n",
    "#         'expenditure': '${:,.0f}',\n",
    "#         'ROI': '{:.1%}'\n",
    "#     }\n",
    "\n",
    "#     return df_grouped.style.format(inv_formats)\n",
    "    return df_grouped\n",
    "\n",
    "## There should be a better way of doing this, as I am referencing each of these multiple times."
   ]
  },
  {
   "cell_type": "code",
   "execution_count": null,
   "metadata": {},
   "outputs": [],
   "source": [
    "ppa_total = summarize_benefits(product_profit_allocated)\n",
    "ppa_channel = summarize_benefits(product_profit_allocated, 'channel')\n",
    "ppa_product = summarize_benefits(product_profit_allocated, 'product')"
   ]
  },
  {
   "cell_type": "markdown",
   "metadata": {},
   "source": [
    "Write to sheet `data_python`."
   ]
  },
  {
   "cell_type": "code",
   "execution_count": null,
   "metadata": {},
   "outputs": [],
   "source": [
    "data_python_sheet = wb.sheets['data_total']\n",
    "data_channel_sheet = wb.sheets['data_channel']\n",
    "data_product_sheet = wb.sheets['data_product']"
   ]
  },
  {
   "cell_type": "code",
   "execution_count": null,
   "metadata": {},
   "outputs": [],
   "source": [
    "data_python_sheet.range('A1').value = ppa_total\n",
    "data_channel_sheet.range('A1').value = ppa_channel\n",
    "data_product_sheet.range('A1').value = ppa_product"
   ]
  },
  {
   "cell_type": "markdown",
   "metadata": {},
   "source": [
    "## The end (for now)\n",
    "\n",
    "> **To do**: write customer file in Excel or to file if large."
   ]
  },
  {
   "cell_type": "code",
   "execution_count": null,
   "metadata": {},
   "outputs": [],
   "source": []
  },
  {
   "cell_type": "code",
   "execution_count": null,
   "metadata": {},
   "outputs": [],
   "source": []
  },
  {
   "cell_type": "code",
   "execution_count": null,
   "metadata": {},
   "outputs": [],
   "source": []
  },
  {
   "cell_type": "code",
   "execution_count": null,
   "metadata": {},
   "outputs": [],
   "source": [
    "pp_agg = product_profit_allocated.agg(aggregation)\n",
    "pp_agg"
   ]
  },
  {
   "cell_type": "code",
   "execution_count": null,
   "metadata": {},
   "outputs": [],
   "source": [
    "pp_channel = product_profit_allocated.groupby('channel').agg(aggregation)\n",
    "pp_channel.columns = pp_channel.columns.droplevel(level=0)\n",
    "pp_channel.rename(columns={\"sum\":\"revenue\", \"sum\":\"expenditure\", \"count\":\"offers\"})\n",
    "pp_channel\n",
    "# pp_agg.rename(columns={\"min\": \"min_duration\", \"max\": \"max_duration\", \"mean\": \"mean_duration\"})\n"
   ]
  },
  {
   "cell_type": "markdown",
   "metadata": {},
   "source": [
    "Write to the named range."
   ]
  },
  {
   "cell_type": "code",
   "execution_count": null,
   "metadata": {},
   "outputs": [],
   "source": [
    "sht.range(\"test_value\").value = test_value + 1\n",
    "sht.range(\"test_value\").value"
   ]
  },
  {
   "cell_type": "code",
   "execution_count": null,
   "metadata": {},
   "outputs": [],
   "source": [
    "sht.range('A1').value = [['Foo 1', 'Foo 2', 'Foo 3'], [10.0, 20.0, 30.0]]\n",
    "sht.range('A1').expand().value"
   ]
  },
  {
   "cell_type": "markdown",
   "metadata": {},
   "source": [
    "**Powerful converters** handle most data types of interest, including Numpy arrays and Pandas DataFrames in both directions:"
   ]
  },
  {
   "cell_type": "code",
   "execution_count": null,
   "metadata": {},
   "outputs": [],
   "source": [
    "import pandas as pd\n",
    "df = pd.DataFrame([[1,2], [3,4]], columns=['a', 'b'])\n",
    "sht.range('A1').value = df\n",
    "sht.range('A1').options(pd.DataFrame, expand='table').value"
   ]
  },
  {
   "cell_type": "markdown",
   "metadata": {},
   "source": [
    "**Matplotlib figures** can be shown as pictures in Excel:"
   ]
  },
  {
   "cell_type": "code",
   "execution_count": null,
   "metadata": {},
   "outputs": [],
   "source": [
    "import matplotlib.pyplot as plt\n",
    "fig = plt.figure()\n",
    "plt.plot([1, 2, 3, 4, 5])\n",
    "sht.pictures.add(fig, name='MyPlot', update=True)"
   ]
  },
  {
   "cell_type": "markdown",
   "metadata": {},
   "source": [
    "Shortcut for the active sheet: `xw.Range`\n",
    "\n",
    "If you want to quickly talk to the active sheet in the active workbook, you don’t need instantiate a workbook and sheet object, but can simply do:"
   ]
  },
  {
   "cell_type": "code",
   "execution_count": null,
   "metadata": {},
   "outputs": [],
   "source": [
    "xw.Range('A1').value = 'Foo'\n",
    "xw.Range('A1').value\n",
    "'Foo'"
   ]
  },
  {
   "cell_type": "markdown",
   "metadata": {},
   "source": [
    "## 2. Macros: Call Python from Excel\n",
    "\n"
   ]
  }
 ],
 "metadata": {
  "kernelspec": {
   "display_name": "Python 3",
   "language": "python",
   "name": "python3"
  },
  "language_info": {
   "codemirror_mode": {
    "name": "ipython",
    "version": 3
   },
   "file_extension": ".py",
   "mimetype": "text/x-python",
   "name": "python",
   "nbconvert_exporter": "python",
   "pygments_lexer": "ipython3",
   "version": "3.6.4"
  }
 },
 "nbformat": 4,
 "nbformat_minor": 2
}
