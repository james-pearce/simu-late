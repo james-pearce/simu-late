{
 "cells": [
  {
   "cell_type": "markdown",
   "metadata": {},
   "source": [
    "# Generate dummy marketing campaign data\n",
    "\n",
    "Set the number of records; the idea is to find where the capacity of the procedures is."
   ]
  },
  {
   "cell_type": "code",
   "execution_count": 1,
   "metadata": {},
   "outputs": [],
   "source": [
    "import pandas\n",
    "import numpy\n",
    "import matplotlib.pyplot as plt\n",
    "%matplotlib inline"
   ]
  },
  {
   "cell_type": "markdown",
   "metadata": {},
   "source": [
    "Read in the offers data, originally from IBM and massaged. It gives the probability of taking an offer by each customer."
   ]
  },
  {
   "cell_type": "markdown",
   "metadata": {},
   "source": [
    "We have four product types:\n",
    "\n",
    "  * car loan\n",
    "  * savings\n",
    "  * mortgage\n",
    "  * pension\n",
    "  \n",
    "In the original IBM data, there was no data for car loans."
   ]
  },
  {
   "cell_type": "code",
   "execution_count": 2,
   "metadata": {},
   "outputs": [
    {
     "data": {
      "text/html": [
       "<div>\n",
       "<style scoped>\n",
       "    .dataframe tbody tr th:only-of-type {\n",
       "        vertical-align: middle;\n",
       "    }\n",
       "\n",
       "    .dataframe tbody tr th {\n",
       "        vertical-align: top;\n",
       "    }\n",
       "\n",
       "    .dataframe thead th {\n",
       "        text-align: right;\n",
       "    }\n",
       "</style>\n",
       "<table border=\"1\" class=\"dataframe\">\n",
       "  <thead>\n",
       "    <tr style=\"text-align: right;\">\n",
       "      <th></th>\n",
       "      <th>Car loan</th>\n",
       "      <th>Savings</th>\n",
       "      <th>Mortgage</th>\n",
       "      <th>Pension</th>\n",
       "      <th>customerid</th>\n",
       "      <th>name</th>\n",
       "    </tr>\n",
       "  </thead>\n",
       "  <tbody>\n",
       "    <tr>\n",
       "      <th>0</th>\n",
       "      <td>0</td>\n",
       "      <td>0.28391</td>\n",
       "      <td>0.00000</td>\n",
       "      <td>0.80506</td>\n",
       "      <td>139068</td>\n",
       "      <td>Sandra J. Wynkoop</td>\n",
       "    </tr>\n",
       "    <tr>\n",
       "      <th>1</th>\n",
       "      <td>0</td>\n",
       "      <td>0.00000</td>\n",
       "      <td>0.10675</td>\n",
       "      <td>0.13221</td>\n",
       "      <td>139154</td>\n",
       "      <td>Roland Guérette</td>\n",
       "    </tr>\n",
       "    <tr>\n",
       "      <th>2</th>\n",
       "      <td>0</td>\n",
       "      <td>0.00000</td>\n",
       "      <td>0.10675</td>\n",
       "      <td>0.13221</td>\n",
       "      <td>139158</td>\n",
       "      <td>Fabien Mailhot</td>\n",
       "    </tr>\n",
       "    <tr>\n",
       "      <th>3</th>\n",
       "      <td>0</td>\n",
       "      <td>0.00000</td>\n",
       "      <td>0.10675</td>\n",
       "      <td>0.13221</td>\n",
       "      <td>139169</td>\n",
       "      <td>Christian Austerlitz</td>\n",
       "    </tr>\n",
       "    <tr>\n",
       "      <th>4</th>\n",
       "      <td>0</td>\n",
       "      <td>0.00000</td>\n",
       "      <td>0.10675</td>\n",
       "      <td>0.13221</td>\n",
       "      <td>139220</td>\n",
       "      <td>Steffen Meister</td>\n",
       "    </tr>\n",
       "  </tbody>\n",
       "</table>\n",
       "</div>"
      ],
      "text/plain": [
       "   Car loan  Savings  Mortgage  Pension  customerid                  name\n",
       "0         0  0.28391   0.00000  0.80506      139068     Sandra J. Wynkoop\n",
       "1         0  0.00000   0.10675  0.13221      139154       Roland Guérette\n",
       "2         0  0.00000   0.10675  0.13221      139158        Fabien Mailhot\n",
       "3         0  0.00000   0.10675  0.13221      139169  Christian Austerlitz\n",
       "4         0  0.00000   0.10675  0.13221      139220       Steffen Meister"
      ]
     },
     "execution_count": 2,
     "metadata": {},
     "output_type": "execute_result"
    }
   ],
   "source": [
    "import pandas\n",
    "\n",
    "product_probs = pandas.read_csv('offers_ibm_pivot.csv')\n",
    "product_probs['Car loan'] = 0\n",
    "product_probs = product_probs[['Car loan', 'Savings', 'Mortgage', 'Pension', 'customerid', 'name']]\n",
    "product_probs.head()"
   ]
  },
  {
   "cell_type": "markdown",
   "metadata": {},
   "source": [
    "Plot a histogram of the probabilities by product."
   ]
  },
  {
   "cell_type": "markdown",
   "metadata": {},
   "source": [
    "### Savings"
   ]
  },
  {
   "cell_type": "code",
   "execution_count": 3,
   "metadata": {},
   "outputs": [
    {
     "data": {
      "image/png": "[encoded data removed]",
      "text/plain": [
       "<Figure size 432x288 with 1 Axes>"
      ]
     },
     "metadata": {},
     "output_type": "display_data"
    }
   ],
   "source": [
    "for i in ['Savings', 'Mortgage', 'Pension']:\n",
    "    product_probs[product_probs[i] > 0][i].hist(bins=20)"
   ]
  },
  {
   "cell_type": "markdown",
   "metadata": {},
   "source": [
    "### Generate random things\n",
    "\n",
    "How many of each are non-zero?"
   ]
  },
  {
   "cell_type": "code",
   "execution_count": 4,
   "metadata": {},
   "outputs": [
    {
     "data": {
      "text/plain": [
       "Car loan       0\n",
       "Savings       11\n",
       "Mortgage      17\n",
       "Pension       26\n",
       "customerid    27\n",
       "name          27\n",
       "dtype: int64"
      ]
     },
     "execution_count": 4,
     "metadata": {},
     "output_type": "execute_result"
    }
   ],
   "source": [
    "product_probs.astype(bool).sum(axis=0)"
   ]
  },
  {
   "cell_type": "code",
   "execution_count": 39,
   "metadata": {},
   "outputs": [
    {
     "data": {
      "text/html": [
       "<div>\n",
       "<style scoped>\n",
       "    .dataframe tbody tr th:only-of-type {\n",
       "        vertical-align: middle;\n",
       "    }\n",
       "\n",
       "    .dataframe tbody tr th {\n",
       "        vertical-align: top;\n",
       "    }\n",
       "\n",
       "    .dataframe thead th {\n",
       "        text-align: right;\n",
       "    }\n",
       "</style>\n",
       "<table border=\"1\" class=\"dataframe\">\n",
       "  <thead>\n",
       "    <tr style=\"text-align: right;\">\n",
       "      <th></th>\n",
       "      <th>name</th>\n",
       "      <th>Car loan</th>\n",
       "      <th>Savings</th>\n",
       "      <th>Mortgage</th>\n",
       "      <th>Pension</th>\n",
       "    </tr>\n",
       "  </thead>\n",
       "  <tbody>\n",
       "    <tr>\n",
       "      <th>0</th>\n",
       "      <td>Matthew Harvey</td>\n",
       "      <td>0.000000</td>\n",
       "      <td>0.000000</td>\n",
       "      <td>0.000000</td>\n",
       "      <td>0.000000</td>\n",
       "    </tr>\n",
       "    <tr>\n",
       "      <th>1</th>\n",
       "      <td>Joshua Wilcox</td>\n",
       "      <td>0.000000</td>\n",
       "      <td>0.000000</td>\n",
       "      <td>0.179932</td>\n",
       "      <td>0.000000</td>\n",
       "    </tr>\n",
       "    <tr>\n",
       "      <th>2</th>\n",
       "      <td>Yolanda Vasquez</td>\n",
       "      <td>0.330731</td>\n",
       "      <td>0.580556</td>\n",
       "      <td>0.000000</td>\n",
       "      <td>0.000000</td>\n",
       "    </tr>\n",
       "    <tr>\n",
       "      <th>3</th>\n",
       "      <td>Jessica Alvarado</td>\n",
       "      <td>0.000000</td>\n",
       "      <td>0.630242</td>\n",
       "      <td>0.509746</td>\n",
       "      <td>0.000000</td>\n",
       "    </tr>\n",
       "    <tr>\n",
       "      <th>4</th>\n",
       "      <td>Gregory Martinez</td>\n",
       "      <td>0.000000</td>\n",
       "      <td>0.320511</td>\n",
       "      <td>0.000000</td>\n",
       "      <td>0.288832</td>\n",
       "    </tr>\n",
       "  </tbody>\n",
       "</table>\n",
       "</div>"
      ],
      "text/plain": [
       "               name  Car loan   Savings  Mortgage   Pension\n",
       "0    Matthew Harvey  0.000000  0.000000  0.000000  0.000000\n",
       "1     Joshua Wilcox  0.000000  0.000000  0.179932  0.000000\n",
       "2   Yolanda Vasquez  0.330731  0.580556  0.000000  0.000000\n",
       "3  Jessica Alvarado  0.000000  0.630242  0.509746  0.000000\n",
       "4  Gregory Martinez  0.000000  0.320511  0.000000  0.288832"
      ]
     },
     "execution_count": 39,
     "metadata": {},
     "output_type": "execute_result"
    }
   ],
   "source": [
    "from faker import Faker\n",
    "numpy.random.seed(1435)\n",
    "\n",
    "products = ['Car loan', 'Savings', 'Mortgage', 'Pension']\n",
    "nonZero_probs = [0.2, 11/27, 17/27, 12/27]\n",
    "mode_values = [0.5, 0.8, 0.2, 0.4]\n",
    "n_obs = 10000\n",
    "\n",
    "fake = Faker('en_AU')\n",
    "\n",
    "sample_product = pandas.DataFrame(index=range(0, n_obs))\n",
    "sample_product['name'] = sample_product.index.map(lambda x: fake.name())\n",
    "for i in range(len(products)):\n",
    "    sample_product[products[i]] = numpy.random.triangular(0, mode_values[i], 1, \n",
    "                                                         sample_product.shape[0])\n",
    "    sample_product[products[i]] = numpy.where(numpy.random.uniform(size=sample_product.shape[0]) > nonZero_probs[i], 0, \n",
    "           sample_product[products[i]])\n",
    "\n",
    "sample_product.head()"
   ]
  },
  {
   "cell_type": "code",
   "execution_count": 40,
   "metadata": {},
   "outputs": [],
   "source": [
    "sample_product.to_csv('sample_data_10000.csv')"
   ]
  }
 ],
 "metadata": {
  "kernelspec": {
   "display_name": "Python 3",
   "language": "python",
   "name": "python3"
  },
  "language_info": {
   "codemirror_mode": {
    "name": "ipython",
    "version": 3
   },
   "file_extension": ".py",
   "mimetype": "text/x-python",
   "name": "python",
   "nbconvert_exporter": "python",
   "pygments_lexer": "ipython3",
   "version": "3.6.4"
  }
 },
 "nbformat": 4,
 "nbformat_minor": 2
}
